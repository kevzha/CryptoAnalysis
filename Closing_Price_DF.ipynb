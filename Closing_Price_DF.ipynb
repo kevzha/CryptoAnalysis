{
 "cells": [
  {
   "cell_type": "code",
   "execution_count": null,
   "metadata": {},
   "outputs": [],
   "source": []
  },
  {
   "cell_type": "code",
   "execution_count": 1,
   "metadata": {},
   "outputs": [],
   "source": [
    "import pandas as pd\n",
    "import matplotlib.pyplot as plt\n",
    "import seaborn as sns"
   ]
  },
  {
   "cell_type": "code",
   "execution_count": 2,
   "metadata": {},
   "outputs": [],
   "source": [
    "BTC = pd.read_csv('BTC_reshaped.csv').drop(['Unnamed: 0'], axis=1)\n",
    "ETH = pd.read_csv('ETH_reshaped.csv').drop(['Unnamed: 0'], axis=1)\n",
    "XRP = pd.read_csv('XRP_reshaped.csv').drop(['Unnamed: 0'], axis=1)\n",
    "DOGE = pd.read_csv('DOGE.csv').drop(['Unnamed: 0'], axis=1)\n",
    "VET = pd.read_csv('VET.csv').drop(['Unnamed: 0'], axis=1)\n",
    "TUSD = pd.read_csv('TUSD.csv').drop(['Unnamed: 0'], axis=1)\n",
    "XVG = pd.read_csv('XVG.csv').drop(['Unnamed: 0'], axis=1)\n",
    "AE = pd.read_csv('AE.csv').drop(['Unnamed: 0'], axis=1)\n",
    "STRAT = pd.read_csv('STRAT.csv').drop(['Unnamed: 0'], axis=1)\n",
    "LRC = pd.read_csv('LRC.csv').drop(['Unnamed: 0'], axis=1)\n",
    "AOA = pd.read_csv('AOA.csv').drop(['Unnamed: 0'], axis=1)\n",
    "QNT = pd.read_csv('QNT.csv').drop(['Unnamed: 0'], axis=1)\n",
    "WAN = pd.read_csv('WAN_reshaped.csv').drop(['Unnamed: 0'], axis=1).drop(['Unnamed: 0.1'], axis=1)\n",
    "ELA = pd.read_csv('ELA_reshaped.csv').drop(['Unnamed: 0'], axis=1).drop(['Unnamed: 0.1'], axis=1)\n",
    "KCS = pd.read_csv('KCS_reshaped.csv').drop(['Unnamed: 0'], axis=1).drop(['Unnamed: 0.1'], axis=1)"
   ]
  },
  {
   "cell_type": "code",
   "execution_count": 14,
   "metadata": {},
   "outputs": [
    {
     "data": {
      "text/plain": [
       "Index(['Date', 'Open(USD)', 'High(USD)', 'Low(USD)', 'Close(USD)', 'Volume',\n",
       "       'Market Cap(USD)', 'Close Percent Change'],\n",
       "      dtype='object')"
      ]
     },
     "execution_count": 14,
     "metadata": {},
     "output_type": "execute_result"
    }
   ],
   "source": [
    "BTC.columns"
   ]
  },
  {
   "cell_type": "code",
   "execution_count": 17,
   "metadata": {},
   "outputs": [
    {
     "data": {
      "text/plain": [
       "Index(['Date', 'Open*', 'High', 'Low', 'Close**', 'Volume', 'Market Cap',\n",
       "       'Close Percent Change'],\n",
       "      dtype='object')"
      ]
     },
     "execution_count": 17,
     "metadata": {},
     "output_type": "execute_result"
    }
   ],
   "source": [
    "VET.columns"
   ]
  },
  {
   "cell_type": "code",
   "execution_count": null,
   "metadata": {},
   "outputs": [],
   "source": []
  },
  {
   "cell_type": "code",
   "execution_count": 18,
   "metadata": {},
   "outputs": [],
   "source": [
    "BTC = BTC.rename(columns={'Close(USD)': \"C1\"})\n",
    "ETH = ETH.rename(columns={'Close(USD)': \"C2\"})\n",
    "XRP = XRP.rename(columns={'Close(USD)': \"C3\"})\n",
    "DOGE = DOGE.rename(columns={'Close(USD)': \"C4\"})\n",
    "VET = VET.rename(columns={'Close**': \"C5\"})\n",
    "TUSD = TUSD.rename(columns={'Close**': \"C6\"})\n",
    "XVG = XVG.rename(columns={'Close**': \"C7\"})\n",
    "AE = AE.rename(columns={'Close**': \"C8\"})\n",
    "STRAT = STRAT.rename(columns={'Close**': \"C9\"})\n",
    "LRC = LRC.rename(columns={'Close**': \"C10\"})\n",
    "AOA = AOA.rename(columns={'Close**': \"C11\"})\n",
    "QNT = QNT.rename(columns={'Close**': \"C12\"})\n",
    "WAN = WAN.rename(columns={'Close**': \"C13\"})\n",
    "ELA = ELA.rename(columns={'Close**': \"C14\"})\n",
    "KCS = KCS.rename(columns={'Close**': \"C15\"})"
   ]
  },
  {
   "cell_type": "code",
   "execution_count": 19,
   "metadata": {},
   "outputs": [],
   "source": [
    "closing_price = pd.concat([BTC.loc[:, ['Date']], BTC.loc[:, ['C1']],\n",
    "                        ETH.loc[:, ['C2']], XRP.loc[:, ['C3']],\n",
    "                        DOGE.loc[:, ['C4']], VET.loc[:, ['C5']],\n",
    "                        TUSD.loc[:, ['C6']], XVG.loc[:, ['C7']],\n",
    "                        AE.loc[:, ['C8']], STRAT.loc[:, ['C9']],\n",
    "                        LRC.loc[:, ['C10']], AOA.loc[:, ['C11']],\n",
    "                        QNT.loc[:, ['C12']], WAN.loc[:, ['C13']],\n",
    "                        ELA.loc[:, ['C14']], KCS.loc[:, ['C15']]], axis=1, join_axes=[BTC.index])                           \n",
    "                           \n",
    "                           "
   ]
  },
  {
   "cell_type": "code",
   "execution_count": 21,
   "metadata": {},
   "outputs": [
    {
     "data": {
      "text/html": [
       "<div>\n",
       "<style scoped>\n",
       "    .dataframe tbody tr th:only-of-type {\n",
       "        vertical-align: middle;\n",
       "    }\n",
       "\n",
       "    .dataframe tbody tr th {\n",
       "        vertical-align: top;\n",
       "    }\n",
       "\n",
       "    .dataframe thead th {\n",
       "        text-align: right;\n",
       "    }\n",
       "</style>\n",
       "<table border=\"1\" class=\"dataframe\">\n",
       "  <thead>\n",
       "    <tr style=\"text-align: right;\">\n",
       "      <th></th>\n",
       "      <th>Date</th>\n",
       "      <th>C1</th>\n",
       "      <th>C2</th>\n",
       "      <th>C3</th>\n",
       "      <th>C4</th>\n",
       "      <th>C5</th>\n",
       "      <th>C6</th>\n",
       "      <th>C7</th>\n",
       "      <th>C8</th>\n",
       "      <th>C9</th>\n",
       "      <th>C10</th>\n",
       "      <th>C11</th>\n",
       "      <th>C12</th>\n",
       "      <th>C13</th>\n",
       "      <th>C14</th>\n",
       "      <th>C15</th>\n",
       "    </tr>\n",
       "  </thead>\n",
       "  <tbody>\n",
       "    <tr>\n",
       "      <th>0</th>\n",
       "      <td>2019-02-11</td>\n",
       "      <td>3643.486916</td>\n",
       "      <td>121.159210</td>\n",
       "      <td>0.304300</td>\n",
       "      <td>0.001972</td>\n",
       "      <td>0.003909</td>\n",
       "      <td>1.01</td>\n",
       "      <td>0.005994</td>\n",
       "      <td>0.387543</td>\n",
       "      <td>0.820662</td>\n",
       "      <td>0.053827</td>\n",
       "      <td>0.007514</td>\n",
       "      <td>3.99</td>\n",
       "      <td>0.293568</td>\n",
       "      <td>2.25</td>\n",
       "      <td>0.360186</td>\n",
       "    </tr>\n",
       "    <tr>\n",
       "      <th>1</th>\n",
       "      <td>2019-02-10</td>\n",
       "      <td>3686.977610</td>\n",
       "      <td>124.950229</td>\n",
       "      <td>0.308912</td>\n",
       "      <td>0.001989</td>\n",
       "      <td>0.004044</td>\n",
       "      <td>1.02</td>\n",
       "      <td>0.006171</td>\n",
       "      <td>0.394485</td>\n",
       "      <td>0.818007</td>\n",
       "      <td>0.055287</td>\n",
       "      <td>0.007180</td>\n",
       "      <td>4.64</td>\n",
       "      <td>0.291913</td>\n",
       "      <td>2.36</td>\n",
       "      <td>0.370683</td>\n",
       "    </tr>\n",
       "    <tr>\n",
       "      <th>2</th>\n",
       "      <td>2019-02-09</td>\n",
       "      <td>3665.169880</td>\n",
       "      <td>119.776270</td>\n",
       "      <td>0.310646</td>\n",
       "      <td>0.002009</td>\n",
       "      <td>0.004006</td>\n",
       "      <td>1.01</td>\n",
       "      <td>0.006130</td>\n",
       "      <td>0.401183</td>\n",
       "      <td>0.803968</td>\n",
       "      <td>0.054550</td>\n",
       "      <td>0.008425</td>\n",
       "      <td>4.24</td>\n",
       "      <td>0.289930</td>\n",
       "      <td>2.28</td>\n",
       "      <td>0.373724</td>\n",
       "    </tr>\n",
       "    <tr>\n",
       "      <th>3</th>\n",
       "      <td>2019-02-08</td>\n",
       "      <td>3658.389649</td>\n",
       "      <td>119.653788</td>\n",
       "      <td>0.312029</td>\n",
       "      <td>0.001969</td>\n",
       "      <td>0.003966</td>\n",
       "      <td>1.01</td>\n",
       "      <td>0.006052</td>\n",
       "      <td>0.392337</td>\n",
       "      <td>0.817695</td>\n",
       "      <td>0.055106</td>\n",
       "      <td>0.008070</td>\n",
       "      <td>4.14</td>\n",
       "      <td>0.292698</td>\n",
       "      <td>2.30</td>\n",
       "      <td>0.368694</td>\n",
       "    </tr>\n",
       "    <tr>\n",
       "      <th>4</th>\n",
       "      <td>2019-02-07</td>\n",
       "      <td>3390.505404</td>\n",
       "      <td>104.173485</td>\n",
       "      <td>0.291644</td>\n",
       "      <td>0.001931</td>\n",
       "      <td>0.003694</td>\n",
       "      <td>1.01</td>\n",
       "      <td>0.005644</td>\n",
       "      <td>0.362809</td>\n",
       "      <td>0.751636</td>\n",
       "      <td>0.051812</td>\n",
       "      <td>0.007548</td>\n",
       "      <td>2.95</td>\n",
       "      <td>0.272198</td>\n",
       "      <td>2.11</td>\n",
       "      <td>0.348911</td>\n",
       "    </tr>\n",
       "  </tbody>\n",
       "</table>\n",
       "</div>"
      ],
      "text/plain": [
       "         Date           C1          C2        C3        C4        C5    C6  \\\n",
       "0  2019-02-11  3643.486916  121.159210  0.304300  0.001972  0.003909  1.01   \n",
       "1  2019-02-10  3686.977610  124.950229  0.308912  0.001989  0.004044  1.02   \n",
       "2  2019-02-09  3665.169880  119.776270  0.310646  0.002009  0.004006  1.01   \n",
       "3  2019-02-08  3658.389649  119.653788  0.312029  0.001969  0.003966  1.01   \n",
       "4  2019-02-07  3390.505404  104.173485  0.291644  0.001931  0.003694  1.01   \n",
       "\n",
       "         C7        C8        C9       C10       C11   C12       C13   C14  \\\n",
       "0  0.005994  0.387543  0.820662  0.053827  0.007514  3.99  0.293568  2.25   \n",
       "1  0.006171  0.394485  0.818007  0.055287  0.007180  4.64  0.291913  2.36   \n",
       "2  0.006130  0.401183  0.803968  0.054550  0.008425  4.24  0.289930  2.28   \n",
       "3  0.006052  0.392337  0.817695  0.055106  0.008070  4.14  0.292698  2.30   \n",
       "4  0.005644  0.362809  0.751636  0.051812  0.007548  2.95  0.272198  2.11   \n",
       "\n",
       "        C15  \n",
       "0  0.360186  \n",
       "1  0.370683  \n",
       "2  0.373724  \n",
       "3  0.368694  \n",
       "4  0.348911  "
      ]
     },
     "execution_count": 21,
     "metadata": {},
     "output_type": "execute_result"
    }
   ],
   "source": [
    "closing_price.head()"
   ]
  },
  {
   "cell_type": "code",
   "execution_count": 22,
   "metadata": {},
   "outputs": [
    {
     "ename": "NameError",
     "evalue": "name 'pct_change' is not defined",
     "output_type": "error",
     "traceback": [
      "\u001b[0;31m---------------------------------------------------------------------------\u001b[0m",
      "\u001b[0;31mNameError\u001b[0m                                 Traceback (most recent call last)",
      "\u001b[0;32m<ipython-input-22-01bf85edeb50>\u001b[0m in \u001b[0;36m<module>\u001b[0;34m\u001b[0m\n\u001b[0;32m----> 1\u001b[0;31m pct_change = pct_change.rename(columns={ pct_change.columns[1]: \"BTC Closing Price\", \n\u001b[0m\u001b[1;32m      2\u001b[0m                                         \u001b[0mpct_change\u001b[0m\u001b[0;34m.\u001b[0m\u001b[0mcolumns\u001b[0m\u001b[0;34m[\u001b[0m\u001b[0;36m2\u001b[0m\u001b[0;34m]\u001b[0m\u001b[0;34m:\u001b[0m \u001b[0;34m\"ETH Closing Price\"\u001b[0m\u001b[0;34m,\u001b[0m\u001b[0;34m\u001b[0m\u001b[0;34m\u001b[0m\u001b[0m\n\u001b[1;32m      3\u001b[0m                                        \u001b[0mpct_change\u001b[0m\u001b[0;34m.\u001b[0m\u001b[0mcolumns\u001b[0m\u001b[0;34m[\u001b[0m\u001b[0;36m3\u001b[0m\u001b[0;34m]\u001b[0m\u001b[0;34m:\u001b[0m \u001b[0;34m\"XRP Closing Price\"\u001b[0m\u001b[0;34m,\u001b[0m\u001b[0;34m\u001b[0m\u001b[0;34m\u001b[0m\u001b[0m\n\u001b[1;32m      4\u001b[0m                                         \u001b[0mpct_change\u001b[0m\u001b[0;34m.\u001b[0m\u001b[0mcolumns\u001b[0m\u001b[0;34m[\u001b[0m\u001b[0;36m4\u001b[0m\u001b[0;34m]\u001b[0m\u001b[0;34m:\u001b[0m \u001b[0;34m\"DOGE Closing Price\"\u001b[0m\u001b[0;34m,\u001b[0m\u001b[0;34m\u001b[0m\u001b[0;34m\u001b[0m\u001b[0m\n\u001b[1;32m      5\u001b[0m                                         \u001b[0mpct_change\u001b[0m\u001b[0;34m.\u001b[0m\u001b[0mcolumns\u001b[0m\u001b[0;34m[\u001b[0m\u001b[0;36m5\u001b[0m\u001b[0;34m]\u001b[0m\u001b[0;34m:\u001b[0m \u001b[0;34m\"VET Closing Price\"\u001b[0m\u001b[0;34m,\u001b[0m\u001b[0;34m\u001b[0m\u001b[0;34m\u001b[0m\u001b[0m\n",
      "\u001b[0;31mNameError\u001b[0m: name 'pct_change' is not defined"
     ]
    }
   ],
   "source": [
    "pct_change = pct_change.rename(columns={ pct_change.columns[1]: \"BTC Closing Price\", \n",
    "                                        pct_change.columns[2]: \"ETH Closing Price\",\n",
    "                                       pct_change.columns[3]: \"XRP Closing Price\",\n",
    "                                        pct_change.columns[4]: \"DOGE Closing Price\",\n",
    "                                        pct_change.columns[5]: \"VET Closing Price\",\n",
    "                                        pct_change.columns[6]: \"TUSD Closing Price\",\n",
    "                                        pct_change.columns[7]: \"XVG Closing Price\",\n",
    "                                        pct_change.columns[8]: \"AE Closing Price\",\n",
    "                                        pct_change.columns[9]: \"STRAT Closing Price\",\n",
    "                                        pct_change.columns[10]: \"LRC Closing Price\",\n",
    "                                        pct_change.columns[11]: \"AOA Closing Price\",\n",
    "                                        pct_change.columns[12]: \"QNT Closing Price\",\n",
    "                                        pct_change.columns[13]: \"WAN Closing Price\",\n",
    "                                       pct_change.columns[14]: \"ELA Closing Price\",\n",
    "                                       pct_change.columns[15]: \"KCS Closing Price\"})"
   ]
  },
  {
   "cell_type": "code",
   "execution_count": null,
   "metadata": {},
   "outputs": [],
   "source": []
  }
 ],
 "metadata": {
  "kernelspec": {
   "display_name": "Python 3",
   "language": "python",
   "name": "python3"
  },
  "language_info": {
   "codemirror_mode": {
    "name": "ipython",
    "version": 3
   },
   "file_extension": ".py",
   "mimetype": "text/x-python",
   "name": "python",
   "nbconvert_exporter": "python",
   "pygments_lexer": "ipython3",
   "version": "3.7.1"
  }
 },
 "nbformat": 4,
 "nbformat_minor": 2
}
