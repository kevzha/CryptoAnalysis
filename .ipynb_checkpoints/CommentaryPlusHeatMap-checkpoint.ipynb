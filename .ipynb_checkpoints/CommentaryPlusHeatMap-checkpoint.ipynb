{
 "cells": [
  {
   "cell_type": "code",
   "execution_count": 12,
   "metadata": {},
   "outputs": [],
   "source": [
    "import pandas as pd\n",
    "\n",
    "pctchg= pd.read_csv(\"Pct_change_t3_b3.csv\").drop(pctchg.columns[0], axis=1)"
   ]
  },
  {
   "cell_type": "code",
   "execution_count": 19,
   "metadata": {},
   "outputs": [],
   "source": [
    "import seaborn as sns"
   ]
  },
  {
   "cell_type": "code",
   "execution_count": 18,
   "metadata": {},
   "outputs": [
    {
     "data": {
      "text/html": [
       "<div>\n",
       "<style scoped>\n",
       "    .dataframe tbody tr th:only-of-type {\n",
       "        vertical-align: middle;\n",
       "    }\n",
       "\n",
       "    .dataframe tbody tr th {\n",
       "        vertical-align: top;\n",
       "    }\n",
       "\n",
       "    .dataframe thead th {\n",
       "        text-align: right;\n",
       "    }\n",
       "</style>\n",
       "<table border=\"1\" class=\"dataframe\">\n",
       "  <thead>\n",
       "    <tr style=\"text-align: right;\">\n",
       "      <th></th>\n",
       "      <th>Date</th>\n",
       "      <th>BTC Pct Change</th>\n",
       "      <th>ETH Pct Change</th>\n",
       "      <th>XRP Pct Change</th>\n",
       "      <th>WAN Pct Change</th>\n",
       "      <th>ELA Pct Change</th>\n",
       "      <th>KCS Pct Change</th>\n",
       "    </tr>\n",
       "  </thead>\n",
       "  <tbody>\n",
       "    <tr>\n",
       "      <th>0</th>\n",
       "      <td>2019-02-11</td>\n",
       "      <td>-0.011796</td>\n",
       "      <td>-0.030340</td>\n",
       "      <td>-0.014931</td>\n",
       "      <td>-0.005855</td>\n",
       "      <td>0.056338</td>\n",
       "      <td>0.033865</td>\n",
       "    </tr>\n",
       "    <tr>\n",
       "      <th>1</th>\n",
       "      <td>2019-02-10</td>\n",
       "      <td>0.005950</td>\n",
       "      <td>0.043197</td>\n",
       "      <td>-0.005581</td>\n",
       "      <td>-0.005638</td>\n",
       "      <td>0.048889</td>\n",
       "      <td>0.029143</td>\n",
       "    </tr>\n",
       "    <tr>\n",
       "      <th>2</th>\n",
       "      <td>2019-02-09</td>\n",
       "      <td>0.001853</td>\n",
       "      <td>0.001024</td>\n",
       "      <td>-0.004431</td>\n",
       "      <td>-0.006793</td>\n",
       "      <td>-0.033898</td>\n",
       "      <td>0.008204</td>\n",
       "    </tr>\n",
       "    <tr>\n",
       "      <th>3</th>\n",
       "      <td>2019-02-08</td>\n",
       "      <td>0.079010</td>\n",
       "      <td>0.148601</td>\n",
       "      <td>0.069894</td>\n",
       "      <td>0.009547</td>\n",
       "      <td>0.008772</td>\n",
       "      <td>-0.013459</td>\n",
       "    </tr>\n",
       "    <tr>\n",
       "      <th>4</th>\n",
       "      <td>2019-02-07</td>\n",
       "      <td>-0.004367</td>\n",
       "      <td>-0.003487</td>\n",
       "      <td>0.007248</td>\n",
       "      <td>-0.070038</td>\n",
       "      <td>-0.082609</td>\n",
       "      <td>-0.053657</td>\n",
       "    </tr>\n",
       "  </tbody>\n",
       "</table>\n",
       "</div>"
      ],
      "text/plain": [
       "         Date  BTC Pct Change  ETH Pct Change  XRP Pct Change  WAN Pct Change  \\\n",
       "0  2019-02-11       -0.011796       -0.030340       -0.014931       -0.005855   \n",
       "1  2019-02-10        0.005950        0.043197       -0.005581       -0.005638   \n",
       "2  2019-02-09        0.001853        0.001024       -0.004431       -0.006793   \n",
       "3  2019-02-08        0.079010        0.148601        0.069894        0.009547   \n",
       "4  2019-02-07       -0.004367       -0.003487        0.007248       -0.070038   \n",
       "\n",
       "   ELA Pct Change  KCS Pct Change  \n",
       "0        0.056338        0.033865  \n",
       "1        0.048889        0.029143  \n",
       "2       -0.033898        0.008204  \n",
       "3        0.008772       -0.013459  \n",
       "4       -0.082609       -0.053657  "
      ]
     },
     "execution_count": 18,
     "metadata": {},
     "output_type": "execute_result"
    }
   ],
   "source": [
    "pctchg.head()"
   ]
  },
  {
   "cell_type": "code",
   "execution_count": 9,
   "metadata": {},
   "outputs": [
    {
     "data": {
      "text/plain": [
       "Index(['Unnamed: 0', 'Date', 'BTC Pct Change', 'ETH Pct Change',\n",
       "       'XRP Pct Change', 'WAN Pct Change', 'ELA Pct Change', 'KCS Pct Change'],\n",
       "      dtype='object')"
      ]
     },
     "execution_count": 9,
     "metadata": {},
     "output_type": "execute_result"
    }
   ],
   "source": [
    "pctchg.columns"
   ]
  },
  {
   "cell_type": "code",
   "execution_count": 10,
   "metadata": {},
   "outputs": [
    {
     "data": {
      "text/plain": [
       "'Unnamed: 0'"
      ]
     },
     "execution_count": 10,
     "metadata": {},
     "output_type": "execute_result"
    }
   ],
   "source": [
    "pctchg.columns[0]"
   ]
  },
  {
   "cell_type": "code",
   "execution_count": 21,
   "metadata": {},
   "outputs": [],
   "source": [
    "corrpctchg = pctchg.corr()"
   ]
  },
  {
   "cell_type": "code",
   "execution_count": null,
   "metadata": {},
   "outputs": [],
   "source": []
  },
  {
   "cell_type": "markdown",
   "metadata": {},
   "source": [
    "Based on an initial inspection of the correlation matrix, it seems that the top 3 are coins are more correlated with each other, and the bottom 3 are more correlated with eachother.\n",
    "There does not seem to be a discernible or significant relationship between the top 3 coins and the bottom three coins."
   ]
  },
  {
   "cell_type": "markdown",
   "metadata": {},
   "source": [
    "### Would be interesting to plot out more coins perhaps picking several coins from the top 100 but more spreadout through out the ranking, perhaps choosing 5 coins from each quartile."
   ]
  },
  {
   "cell_type": "code",
   "execution_count": null,
   "metadata": {},
   "outputs": [],
   "source": [
    "sns.heatmap(corr, \n",
    "        xticklabels=corr.columns,\n",
    "        yticklabels=corr.columns)"
   ]
  }
 ],
 "metadata": {
  "kernelspec": {
   "display_name": "Python [conda env:root]",
   "language": "python",
   "name": "conda-root-py"
  },
  "language_info": {
   "codemirror_mode": {
    "name": "ipython",
    "version": 3
   },
   "file_extension": ".py",
   "mimetype": "text/x-python",
   "name": "python",
   "nbconvert_exporter": "python",
   "pygments_lexer": "ipython3",
   "version": "3.7.1"
  }
 },
 "nbformat": 4,
 "nbformat_minor": 2
}
