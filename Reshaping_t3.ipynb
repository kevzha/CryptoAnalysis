{
 "cells": [
  {
   "cell_type": "code",
   "execution_count": 57,
   "metadata": {},
   "outputs": [],
   "source": [
    "import pandas as pd\n",
    "import matplotlib.pyplot as plt\n",
    "import numpy as np\n"
   ]
  },
  {
   "cell_type": "markdown",
   "metadata": {},
   "source": [
    "Comparison t3 vs b3 percent changes: \n",
    "if both positive = TRUE ----how close of %change \n",
    "if both negative = TRUE ----how close of %change \n",
    "if opposite = FALSE\n",
    "\n"
   ]
  },
  {
   "cell_type": "code",
   "execution_count": 58,
   "metadata": {},
   "outputs": [],
   "source": [
    "BTC = pd.read_csv('BTC.csv').drop(['Unnamed: 0'], axis=1)\n",
    "ETH = pd.read_csv('ETH.csv').drop(['Unnamed: 0'], axis=1)\n",
    "XRP = pd.read_csv('XRP.csv').drop(['Unnamed: 0'], axis=1)"
   ]
  },
  {
   "cell_type": "code",
   "execution_count": null,
   "metadata": {},
   "outputs": [],
   "source": []
  },
  {
   "cell_type": "code",
   "execution_count": 67,
   "metadata": {},
   "outputs": [],
   "source": [
    "BTC = BTC.reindex(index=BTC.index[::-1])\n",
    "ETH = ETH.reindex(index=ETH.index[::-1])\n",
    "XRP = XRP.reindex(index=XRP.index[::-1])"
   ]
  },
  {
   "cell_type": "code",
   "execution_count": 68,
   "metadata": {},
   "outputs": [
    {
     "data": {
      "text/plain": [
       "((1779, 8), (1285, 8), (1691, 8))"
      ]
     },
     "execution_count": 68,
     "metadata": {},
     "output_type": "execute_result"
    }
   ],
   "source": [
    "BTC.shape, ETH.shape, XRP.shape"
   ]
  },
  {
   "cell_type": "code",
   "execution_count": 88,
   "metadata": {},
   "outputs": [],
   "source": [
    "BTC_reshaped = BTC.drop(BTC.index[326:]).drop(BTC.index[0])\n",
    "ETH_reshaped = ETH.drop(ETH.index[326:]).drop(ETH.index[0])\n",
    "XRP_reshaped = XRP.drop(XRP.index[326:]).drop(XRP.index[0])"
   ]
  },
  {
   "cell_type": "code",
   "execution_count": 92,
   "metadata": {},
   "outputs": [],
   "source": [
    "BTC_reshaped.to_csv('BTC_reshaped.csv')\n",
    "ETH_reshaped.to_csv('ETH_reshaped.csv')\n",
    "XRP_reshaped.to_csv('XRP_reshaped.csv')"
   ]
  },
  {
   "cell_type": "code",
   "execution_count": null,
   "metadata": {},
   "outputs": [],
   "source": []
  }
 ],
 "metadata": {
  "kernelspec": {
   "display_name": "Python 3",
   "language": "python",
   "name": "python3"
  },
  "language_info": {
   "codemirror_mode": {
    "name": "ipython",
    "version": 3
   },
   "file_extension": ".py",
   "mimetype": "text/x-python",
   "name": "python",
   "nbconvert_exporter": "python",
   "pygments_lexer": "ipython3",
   "version": "3.7.1"
  }
 },
 "nbformat": 4,
 "nbformat_minor": 2
}
