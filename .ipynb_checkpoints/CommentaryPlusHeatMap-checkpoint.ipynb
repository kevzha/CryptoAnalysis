{
 "cells": [
  {
   "cell_type": "code",
   "execution_count": 4,
   "metadata": {},
   "outputs": [],
   "source": [
    "import pandas as pd\n",
    "import matplotlib.pyplot as plt\n",
    "\n",
    "pctchg= pd.read_csv(\"Pct_change_t3_b3.csv\").drop(pctchg.columns[0], axis=1)"
   ]
  },
  {
   "cell_type": "code",
   "execution_count": 5,
   "metadata": {},
   "outputs": [],
   "source": [
    "import seaborn as sns"
   ]
  },
  {
   "cell_type": "code",
   "execution_count": 6,
   "metadata": {},
   "outputs": [
    {
     "data": {
      "text/html": [
       "<div>\n",
       "<style scoped>\n",
       "    .dataframe tbody tr th:only-of-type {\n",
       "        vertical-align: middle;\n",
       "    }\n",
       "\n",
       "    .dataframe tbody tr th {\n",
       "        vertical-align: top;\n",
       "    }\n",
       "\n",
       "    .dataframe thead th {\n",
       "        text-align: right;\n",
       "    }\n",
       "</style>\n",
       "<table border=\"1\" class=\"dataframe\">\n",
       "  <thead>\n",
       "    <tr style=\"text-align: right;\">\n",
       "      <th></th>\n",
       "      <th>Date</th>\n",
       "      <th>BTC Pct Change</th>\n",
       "      <th>ETH Pct Change</th>\n",
       "      <th>XRP Pct Change</th>\n",
       "      <th>WAN Pct Change</th>\n",
       "      <th>ELA Pct Change</th>\n",
       "      <th>KCS Pct Change</th>\n",
       "    </tr>\n",
       "  </thead>\n",
       "  <tbody>\n",
       "    <tr>\n",
       "      <th>0</th>\n",
       "      <td>2019-02-11</td>\n",
       "      <td>-0.011796</td>\n",
       "      <td>-0.030340</td>\n",
       "      <td>-0.014931</td>\n",
       "      <td>-0.005855</td>\n",
       "      <td>0.056338</td>\n",
       "      <td>0.033865</td>\n",
       "    </tr>\n",
       "    <tr>\n",
       "      <th>1</th>\n",
       "      <td>2019-02-10</td>\n",
       "      <td>0.005950</td>\n",
       "      <td>0.043197</td>\n",
       "      <td>-0.005581</td>\n",
       "      <td>-0.005638</td>\n",
       "      <td>0.048889</td>\n",
       "      <td>0.029143</td>\n",
       "    </tr>\n",
       "    <tr>\n",
       "      <th>2</th>\n",
       "      <td>2019-02-09</td>\n",
       "      <td>0.001853</td>\n",
       "      <td>0.001024</td>\n",
       "      <td>-0.004431</td>\n",
       "      <td>-0.006793</td>\n",
       "      <td>-0.033898</td>\n",
       "      <td>0.008204</td>\n",
       "    </tr>\n",
       "    <tr>\n",
       "      <th>3</th>\n",
       "      <td>2019-02-08</td>\n",
       "      <td>0.079010</td>\n",
       "      <td>0.148601</td>\n",
       "      <td>0.069894</td>\n",
       "      <td>0.009547</td>\n",
       "      <td>0.008772</td>\n",
       "      <td>-0.013459</td>\n",
       "    </tr>\n",
       "    <tr>\n",
       "      <th>4</th>\n",
       "      <td>2019-02-07</td>\n",
       "      <td>-0.004367</td>\n",
       "      <td>-0.003487</td>\n",
       "      <td>0.007248</td>\n",
       "      <td>-0.070038</td>\n",
       "      <td>-0.082609</td>\n",
       "      <td>-0.053657</td>\n",
       "    </tr>\n",
       "  </tbody>\n",
       "</table>\n",
       "</div>"
      ],
      "text/plain": [
       "         Date  BTC Pct Change  ETH Pct Change  XRP Pct Change  WAN Pct Change  \\\n",
       "0  2019-02-11       -0.011796       -0.030340       -0.014931       -0.005855   \n",
       "1  2019-02-10        0.005950        0.043197       -0.005581       -0.005638   \n",
       "2  2019-02-09        0.001853        0.001024       -0.004431       -0.006793   \n",
       "3  2019-02-08        0.079010        0.148601        0.069894        0.009547   \n",
       "4  2019-02-07       -0.004367       -0.003487        0.007248       -0.070038   \n",
       "\n",
       "   ELA Pct Change  KCS Pct Change  \n",
       "0        0.056338        0.033865  \n",
       "1        0.048889        0.029143  \n",
       "2       -0.033898        0.008204  \n",
       "3        0.008772       -0.013459  \n",
       "4       -0.082609       -0.053657  "
      ]
     },
     "execution_count": 6,
     "metadata": {},
     "output_type": "execute_result"
    }
   ],
   "source": [
    "pctchg.head()"
   ]
  },
  {
   "cell_type": "code",
   "execution_count": 7,
   "metadata": {},
   "outputs": [
    {
     "data": {
      "text/plain": [
       "Index(['Date', 'BTC Pct Change', 'ETH Pct Change', 'XRP Pct Change',\n",
       "       'WAN Pct Change', 'ELA Pct Change', 'KCS Pct Change'],\n",
       "      dtype='object')"
      ]
     },
     "execution_count": 7,
     "metadata": {},
     "output_type": "execute_result"
    }
   ],
   "source": [
    "pctchg.columns"
   ]
  },
  {
   "cell_type": "code",
   "execution_count": 8,
   "metadata": {},
   "outputs": [
    {
     "data": {
      "text/plain": [
       "'Date'"
      ]
     },
     "execution_count": 8,
     "metadata": {},
     "output_type": "execute_result"
    }
   ],
   "source": [
    "pctchg.columns[0]"
   ]
  },
  {
   "cell_type": "code",
   "execution_count": 9,
   "metadata": {},
   "outputs": [],
   "source": [
    "corrpctchg = pctchg.corr()"
   ]
  },
  {
   "cell_type": "code",
   "execution_count": 10,
   "metadata": {},
   "outputs": [
    {
     "data": {
      "text/html": [
       "<div>\n",
       "<style scoped>\n",
       "    .dataframe tbody tr th:only-of-type {\n",
       "        vertical-align: middle;\n",
       "    }\n",
       "\n",
       "    .dataframe tbody tr th {\n",
       "        vertical-align: top;\n",
       "    }\n",
       "\n",
       "    .dataframe thead th {\n",
       "        text-align: right;\n",
       "    }\n",
       "</style>\n",
       "<table border=\"1\" class=\"dataframe\">\n",
       "  <thead>\n",
       "    <tr style=\"text-align: right;\">\n",
       "      <th></th>\n",
       "      <th>BTC Pct Change</th>\n",
       "      <th>ETH Pct Change</th>\n",
       "      <th>XRP Pct Change</th>\n",
       "      <th>WAN Pct Change</th>\n",
       "      <th>ELA Pct Change</th>\n",
       "      <th>KCS Pct Change</th>\n",
       "    </tr>\n",
       "  </thead>\n",
       "  <tbody>\n",
       "    <tr>\n",
       "      <th>BTC Pct Change</th>\n",
       "      <td>1.000000</td>\n",
       "      <td>0.855741</td>\n",
       "      <td>0.697300</td>\n",
       "      <td>0.129002</td>\n",
       "      <td>-0.027533</td>\n",
       "      <td>0.118823</td>\n",
       "    </tr>\n",
       "    <tr>\n",
       "      <th>ETH Pct Change</th>\n",
       "      <td>0.855741</td>\n",
       "      <td>1.000000</td>\n",
       "      <td>0.791002</td>\n",
       "      <td>0.103295</td>\n",
       "      <td>-0.041738</td>\n",
       "      <td>0.078104</td>\n",
       "    </tr>\n",
       "    <tr>\n",
       "      <th>XRP Pct Change</th>\n",
       "      <td>0.697300</td>\n",
       "      <td>0.791002</td>\n",
       "      <td>1.000000</td>\n",
       "      <td>0.098726</td>\n",
       "      <td>-0.011652</td>\n",
       "      <td>0.066492</td>\n",
       "    </tr>\n",
       "    <tr>\n",
       "      <th>WAN Pct Change</th>\n",
       "      <td>0.129002</td>\n",
       "      <td>0.103295</td>\n",
       "      <td>0.098726</td>\n",
       "      <td>1.000000</td>\n",
       "      <td>0.653897</td>\n",
       "      <td>0.729233</td>\n",
       "    </tr>\n",
       "    <tr>\n",
       "      <th>ELA Pct Change</th>\n",
       "      <td>-0.027533</td>\n",
       "      <td>-0.041738</td>\n",
       "      <td>-0.011652</td>\n",
       "      <td>0.653897</td>\n",
       "      <td>1.000000</td>\n",
       "      <td>0.611055</td>\n",
       "    </tr>\n",
       "    <tr>\n",
       "      <th>KCS Pct Change</th>\n",
       "      <td>0.118823</td>\n",
       "      <td>0.078104</td>\n",
       "      <td>0.066492</td>\n",
       "      <td>0.729233</td>\n",
       "      <td>0.611055</td>\n",
       "      <td>1.000000</td>\n",
       "    </tr>\n",
       "  </tbody>\n",
       "</table>\n",
       "</div>"
      ],
      "text/plain": [
       "                BTC Pct Change  ETH Pct Change  XRP Pct Change  \\\n",
       "BTC Pct Change        1.000000        0.855741        0.697300   \n",
       "ETH Pct Change        0.855741        1.000000        0.791002   \n",
       "XRP Pct Change        0.697300        0.791002        1.000000   \n",
       "WAN Pct Change        0.129002        0.103295        0.098726   \n",
       "ELA Pct Change       -0.027533       -0.041738       -0.011652   \n",
       "KCS Pct Change        0.118823        0.078104        0.066492   \n",
       "\n",
       "                WAN Pct Change  ELA Pct Change  KCS Pct Change  \n",
       "BTC Pct Change        0.129002       -0.027533        0.118823  \n",
       "ETH Pct Change        0.103295       -0.041738        0.078104  \n",
       "XRP Pct Change        0.098726       -0.011652        0.066492  \n",
       "WAN Pct Change        1.000000        0.653897        0.729233  \n",
       "ELA Pct Change        0.653897        1.000000        0.611055  \n",
       "KCS Pct Change        0.729233        0.611055        1.000000  "
      ]
     },
     "execution_count": 10,
     "metadata": {},
     "output_type": "execute_result"
    }
   ],
   "source": [
    "corrpctchg"
   ]
  },
  {
   "cell_type": "markdown",
   "metadata": {},
   "source": [
    "Based on an initial inspection of the correlation matrix, it seems that the top 3 are coins are more correlated with each other, and the bottom 3 are more correlated with eachother.\n",
    "There does not seem to be a discernible or significant relationship between the top 3 coins and the bottom three coins."
   ]
  },
  {
   "cell_type": "markdown",
   "metadata": {},
   "source": [
    "### Would be interesting to plot out more coins perhaps picking several coins from the top 100 but more spreadout through out the ranking, perhaps choosing 5 coins from each quartile."
   ]
  },
  {
   "cell_type": "code",
   "execution_count": 23,
   "metadata": {},
   "outputs": [
    {
     "data": {
      "image/png": "[encoded data removed]",
      "text/plain": [
       "<Figure size 432x288 with 2 Axes>"
      ]
     },
     "metadata": {
      "needs_background": "light"
     },
     "output_type": "display_data"
    }
   ],
   "source": [
    "t3b3_heatmap = sns.heatmap(corrpctchg, \n",
    "        xticklabels=corrpctchg.columns,\n",
    "        yticklabels=corrpctchg.columns)\n",
    "plt.savefig('t3b3_heatmap.png', bbox_inches = 'tight', dpi = 400)"
   ]
  },
  {
   "cell_type": "code",
   "execution_count": null,
   "metadata": {},
   "outputs": [],
   "source": []
  }
 ],
 "metadata": {
  "kernelspec": {
   "display_name": "Python 3",
   "language": "python",
   "name": "python3"
  },
  "language_info": {
   "codemirror_mode": {
    "name": "ipython",
    "version": 3
   },
   "file_extension": ".py",
   "mimetype": "text/x-python",
   "name": "python",
   "nbconvert_exporter": "python",
   "pygments_lexer": "ipython3",
   "version": "3.7.1"
  }
 },
 "nbformat": 4,
 "nbformat_minor": 2
}
