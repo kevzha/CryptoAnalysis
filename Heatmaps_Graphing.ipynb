{
 "cells": [
  {
   "cell_type": "code",
   "execution_count": 1,
   "metadata": {},
   "outputs": [],
   "source": [
    "import pandas as pd\n",
    "import matplotlib.pyplot as plt\n",
    "import seaborn as sns\n",
    "import numpy as np\n",
    "%matplotlib inline"
   ]
  },
  {
   "cell_type": "code",
   "execution_count": 2,
   "metadata": {},
   "outputs": [],
   "source": [
    "pct_change = pd.read_csv('pct_change.csv').drop(['Unnamed: 0'], axis=1)\n",
    "closing_price = pd.read_csv('closing_price.csv').drop(['Unnamed: 0'], axis=1)"
   ]
  },
  {
   "cell_type": "code",
   "execution_count": 3,
   "metadata": {
    "scrolled": false
   },
   "outputs": [
    {
     "data": {
      "text/html": [
       "<div>\n",
       "<style scoped>\n",
       "    .dataframe tbody tr th:only-of-type {\n",
       "        vertical-align: middle;\n",
       "    }\n",
       "\n",
       "    .dataframe tbody tr th {\n",
       "        vertical-align: top;\n",
       "    }\n",
       "\n",
       "    .dataframe thead th {\n",
       "        text-align: right;\n",
       "    }\n",
       "</style>\n",
       "<table border=\"1\" class=\"dataframe\">\n",
       "  <thead>\n",
       "    <tr style=\"text-align: right;\">\n",
       "      <th></th>\n",
       "      <th>BTC Pct Change</th>\n",
       "      <th>ETH Pct Change</th>\n",
       "      <th>XRP Pct Change</th>\n",
       "      <th>DOGE Pct Change</th>\n",
       "      <th>VET Pct Change</th>\n",
       "      <th>TUSD Pct Change</th>\n",
       "      <th>XVG Pct Change</th>\n",
       "      <th>AE Pct Change</th>\n",
       "      <th>STRAT Pct Change</th>\n",
       "      <th>LRC Pct Change</th>\n",
       "      <th>AOA Pct Change</th>\n",
       "      <th>QNT Pct Change</th>\n",
       "      <th>WAN Pct Change</th>\n",
       "      <th>ELA Pct Change</th>\n",
       "      <th>KCS Pct Change</th>\n",
       "    </tr>\n",
       "  </thead>\n",
       "  <tbody>\n",
       "    <tr>\n",
       "      <th>BTC Pct Change</th>\n",
       "      <td>1.000000</td>\n",
       "      <td>0.855741</td>\n",
       "      <td>0.697300</td>\n",
       "      <td>-0.078785</td>\n",
       "      <td>0.095384</td>\n",
       "      <td>-0.075980</td>\n",
       "      <td>0.044327</td>\n",
       "      <td>0.025264</td>\n",
       "      <td>0.054739</td>\n",
       "      <td>0.046071</td>\n",
       "      <td>-0.000532</td>\n",
       "      <td>0.008974</td>\n",
       "      <td>0.129002</td>\n",
       "      <td>-0.027533</td>\n",
       "      <td>0.118823</td>\n",
       "    </tr>\n",
       "    <tr>\n",
       "      <th>ETH Pct Change</th>\n",
       "      <td>0.855741</td>\n",
       "      <td>1.000000</td>\n",
       "      <td>0.791002</td>\n",
       "      <td>-0.039082</td>\n",
       "      <td>0.104965</td>\n",
       "      <td>-0.104911</td>\n",
       "      <td>0.043741</td>\n",
       "      <td>-0.012214</td>\n",
       "      <td>0.029268</td>\n",
       "      <td>0.023231</td>\n",
       "      <td>-0.101668</td>\n",
       "      <td>0.042799</td>\n",
       "      <td>0.103295</td>\n",
       "      <td>-0.041738</td>\n",
       "      <td>0.078104</td>\n",
       "    </tr>\n",
       "    <tr>\n",
       "      <th>XRP Pct Change</th>\n",
       "      <td>0.697300</td>\n",
       "      <td>0.791002</td>\n",
       "      <td>1.000000</td>\n",
       "      <td>-0.060630</td>\n",
       "      <td>0.106824</td>\n",
       "      <td>-0.101668</td>\n",
       "      <td>0.039387</td>\n",
       "      <td>0.019705</td>\n",
       "      <td>0.027951</td>\n",
       "      <td>-0.005309</td>\n",
       "      <td>0.009208</td>\n",
       "      <td>-0.002645</td>\n",
       "      <td>0.098726</td>\n",
       "      <td>-0.011652</td>\n",
       "      <td>0.066492</td>\n",
       "    </tr>\n",
       "    <tr>\n",
       "      <th>DOGE Pct Change</th>\n",
       "      <td>-0.078785</td>\n",
       "      <td>-0.039082</td>\n",
       "      <td>-0.060630</td>\n",
       "      <td>1.000000</td>\n",
       "      <td>0.296134</td>\n",
       "      <td>-0.049113</td>\n",
       "      <td>0.350803</td>\n",
       "      <td>0.394442</td>\n",
       "      <td>0.398586</td>\n",
       "      <td>0.400400</td>\n",
       "      <td>0.178935</td>\n",
       "      <td>0.209940</td>\n",
       "      <td>0.354794</td>\n",
       "      <td>0.359511</td>\n",
       "      <td>0.327990</td>\n",
       "    </tr>\n",
       "    <tr>\n",
       "      <th>VET Pct Change</th>\n",
       "      <td>0.095384</td>\n",
       "      <td>0.104965</td>\n",
       "      <td>0.106824</td>\n",
       "      <td>0.296134</td>\n",
       "      <td>1.000000</td>\n",
       "      <td>-0.148982</td>\n",
       "      <td>0.781889</td>\n",
       "      <td>0.663877</td>\n",
       "      <td>0.700831</td>\n",
       "      <td>0.697115</td>\n",
       "      <td>0.233623</td>\n",
       "      <td>0.304655</td>\n",
       "      <td>0.847470</td>\n",
       "      <td>0.666362</td>\n",
       "      <td>0.724109</td>\n",
       "    </tr>\n",
       "  </tbody>\n",
       "</table>\n",
       "</div>"
      ],
      "text/plain": [
       "                 BTC Pct Change  ETH Pct Change  XRP Pct Change  \\\n",
       "BTC Pct Change         1.000000        0.855741        0.697300   \n",
       "ETH Pct Change         0.855741        1.000000        0.791002   \n",
       "XRP Pct Change         0.697300        0.791002        1.000000   \n",
       "DOGE Pct Change       -0.078785       -0.039082       -0.060630   \n",
       "VET Pct Change         0.095384        0.104965        0.106824   \n",
       "\n",
       "                 DOGE Pct Change  VET Pct Change  TUSD Pct Change  \\\n",
       "BTC Pct Change         -0.078785        0.095384        -0.075980   \n",
       "ETH Pct Change         -0.039082        0.104965        -0.104911   \n",
       "XRP Pct Change         -0.060630        0.106824        -0.101668   \n",
       "DOGE Pct Change         1.000000        0.296134        -0.049113   \n",
       "VET Pct Change          0.296134        1.000000        -0.148982   \n",
       "\n",
       "                 XVG Pct Change  AE Pct Change  STRAT Pct Change  \\\n",
       "BTC Pct Change         0.044327       0.025264          0.054739   \n",
       "ETH Pct Change         0.043741      -0.012214          0.029268   \n",
       "XRP Pct Change         0.039387       0.019705          0.027951   \n",
       "DOGE Pct Change        0.350803       0.394442          0.398586   \n",
       "VET Pct Change         0.781889       0.663877          0.700831   \n",
       "\n",
       "                 LRC Pct Change  AOA Pct Change  QNT Pct Change  \\\n",
       "BTC Pct Change         0.046071       -0.000532        0.008974   \n",
       "ETH Pct Change         0.023231       -0.101668        0.042799   \n",
       "XRP Pct Change        -0.005309        0.009208       -0.002645   \n",
       "DOGE Pct Change        0.400400        0.178935        0.209940   \n",
       "VET Pct Change         0.697115        0.233623        0.304655   \n",
       "\n",
       "                 WAN Pct Change  ELA Pct Change  KCS Pct Change  \n",
       "BTC Pct Change         0.129002       -0.027533        0.118823  \n",
       "ETH Pct Change         0.103295       -0.041738        0.078104  \n",
       "XRP Pct Change         0.098726       -0.011652        0.066492  \n",
       "DOGE Pct Change        0.354794        0.359511        0.327990  \n",
       "VET Pct Change         0.847470        0.666362        0.724109  "
      ]
     },
     "execution_count": 3,
     "metadata": {},
     "output_type": "execute_result"
    }
   ],
   "source": [
    "pct_change.corr().head()"
   ]
  },
  {
   "cell_type": "code",
   "execution_count": 4,
   "metadata": {},
   "outputs": [
    {
     "data": {
      "text/plain": [
       "'2019-02-11'"
      ]
     },
     "execution_count": 4,
     "metadata": {},
     "output_type": "execute_result"
    }
   ],
   "source": [
    "closing_price['Date'][0]"
   ]
  },
  {
   "cell_type": "code",
   "execution_count": 5,
   "metadata": {},
   "outputs": [],
   "source": [
    "closing_price = closing_price[::-1]"
   ]
  },
  {
   "cell_type": "code",
   "execution_count": 7,
   "metadata": {},
   "outputs": [
    {
     "data": {
      "image/png": "[encoded data removed]",
      "text/plain": [
       "<Figure size 432x288 with 2 Axes>"
      ]
     },
     "metadata": {
      "needs_background": "light"
     },
     "output_type": "display_data"
    }
   ],
   "source": [
    "#heatmap of correlations\n",
    "t3b3_heatmap = sns.heatmap(pct_change.corr(), \n",
    "        xticklabels=pct_change.corr(),\n",
    "        yticklabels=pct_change.corr(), center= 1)\n",
    "plt.savefig('heatmappctwithvalues.png', bbox_inches = 'tight', dpi = 400)"
   ]
  },
  {
   "cell_type": "code",
   "execution_count": 8,
   "metadata": {
    "scrolled": true
   },
   "outputs": [
    {
     "data": {
      "text/html": [
       "<div>\n",
       "<style scoped>\n",
       "    .dataframe tbody tr th:only-of-type {\n",
       "        vertical-align: middle;\n",
       "    }\n",
       "\n",
       "    .dataframe tbody tr th {\n",
       "        vertical-align: top;\n",
       "    }\n",
       "\n",
       "    .dataframe thead th {\n",
       "        text-align: right;\n",
       "    }\n",
       "</style>\n",
       "<table border=\"1\" class=\"dataframe\">\n",
       "  <thead>\n",
       "    <tr style=\"text-align: right;\">\n",
       "      <th></th>\n",
       "      <th>Date</th>\n",
       "      <th>BTC Closing Price</th>\n",
       "      <th>ETH Closing Price</th>\n",
       "      <th>XRP Closing Price</th>\n",
       "      <th>DOGE Closing Price</th>\n",
       "      <th>VET Closing Price</th>\n",
       "      <th>TUSD Closing Price</th>\n",
       "      <th>XVG Closing Price</th>\n",
       "      <th>AE Closing Price</th>\n",
       "      <th>STRAT Closing Price</th>\n",
       "      <th>LRC Closing Price</th>\n",
       "      <th>AOA Closing Price</th>\n",
       "      <th>QNT Closing Price</th>\n",
       "      <th>WAN Closing Price</th>\n",
       "      <th>ELA Closing Price</th>\n",
       "      <th>KCS Closing Price</th>\n",
       "    </tr>\n",
       "  </thead>\n",
       "  <tbody>\n",
       "    <tr>\n",
       "      <th>39</th>\n",
       "      <td>2019-01-03</td>\n",
       "      <td>3851.629016</td>\n",
       "      <td>149.609988</td>\n",
       "      <td>0.359176</td>\n",
       "      <td>0.002488</td>\n",
       "      <td>0.004051</td>\n",
       "      <td>1.01</td>\n",
       "      <td>0.006981</td>\n",
       "      <td>0.395935</td>\n",
       "      <td>1.110000</td>\n",
       "      <td>0.041366</td>\n",
       "      <td>0.011176</td>\n",
       "      <td>2.22</td>\n",
       "      <td>0.352444</td>\n",
       "      <td>2.68</td>\n",
       "      <td>0.614000</td>\n",
       "    </tr>\n",
       "    <tr>\n",
       "      <th>38</th>\n",
       "      <td>2019-01-04</td>\n",
       "      <td>3859.725243</td>\n",
       "      <td>155.744904</td>\n",
       "      <td>0.361865</td>\n",
       "      <td>0.002423</td>\n",
       "      <td>0.004094</td>\n",
       "      <td>1.01</td>\n",
       "      <td>0.006908</td>\n",
       "      <td>0.391558</td>\n",
       "      <td>1.080000</td>\n",
       "      <td>0.041609</td>\n",
       "      <td>0.010687</td>\n",
       "      <td>2.57</td>\n",
       "      <td>0.353142</td>\n",
       "      <td>2.73</td>\n",
       "      <td>0.605391</td>\n",
       "    </tr>\n",
       "    <tr>\n",
       "      <th>37</th>\n",
       "      <td>2019-01-05</td>\n",
       "      <td>3848.550752</td>\n",
       "      <td>156.303502</td>\n",
       "      <td>0.355628</td>\n",
       "      <td>0.002422</td>\n",
       "      <td>0.004074</td>\n",
       "      <td>1.01</td>\n",
       "      <td>0.006987</td>\n",
       "      <td>0.396700</td>\n",
       "      <td>1.080000</td>\n",
       "      <td>0.043327</td>\n",
       "      <td>0.010772</td>\n",
       "      <td>2.32</td>\n",
       "      <td>0.363141</td>\n",
       "      <td>2.72</td>\n",
       "      <td>0.606198</td>\n",
       "    </tr>\n",
       "    <tr>\n",
       "      <th>36</th>\n",
       "      <td>2019-01-06</td>\n",
       "      <td>4081.776280</td>\n",
       "      <td>158.375243</td>\n",
       "      <td>0.369108</td>\n",
       "      <td>0.002332</td>\n",
       "      <td>0.004340</td>\n",
       "      <td>1.01</td>\n",
       "      <td>0.007415</td>\n",
       "      <td>0.416285</td>\n",
       "      <td>1.100000</td>\n",
       "      <td>0.044521</td>\n",
       "      <td>0.010871</td>\n",
       "      <td>2.29</td>\n",
       "      <td>0.382784</td>\n",
       "      <td>2.74</td>\n",
       "      <td>0.616339</td>\n",
       "    </tr>\n",
       "    <tr>\n",
       "      <th>35</th>\n",
       "      <td>2019-01-07</td>\n",
       "      <td>4028.609217</td>\n",
       "      <td>151.683374</td>\n",
       "      <td>0.366472</td>\n",
       "      <td>0.002287</td>\n",
       "      <td>0.004176</td>\n",
       "      <td>1.01</td>\n",
       "      <td>0.007203</td>\n",
       "      <td>0.407981</td>\n",
       "      <td>1.120000</td>\n",
       "      <td>0.047345</td>\n",
       "      <td>0.009813</td>\n",
       "      <td>2.56</td>\n",
       "      <td>0.367487</td>\n",
       "      <td>2.73</td>\n",
       "      <td>0.596493</td>\n",
       "    </tr>\n",
       "    <tr>\n",
       "      <th>34</th>\n",
       "      <td>2019-01-08</td>\n",
       "      <td>4026.213860</td>\n",
       "      <td>150.391288</td>\n",
       "      <td>0.365177</td>\n",
       "      <td>0.002283</td>\n",
       "      <td>0.004382</td>\n",
       "      <td>1.01</td>\n",
       "      <td>0.007174</td>\n",
       "      <td>0.403801</td>\n",
       "      <td>1.150000</td>\n",
       "      <td>0.043762</td>\n",
       "      <td>0.009022</td>\n",
       "      <td>2.34</td>\n",
       "      <td>0.364014</td>\n",
       "      <td>2.53</td>\n",
       "      <td>0.596243</td>\n",
       "    </tr>\n",
       "    <tr>\n",
       "      <th>33</th>\n",
       "      <td>2019-01-09</td>\n",
       "      <td>4037.576810</td>\n",
       "      <td>150.763189</td>\n",
       "      <td>0.371729</td>\n",
       "      <td>0.002311</td>\n",
       "      <td>0.004770</td>\n",
       "      <td>1.01</td>\n",
       "      <td>0.007247</td>\n",
       "      <td>0.409640</td>\n",
       "      <td>1.130000</td>\n",
       "      <td>0.044640</td>\n",
       "      <td>0.009890</td>\n",
       "      <td>2.39</td>\n",
       "      <td>0.370143</td>\n",
       "      <td>2.55</td>\n",
       "      <td>0.585647</td>\n",
       "    </tr>\n",
       "    <tr>\n",
       "      <th>32</th>\n",
       "      <td>2019-01-10</td>\n",
       "      <td>3662.939218</td>\n",
       "      <td>128.329131</td>\n",
       "      <td>0.333141</td>\n",
       "      <td>0.002289</td>\n",
       "      <td>0.004068</td>\n",
       "      <td>1.01</td>\n",
       "      <td>0.007598</td>\n",
       "      <td>0.371537</td>\n",
       "      <td>0.915966</td>\n",
       "      <td>0.039251</td>\n",
       "      <td>0.011047</td>\n",
       "      <td>2.16</td>\n",
       "      <td>0.312048</td>\n",
       "      <td>2.29</td>\n",
       "      <td>0.510718</td>\n",
       "    </tr>\n",
       "    <tr>\n",
       "      <th>31</th>\n",
       "      <td>2019-01-11</td>\n",
       "      <td>3665.166478</td>\n",
       "      <td>126.835562</td>\n",
       "      <td>0.335434</td>\n",
       "      <td>0.002232</td>\n",
       "      <td>0.004006</td>\n",
       "      <td>1.01</td>\n",
       "      <td>0.007178</td>\n",
       "      <td>0.371636</td>\n",
       "      <td>0.909027</td>\n",
       "      <td>0.040863</td>\n",
       "      <td>0.009921</td>\n",
       "      <td>2.20</td>\n",
       "      <td>0.315219</td>\n",
       "      <td>2.24</td>\n",
       "      <td>0.506455</td>\n",
       "    </tr>\n",
       "    <tr>\n",
       "      <th>30</th>\n",
       "      <td>2019-01-12</td>\n",
       "      <td>3653.021087</td>\n",
       "      <td>125.492687</td>\n",
       "      <td>0.333949</td>\n",
       "      <td>0.002268</td>\n",
       "      <td>0.004020</td>\n",
       "      <td>1.01</td>\n",
       "      <td>0.006876</td>\n",
       "      <td>0.379010</td>\n",
       "      <td>0.891730</td>\n",
       "      <td>0.040268</td>\n",
       "      <td>0.009899</td>\n",
       "      <td>2.06</td>\n",
       "      <td>0.312001</td>\n",
       "      <td>2.24</td>\n",
       "      <td>0.509145</td>\n",
       "    </tr>\n",
       "    <tr>\n",
       "      <th>29</th>\n",
       "      <td>2019-01-13</td>\n",
       "      <td>3536.792357</td>\n",
       "      <td>116.764600</td>\n",
       "      <td>0.317436</td>\n",
       "      <td>0.002126</td>\n",
       "      <td>0.003785</td>\n",
       "      <td>1.01</td>\n",
       "      <td>0.006407</td>\n",
       "      <td>0.353306</td>\n",
       "      <td>0.823212</td>\n",
       "      <td>0.038527</td>\n",
       "      <td>0.009989</td>\n",
       "      <td>1.80</td>\n",
       "      <td>0.287404</td>\n",
       "      <td>2.21</td>\n",
       "      <td>0.497655</td>\n",
       "    </tr>\n",
       "    <tr>\n",
       "      <th>28</th>\n",
       "      <td>2019-01-14</td>\n",
       "      <td>3699.570096</td>\n",
       "      <td>129.492206</td>\n",
       "      <td>0.335430</td>\n",
       "      <td>0.002287</td>\n",
       "      <td>0.004043</td>\n",
       "      <td>1.01</td>\n",
       "      <td>0.006959</td>\n",
       "      <td>0.371338</td>\n",
       "      <td>0.916257</td>\n",
       "      <td>0.041287</td>\n",
       "      <td>0.010289</td>\n",
       "      <td>2.25</td>\n",
       "      <td>0.305728</td>\n",
       "      <td>2.30</td>\n",
       "      <td>0.507212</td>\n",
       "    </tr>\n",
       "    <tr>\n",
       "      <th>27</th>\n",
       "      <td>2019-01-15</td>\n",
       "      <td>3630.259840</td>\n",
       "      <td>121.586309</td>\n",
       "      <td>0.326945</td>\n",
       "      <td>0.002164</td>\n",
       "      <td>0.003929</td>\n",
       "      <td>1.01</td>\n",
       "      <td>0.006817</td>\n",
       "      <td>0.414164</td>\n",
       "      <td>1.020000</td>\n",
       "      <td>0.041333</td>\n",
       "      <td>0.010843</td>\n",
       "      <td>2.07</td>\n",
       "      <td>0.293815</td>\n",
       "      <td>2.22</td>\n",
       "      <td>0.493771</td>\n",
       "    </tr>\n",
       "    <tr>\n",
       "      <th>26</th>\n",
       "      <td>2019-01-16</td>\n",
       "      <td>3650.906502</td>\n",
       "      <td>123.231692</td>\n",
       "      <td>0.327209</td>\n",
       "      <td>0.002276</td>\n",
       "      <td>0.003994</td>\n",
       "      <td>1.01</td>\n",
       "      <td>0.006900</td>\n",
       "      <td>0.525667</td>\n",
       "      <td>1.120000</td>\n",
       "      <td>0.049242</td>\n",
       "      <td>0.011003</td>\n",
       "      <td>1.93</td>\n",
       "      <td>0.315723</td>\n",
       "      <td>2.29</td>\n",
       "      <td>0.481906</td>\n",
       "    </tr>\n",
       "    <tr>\n",
       "      <th>25</th>\n",
       "      <td>2019-01-17</td>\n",
       "      <td>3673.159519</td>\n",
       "      <td>123.554768</td>\n",
       "      <td>0.328940</td>\n",
       "      <td>0.002129</td>\n",
       "      <td>0.004262</td>\n",
       "      <td>1.01</td>\n",
       "      <td>0.006832</td>\n",
       "      <td>0.468461</td>\n",
       "      <td>1.070000</td>\n",
       "      <td>0.058103</td>\n",
       "      <td>0.009950</td>\n",
       "      <td>1.97</td>\n",
       "      <td>0.335115</td>\n",
       "      <td>2.26</td>\n",
       "      <td>0.470320</td>\n",
       "    </tr>\n",
       "    <tr>\n",
       "      <th>24</th>\n",
       "      <td>2019-01-18</td>\n",
       "      <td>3648.950230</td>\n",
       "      <td>120.259013</td>\n",
       "      <td>0.323284</td>\n",
       "      <td>0.002223</td>\n",
       "      <td>0.004076</td>\n",
       "      <td>1.01</td>\n",
       "      <td>0.006685</td>\n",
       "      <td>0.432302</td>\n",
       "      <td>0.992851</td>\n",
       "      <td>0.062944</td>\n",
       "      <td>0.009825</td>\n",
       "      <td>1.89</td>\n",
       "      <td>0.327014</td>\n",
       "      <td>2.21</td>\n",
       "      <td>0.463037</td>\n",
       "    </tr>\n",
       "    <tr>\n",
       "      <th>23</th>\n",
       "      <td>2019-01-19</td>\n",
       "      <td>3727.524310</td>\n",
       "      <td>124.418900</td>\n",
       "      <td>0.333032</td>\n",
       "      <td>0.002256</td>\n",
       "      <td>0.004138</td>\n",
       "      <td>1.01</td>\n",
       "      <td>0.006942</td>\n",
       "      <td>0.444603</td>\n",
       "      <td>1.040000</td>\n",
       "      <td>0.069249</td>\n",
       "      <td>0.011201</td>\n",
       "      <td>1.99</td>\n",
       "      <td>0.344229</td>\n",
       "      <td>2.22</td>\n",
       "      <td>0.467197</td>\n",
       "    </tr>\n",
       "    <tr>\n",
       "      <th>22</th>\n",
       "      <td>2019-01-20</td>\n",
       "      <td>3602.768672</td>\n",
       "      <td>119.025339</td>\n",
       "      <td>0.321776</td>\n",
       "      <td>0.002179</td>\n",
       "      <td>0.004012</td>\n",
       "      <td>1.02</td>\n",
       "      <td>0.006608</td>\n",
       "      <td>0.434262</td>\n",
       "      <td>0.991190</td>\n",
       "      <td>0.068019</td>\n",
       "      <td>0.010557</td>\n",
       "      <td>1.93</td>\n",
       "      <td>0.313367</td>\n",
       "      <td>2.13</td>\n",
       "      <td>0.447578</td>\n",
       "    </tr>\n",
       "    <tr>\n",
       "      <th>21</th>\n",
       "      <td>2019-01-21</td>\n",
       "      <td>3571.111481</td>\n",
       "      <td>116.689718</td>\n",
       "      <td>0.320481</td>\n",
       "      <td>0.002208</td>\n",
       "      <td>0.004130</td>\n",
       "      <td>1.01</td>\n",
       "      <td>0.006626</td>\n",
       "      <td>0.424847</td>\n",
       "      <td>0.974891</td>\n",
       "      <td>0.069157</td>\n",
       "      <td>0.009903</td>\n",
       "      <td>1.94</td>\n",
       "      <td>0.319311</td>\n",
       "      <td>2.17</td>\n",
       "      <td>0.449035</td>\n",
       "    </tr>\n",
       "    <tr>\n",
       "      <th>20</th>\n",
       "      <td>2019-01-22</td>\n",
       "      <td>3603.050242</td>\n",
       "      <td>118.675172</td>\n",
       "      <td>0.319629</td>\n",
       "      <td>0.002206</td>\n",
       "      <td>0.004568</td>\n",
       "      <td>1.01</td>\n",
       "      <td>0.006708</td>\n",
       "      <td>0.420725</td>\n",
       "      <td>1.000000</td>\n",
       "      <td>0.103905</td>\n",
       "      <td>0.009130</td>\n",
       "      <td>1.91</td>\n",
       "      <td>0.334467</td>\n",
       "      <td>2.20</td>\n",
       "      <td>0.436621</td>\n",
       "    </tr>\n",
       "    <tr>\n",
       "      <th>19</th>\n",
       "      <td>2019-01-23</td>\n",
       "      <td>3579.774763</td>\n",
       "      <td>117.421252</td>\n",
       "      <td>0.316758</td>\n",
       "      <td>0.002199</td>\n",
       "      <td>0.004391</td>\n",
       "      <td>1.01</td>\n",
       "      <td>0.006733</td>\n",
       "      <td>0.417070</td>\n",
       "      <td>1.010000</td>\n",
       "      <td>0.085669</td>\n",
       "      <td>0.008712</td>\n",
       "      <td>1.89</td>\n",
       "      <td>0.319276</td>\n",
       "      <td>2.18</td>\n",
       "      <td>0.428564</td>\n",
       "    </tr>\n",
       "    <tr>\n",
       "      <th>18</th>\n",
       "      <td>2019-01-24</td>\n",
       "      <td>3602.366689</td>\n",
       "      <td>117.282621</td>\n",
       "      <td>0.315961</td>\n",
       "      <td>0.002181</td>\n",
       "      <td>0.004410</td>\n",
       "      <td>1.01</td>\n",
       "      <td>0.006735</td>\n",
       "      <td>0.416829</td>\n",
       "      <td>0.986099</td>\n",
       "      <td>0.080563</td>\n",
       "      <td>0.008070</td>\n",
       "      <td>1.79</td>\n",
       "      <td>0.327835</td>\n",
       "      <td>2.23</td>\n",
       "      <td>0.406632</td>\n",
       "    </tr>\n",
       "    <tr>\n",
       "      <th>17</th>\n",
       "      <td>2019-01-25</td>\n",
       "      <td>3598.336441</td>\n",
       "      <td>115.993397</td>\n",
       "      <td>0.317212</td>\n",
       "      <td>0.002190</td>\n",
       "      <td>0.004347</td>\n",
       "      <td>1.01</td>\n",
       "      <td>0.006657</td>\n",
       "      <td>0.415994</td>\n",
       "      <td>0.972724</td>\n",
       "      <td>0.077150</td>\n",
       "      <td>0.007449</td>\n",
       "      <td>1.72</td>\n",
       "      <td>0.322996</td>\n",
       "      <td>2.35</td>\n",
       "      <td>0.407350</td>\n",
       "    </tr>\n",
       "    <tr>\n",
       "      <th>16</th>\n",
       "      <td>2019-01-26</td>\n",
       "      <td>3597.678219</td>\n",
       "      <td>116.212462</td>\n",
       "      <td>0.316804</td>\n",
       "      <td>0.002181</td>\n",
       "      <td>0.004377</td>\n",
       "      <td>1.01</td>\n",
       "      <td>0.006627</td>\n",
       "      <td>0.411633</td>\n",
       "      <td>0.964933</td>\n",
       "      <td>0.072996</td>\n",
       "      <td>0.007283</td>\n",
       "      <td>1.73</td>\n",
       "      <td>0.339270</td>\n",
       "      <td>2.30</td>\n",
       "      <td>0.408005</td>\n",
       "    </tr>\n",
       "    <tr>\n",
       "      <th>15</th>\n",
       "      <td>2019-01-27</td>\n",
       "      <td>3581.700832</td>\n",
       "      <td>113.276777</td>\n",
       "      <td>0.312260</td>\n",
       "      <td>0.002135</td>\n",
       "      <td>0.004165</td>\n",
       "      <td>1.01</td>\n",
       "      <td>0.006444</td>\n",
       "      <td>0.391185</td>\n",
       "      <td>0.907591</td>\n",
       "      <td>0.068405</td>\n",
       "      <td>0.008737</td>\n",
       "      <td>1.96</td>\n",
       "      <td>0.315689</td>\n",
       "      <td>2.30</td>\n",
       "      <td>0.404543</td>\n",
       "    </tr>\n",
       "    <tr>\n",
       "      <th>14</th>\n",
       "      <td>2019-01-28</td>\n",
       "      <td>3463.288193</td>\n",
       "      <td>107.196979</td>\n",
       "      <td>0.294232</td>\n",
       "      <td>0.002084</td>\n",
       "      <td>0.003934</td>\n",
       "      <td>1.01</td>\n",
       "      <td>0.006088</td>\n",
       "      <td>0.369587</td>\n",
       "      <td>0.836731</td>\n",
       "      <td>0.059490</td>\n",
       "      <td>0.007675</td>\n",
       "      <td>1.86</td>\n",
       "      <td>0.294712</td>\n",
       "      <td>2.15</td>\n",
       "      <td>0.374410</td>\n",
       "    </tr>\n",
       "    <tr>\n",
       "      <th>13</th>\n",
       "      <td>2019-01-29</td>\n",
       "      <td>3440.006014</td>\n",
       "      <td>104.841018</td>\n",
       "      <td>0.288277</td>\n",
       "      <td>0.001986</td>\n",
       "      <td>0.003906</td>\n",
       "      <td>1.01</td>\n",
       "      <td>0.006062</td>\n",
       "      <td>0.375541</td>\n",
       "      <td>0.812519</td>\n",
       "      <td>0.059766</td>\n",
       "      <td>0.007576</td>\n",
       "      <td>2.06</td>\n",
       "      <td>0.287700</td>\n",
       "      <td>2.14</td>\n",
       "      <td>0.358214</td>\n",
       "    </tr>\n",
       "    <tr>\n",
       "      <th>12</th>\n",
       "      <td>2019-01-30</td>\n",
       "      <td>3479.301800</td>\n",
       "      <td>108.130547</td>\n",
       "      <td>0.321300</td>\n",
       "      <td>0.002056</td>\n",
       "      <td>0.004038</td>\n",
       "      <td>1.01</td>\n",
       "      <td>0.006195</td>\n",
       "      <td>0.377980</td>\n",
       "      <td>0.838564</td>\n",
       "      <td>0.059410</td>\n",
       "      <td>0.007691</td>\n",
       "      <td>2.13</td>\n",
       "      <td>0.289559</td>\n",
       "      <td>2.16</td>\n",
       "      <td>0.368598</td>\n",
       "    </tr>\n",
       "    <tr>\n",
       "      <th>11</th>\n",
       "      <td>2019-01-31</td>\n",
       "      <td>3451.319877</td>\n",
       "      <td>106.820521</td>\n",
       "      <td>0.310102</td>\n",
       "      <td>0.002017</td>\n",
       "      <td>0.003909</td>\n",
       "      <td>1.01</td>\n",
       "      <td>0.005931</td>\n",
       "      <td>0.367659</td>\n",
       "      <td>0.763100</td>\n",
       "      <td>0.055044</td>\n",
       "      <td>0.007631</td>\n",
       "      <td>2.29</td>\n",
       "      <td>0.275208</td>\n",
       "      <td>2.13</td>\n",
       "      <td>0.352540</td>\n",
       "    </tr>\n",
       "    <tr>\n",
       "      <th>10</th>\n",
       "      <td>2019-02-01</td>\n",
       "      <td>3479.094114</td>\n",
       "      <td>107.324438</td>\n",
       "      <td>0.307159</td>\n",
       "      <td>0.001971</td>\n",
       "      <td>0.003928</td>\n",
       "      <td>1.02</td>\n",
       "      <td>0.005964</td>\n",
       "      <td>0.370899</td>\n",
       "      <td>0.778469</td>\n",
       "      <td>0.057745</td>\n",
       "      <td>0.008015</td>\n",
       "      <td>2.33</td>\n",
       "      <td>0.276280</td>\n",
       "      <td>2.14</td>\n",
       "      <td>0.362957</td>\n",
       "    </tr>\n",
       "    <tr>\n",
       "      <th>9</th>\n",
       "      <td>2019-02-02</td>\n",
       "      <td>3506.522302</td>\n",
       "      <td>110.107461</td>\n",
       "      <td>0.311519</td>\n",
       "      <td>0.001956</td>\n",
       "      <td>0.003952</td>\n",
       "      <td>1.01</td>\n",
       "      <td>0.006042</td>\n",
       "      <td>0.376092</td>\n",
       "      <td>0.831415</td>\n",
       "      <td>0.056983</td>\n",
       "      <td>0.008287</td>\n",
       "      <td>2.23</td>\n",
       "      <td>0.275765</td>\n",
       "      <td>2.19</td>\n",
       "      <td>0.372291</td>\n",
       "    </tr>\n",
       "    <tr>\n",
       "      <th>8</th>\n",
       "      <td>2019-02-03</td>\n",
       "      <td>3452.499821</td>\n",
       "      <td>107.131915</td>\n",
       "      <td>0.301888</td>\n",
       "      <td>0.002011</td>\n",
       "      <td>0.003864</td>\n",
       "      <td>1.01</td>\n",
       "      <td>0.005829</td>\n",
       "      <td>0.371895</td>\n",
       "      <td>0.788343</td>\n",
       "      <td>0.056396</td>\n",
       "      <td>0.006610</td>\n",
       "      <td>2.15</td>\n",
       "      <td>0.271510</td>\n",
       "      <td>2.12</td>\n",
       "      <td>0.359981</td>\n",
       "    </tr>\n",
       "    <tr>\n",
       "      <th>7</th>\n",
       "      <td>2019-02-04</td>\n",
       "      <td>3455.533127</td>\n",
       "      <td>107.099795</td>\n",
       "      <td>0.299128</td>\n",
       "      <td>0.002015</td>\n",
       "      <td>0.003827</td>\n",
       "      <td>1.01</td>\n",
       "      <td>0.005880</td>\n",
       "      <td>0.369244</td>\n",
       "      <td>0.783707</td>\n",
       "      <td>0.055130</td>\n",
       "      <td>0.006343</td>\n",
       "      <td>2.18</td>\n",
       "      <td>0.272426</td>\n",
       "      <td>2.12</td>\n",
       "      <td>0.361609</td>\n",
       "    </tr>\n",
       "    <tr>\n",
       "      <th>6</th>\n",
       "      <td>2019-02-05</td>\n",
       "      <td>3458.864443</td>\n",
       "      <td>106.999044</td>\n",
       "      <td>0.291598</td>\n",
       "      <td>0.001978</td>\n",
       "      <td>0.003786</td>\n",
       "      <td>1.01</td>\n",
       "      <td>0.005745</td>\n",
       "      <td>0.369694</td>\n",
       "      <td>0.768977</td>\n",
       "      <td>0.053886</td>\n",
       "      <td>0.008664</td>\n",
       "      <td>2.29</td>\n",
       "      <td>0.262837</td>\n",
       "      <td>2.13</td>\n",
       "      <td>0.354030</td>\n",
       "    </tr>\n",
       "    <tr>\n",
       "      <th>5</th>\n",
       "      <td>2019-02-06</td>\n",
       "      <td>3405.375144</td>\n",
       "      <td>104.538011</td>\n",
       "      <td>0.289546</td>\n",
       "      <td>0.001858</td>\n",
       "      <td>0.003637</td>\n",
       "      <td>1.01</td>\n",
       "      <td>0.005606</td>\n",
       "      <td>0.360188</td>\n",
       "      <td>0.738042</td>\n",
       "      <td>0.051325</td>\n",
       "      <td>0.007884</td>\n",
       "      <td>2.35</td>\n",
       "      <td>0.282607</td>\n",
       "      <td>2.10</td>\n",
       "      <td>0.350898</td>\n",
       "    </tr>\n",
       "    <tr>\n",
       "      <th>4</th>\n",
       "      <td>2019-02-07</td>\n",
       "      <td>3390.505404</td>\n",
       "      <td>104.173485</td>\n",
       "      <td>0.291644</td>\n",
       "      <td>0.001931</td>\n",
       "      <td>0.003694</td>\n",
       "      <td>1.01</td>\n",
       "      <td>0.005644</td>\n",
       "      <td>0.362809</td>\n",
       "      <td>0.751636</td>\n",
       "      <td>0.051812</td>\n",
       "      <td>0.007548</td>\n",
       "      <td>2.95</td>\n",
       "      <td>0.272198</td>\n",
       "      <td>2.11</td>\n",
       "      <td>0.348911</td>\n",
       "    </tr>\n",
       "    <tr>\n",
       "      <th>3</th>\n",
       "      <td>2019-02-08</td>\n",
       "      <td>3658.389649</td>\n",
       "      <td>119.653788</td>\n",
       "      <td>0.312029</td>\n",
       "      <td>0.001969</td>\n",
       "      <td>0.003966</td>\n",
       "      <td>1.01</td>\n",
       "      <td>0.006052</td>\n",
       "      <td>0.392337</td>\n",
       "      <td>0.817695</td>\n",
       "      <td>0.055106</td>\n",
       "      <td>0.008070</td>\n",
       "      <td>4.14</td>\n",
       "      <td>0.292698</td>\n",
       "      <td>2.30</td>\n",
       "      <td>0.368694</td>\n",
       "    </tr>\n",
       "    <tr>\n",
       "      <th>2</th>\n",
       "      <td>2019-02-09</td>\n",
       "      <td>3665.169880</td>\n",
       "      <td>119.776270</td>\n",
       "      <td>0.310646</td>\n",
       "      <td>0.002009</td>\n",
       "      <td>0.004006</td>\n",
       "      <td>1.01</td>\n",
       "      <td>0.006130</td>\n",
       "      <td>0.401183</td>\n",
       "      <td>0.803968</td>\n",
       "      <td>0.054550</td>\n",
       "      <td>0.008425</td>\n",
       "      <td>4.24</td>\n",
       "      <td>0.289930</td>\n",
       "      <td>2.28</td>\n",
       "      <td>0.373724</td>\n",
       "    </tr>\n",
       "    <tr>\n",
       "      <th>1</th>\n",
       "      <td>2019-02-10</td>\n",
       "      <td>3686.977610</td>\n",
       "      <td>124.950229</td>\n",
       "      <td>0.308912</td>\n",
       "      <td>0.001989</td>\n",
       "      <td>0.004044</td>\n",
       "      <td>1.02</td>\n",
       "      <td>0.006171</td>\n",
       "      <td>0.394485</td>\n",
       "      <td>0.818007</td>\n",
       "      <td>0.055287</td>\n",
       "      <td>0.007180</td>\n",
       "      <td>4.64</td>\n",
       "      <td>0.291913</td>\n",
       "      <td>2.36</td>\n",
       "      <td>0.370683</td>\n",
       "    </tr>\n",
       "    <tr>\n",
       "      <th>0</th>\n",
       "      <td>2019-02-11</td>\n",
       "      <td>3643.486916</td>\n",
       "      <td>121.159210</td>\n",
       "      <td>0.304300</td>\n",
       "      <td>0.001972</td>\n",
       "      <td>0.003909</td>\n",
       "      <td>1.01</td>\n",
       "      <td>0.005994</td>\n",
       "      <td>0.387543</td>\n",
       "      <td>0.820662</td>\n",
       "      <td>0.053827</td>\n",
       "      <td>0.007514</td>\n",
       "      <td>3.99</td>\n",
       "      <td>0.293568</td>\n",
       "      <td>2.25</td>\n",
       "      <td>0.360186</td>\n",
       "    </tr>\n",
       "  </tbody>\n",
       "</table>\n",
       "</div>"
      ],
      "text/plain": [
       "          Date  BTC Closing Price  ETH Closing Price  XRP Closing Price  \\\n",
       "39  2019-01-03        3851.629016         149.609988           0.359176   \n",
       "38  2019-01-04        3859.725243         155.744904           0.361865   \n",
       "37  2019-01-05        3848.550752         156.303502           0.355628   \n",
       "36  2019-01-06        4081.776280         158.375243           0.369108   \n",
       "35  2019-01-07        4028.609217         151.683374           0.366472   \n",
       "34  2019-01-08        4026.213860         150.391288           0.365177   \n",
       "33  2019-01-09        4037.576810         150.763189           0.371729   \n",
       "32  2019-01-10        3662.939218         128.329131           0.333141   \n",
       "31  2019-01-11        3665.166478         126.835562           0.335434   \n",
       "30  2019-01-12        3653.021087         125.492687           0.333949   \n",
       "29  2019-01-13        3536.792357         116.764600           0.317436   \n",
       "28  2019-01-14        3699.570096         129.492206           0.335430   \n",
       "27  2019-01-15        3630.259840         121.586309           0.326945   \n",
       "26  2019-01-16        3650.906502         123.231692           0.327209   \n",
       "25  2019-01-17        3673.159519         123.554768           0.328940   \n",
       "24  2019-01-18        3648.950230         120.259013           0.323284   \n",
       "23  2019-01-19        3727.524310         124.418900           0.333032   \n",
       "22  2019-01-20        3602.768672         119.025339           0.321776   \n",
       "21  2019-01-21        3571.111481         116.689718           0.320481   \n",
       "20  2019-01-22        3603.050242         118.675172           0.319629   \n",
       "19  2019-01-23        3579.774763         117.421252           0.316758   \n",
       "18  2019-01-24        3602.366689         117.282621           0.315961   \n",
       "17  2019-01-25        3598.336441         115.993397           0.317212   \n",
       "16  2019-01-26        3597.678219         116.212462           0.316804   \n",
       "15  2019-01-27        3581.700832         113.276777           0.312260   \n",
       "14  2019-01-28        3463.288193         107.196979           0.294232   \n",
       "13  2019-01-29        3440.006014         104.841018           0.288277   \n",
       "12  2019-01-30        3479.301800         108.130547           0.321300   \n",
       "11  2019-01-31        3451.319877         106.820521           0.310102   \n",
       "10  2019-02-01        3479.094114         107.324438           0.307159   \n",
       "9   2019-02-02        3506.522302         110.107461           0.311519   \n",
       "8   2019-02-03        3452.499821         107.131915           0.301888   \n",
       "7   2019-02-04        3455.533127         107.099795           0.299128   \n",
       "6   2019-02-05        3458.864443         106.999044           0.291598   \n",
       "5   2019-02-06        3405.375144         104.538011           0.289546   \n",
       "4   2019-02-07        3390.505404         104.173485           0.291644   \n",
       "3   2019-02-08        3658.389649         119.653788           0.312029   \n",
       "2   2019-02-09        3665.169880         119.776270           0.310646   \n",
       "1   2019-02-10        3686.977610         124.950229           0.308912   \n",
       "0   2019-02-11        3643.486916         121.159210           0.304300   \n",
       "\n",
       "    DOGE Closing Price  VET Closing Price  TUSD Closing Price  \\\n",
       "39            0.002488           0.004051                1.01   \n",
       "38            0.002423           0.004094                1.01   \n",
       "37            0.002422           0.004074                1.01   \n",
       "36            0.002332           0.004340                1.01   \n",
       "35            0.002287           0.004176                1.01   \n",
       "34            0.002283           0.004382                1.01   \n",
       "33            0.002311           0.004770                1.01   \n",
       "32            0.002289           0.004068                1.01   \n",
       "31            0.002232           0.004006                1.01   \n",
       "30            0.002268           0.004020                1.01   \n",
       "29            0.002126           0.003785                1.01   \n",
       "28            0.002287           0.004043                1.01   \n",
       "27            0.002164           0.003929                1.01   \n",
       "26            0.002276           0.003994                1.01   \n",
       "25            0.002129           0.004262                1.01   \n",
       "24            0.002223           0.004076                1.01   \n",
       "23            0.002256           0.004138                1.01   \n",
       "22            0.002179           0.004012                1.02   \n",
       "21            0.002208           0.004130                1.01   \n",
       "20            0.002206           0.004568                1.01   \n",
       "19            0.002199           0.004391                1.01   \n",
       "18            0.002181           0.004410                1.01   \n",
       "17            0.002190           0.004347                1.01   \n",
       "16            0.002181           0.004377                1.01   \n",
       "15            0.002135           0.004165                1.01   \n",
       "14            0.002084           0.003934                1.01   \n",
       "13            0.001986           0.003906                1.01   \n",
       "12            0.002056           0.004038                1.01   \n",
       "11            0.002017           0.003909                1.01   \n",
       "10            0.001971           0.003928                1.02   \n",
       "9             0.001956           0.003952                1.01   \n",
       "8             0.002011           0.003864                1.01   \n",
       "7             0.002015           0.003827                1.01   \n",
       "6             0.001978           0.003786                1.01   \n",
       "5             0.001858           0.003637                1.01   \n",
       "4             0.001931           0.003694                1.01   \n",
       "3             0.001969           0.003966                1.01   \n",
       "2             0.002009           0.004006                1.01   \n",
       "1             0.001989           0.004044                1.02   \n",
       "0             0.001972           0.003909                1.01   \n",
       "\n",
       "    XVG Closing Price  AE Closing Price  STRAT Closing Price  \\\n",
       "39           0.006981          0.395935             1.110000   \n",
       "38           0.006908          0.391558             1.080000   \n",
       "37           0.006987          0.396700             1.080000   \n",
       "36           0.007415          0.416285             1.100000   \n",
       "35           0.007203          0.407981             1.120000   \n",
       "34           0.007174          0.403801             1.150000   \n",
       "33           0.007247          0.409640             1.130000   \n",
       "32           0.007598          0.371537             0.915966   \n",
       "31           0.007178          0.371636             0.909027   \n",
       "30           0.006876          0.379010             0.891730   \n",
       "29           0.006407          0.353306             0.823212   \n",
       "28           0.006959          0.371338             0.916257   \n",
       "27           0.006817          0.414164             1.020000   \n",
       "26           0.006900          0.525667             1.120000   \n",
       "25           0.006832          0.468461             1.070000   \n",
       "24           0.006685          0.432302             0.992851   \n",
       "23           0.006942          0.444603             1.040000   \n",
       "22           0.006608          0.434262             0.991190   \n",
       "21           0.006626          0.424847             0.974891   \n",
       "20           0.006708          0.420725             1.000000   \n",
       "19           0.006733          0.417070             1.010000   \n",
       "18           0.006735          0.416829             0.986099   \n",
       "17           0.006657          0.415994             0.972724   \n",
       "16           0.006627          0.411633             0.964933   \n",
       "15           0.006444          0.391185             0.907591   \n",
       "14           0.006088          0.369587             0.836731   \n",
       "13           0.006062          0.375541             0.812519   \n",
       "12           0.006195          0.377980             0.838564   \n",
       "11           0.005931          0.367659             0.763100   \n",
       "10           0.005964          0.370899             0.778469   \n",
       "9            0.006042          0.376092             0.831415   \n",
       "8            0.005829          0.371895             0.788343   \n",
       "7            0.005880          0.369244             0.783707   \n",
       "6            0.005745          0.369694             0.768977   \n",
       "5            0.005606          0.360188             0.738042   \n",
       "4            0.005644          0.362809             0.751636   \n",
       "3            0.006052          0.392337             0.817695   \n",
       "2            0.006130          0.401183             0.803968   \n",
       "1            0.006171          0.394485             0.818007   \n",
       "0            0.005994          0.387543             0.820662   \n",
       "\n",
       "    LRC Closing Price  AOA Closing Price  QNT Closing Price  \\\n",
       "39           0.041366           0.011176               2.22   \n",
       "38           0.041609           0.010687               2.57   \n",
       "37           0.043327           0.010772               2.32   \n",
       "36           0.044521           0.010871               2.29   \n",
       "35           0.047345           0.009813               2.56   \n",
       "34           0.043762           0.009022               2.34   \n",
       "33           0.044640           0.009890               2.39   \n",
       "32           0.039251           0.011047               2.16   \n",
       "31           0.040863           0.009921               2.20   \n",
       "30           0.040268           0.009899               2.06   \n",
       "29           0.038527           0.009989               1.80   \n",
       "28           0.041287           0.010289               2.25   \n",
       "27           0.041333           0.010843               2.07   \n",
       "26           0.049242           0.011003               1.93   \n",
       "25           0.058103           0.009950               1.97   \n",
       "24           0.062944           0.009825               1.89   \n",
       "23           0.069249           0.011201               1.99   \n",
       "22           0.068019           0.010557               1.93   \n",
       "21           0.069157           0.009903               1.94   \n",
       "20           0.103905           0.009130               1.91   \n",
       "19           0.085669           0.008712               1.89   \n",
       "18           0.080563           0.008070               1.79   \n",
       "17           0.077150           0.007449               1.72   \n",
       "16           0.072996           0.007283               1.73   \n",
       "15           0.068405           0.008737               1.96   \n",
       "14           0.059490           0.007675               1.86   \n",
       "13           0.059766           0.007576               2.06   \n",
       "12           0.059410           0.007691               2.13   \n",
       "11           0.055044           0.007631               2.29   \n",
       "10           0.057745           0.008015               2.33   \n",
       "9            0.056983           0.008287               2.23   \n",
       "8            0.056396           0.006610               2.15   \n",
       "7            0.055130           0.006343               2.18   \n",
       "6            0.053886           0.008664               2.29   \n",
       "5            0.051325           0.007884               2.35   \n",
       "4            0.051812           0.007548               2.95   \n",
       "3            0.055106           0.008070               4.14   \n",
       "2            0.054550           0.008425               4.24   \n",
       "1            0.055287           0.007180               4.64   \n",
       "0            0.053827           0.007514               3.99   \n",
       "\n",
       "    WAN Closing Price  ELA Closing Price  KCS Closing Price  \n",
       "39           0.352444               2.68           0.614000  \n",
       "38           0.353142               2.73           0.605391  \n",
       "37           0.363141               2.72           0.606198  \n",
       "36           0.382784               2.74           0.616339  \n",
       "35           0.367487               2.73           0.596493  \n",
       "34           0.364014               2.53           0.596243  \n",
       "33           0.370143               2.55           0.585647  \n",
       "32           0.312048               2.29           0.510718  \n",
       "31           0.315219               2.24           0.506455  \n",
       "30           0.312001               2.24           0.509145  \n",
       "29           0.287404               2.21           0.497655  \n",
       "28           0.305728               2.30           0.507212  \n",
       "27           0.293815               2.22           0.493771  \n",
       "26           0.315723               2.29           0.481906  \n",
       "25           0.335115               2.26           0.470320  \n",
       "24           0.327014               2.21           0.463037  \n",
       "23           0.344229               2.22           0.467197  \n",
       "22           0.313367               2.13           0.447578  \n",
       "21           0.319311               2.17           0.449035  \n",
       "20           0.334467               2.20           0.436621  \n",
       "19           0.319276               2.18           0.428564  \n",
       "18           0.327835               2.23           0.406632  \n",
       "17           0.322996               2.35           0.407350  \n",
       "16           0.339270               2.30           0.408005  \n",
       "15           0.315689               2.30           0.404543  \n",
       "14           0.294712               2.15           0.374410  \n",
       "13           0.287700               2.14           0.358214  \n",
       "12           0.289559               2.16           0.368598  \n",
       "11           0.275208               2.13           0.352540  \n",
       "10           0.276280               2.14           0.362957  \n",
       "9            0.275765               2.19           0.372291  \n",
       "8            0.271510               2.12           0.359981  \n",
       "7            0.272426               2.12           0.361609  \n",
       "6            0.262837               2.13           0.354030  \n",
       "5            0.282607               2.10           0.350898  \n",
       "4            0.272198               2.11           0.348911  \n",
       "3            0.292698               2.30           0.368694  \n",
       "2            0.289930               2.28           0.373724  \n",
       "1            0.291913               2.36           0.370683  \n",
       "0            0.293568               2.25           0.360186  "
      ]
     },
     "execution_count": 8,
     "metadata": {},
     "output_type": "execute_result"
    }
   ],
   "source": [
    "closing_price.tail(40)"
   ]
  },
  {
   "cell_type": "code",
   "execution_count": 9,
   "metadata": {},
   "outputs": [
    {
     "data": {
      "text/plain": [
       "Index(['Date', 'BTC Closing Price', 'ETH Closing Price', 'XRP Closing Price',\n",
       "       'DOGE Closing Price', 'VET Closing Price', 'TUSD Closing Price',\n",
       "       'XVG Closing Price', 'AE Closing Price', 'STRAT Closing Price',\n",
       "       'LRC Closing Price', 'AOA Closing Price', 'QNT Closing Price',\n",
       "       'WAN Closing Price', 'ELA Closing Price', 'KCS Closing Price'],\n",
       "      dtype='object')"
      ]
     },
     "execution_count": 9,
     "metadata": {},
     "output_type": "execute_result"
    }
   ],
   "source": [
    "closing_price.columns"
   ]
  },
  {
   "cell_type": "code",
   "execution_count": 10,
   "metadata": {},
   "outputs": [
    {
     "data": {
      "text/plain": [
       "4    0.003694\n",
       "3    0.003966\n",
       "2    0.004006\n",
       "1    0.004044\n",
       "0    0.003909\n",
       "Name: VET Closing Price, dtype: float64"
      ]
     },
     "execution_count": 10,
     "metadata": {},
     "output_type": "execute_result"
    }
   ],
   "source": [
    "closing_price['VET Closing Price'].tail()"
   ]
  },
  {
   "cell_type": "code",
   "execution_count": 11,
   "metadata": {},
   "outputs": [
    {
     "data": {
      "text/plain": [
       "3643.486916"
      ]
     },
     "execution_count": 11,
     "metadata": {},
     "output_type": "execute_result"
    }
   ],
   "source": [
    "closing_price['BTC Closing Price'][0]"
   ]
  },
  {
   "cell_type": "code",
   "execution_count": 12,
   "metadata": {},
   "outputs": [],
   "source": [
    "from datetime import date\n",
    "\n",
    "date1 = date(2018, 3, 24)\n",
    "date2= date(2019, 2, 11)\n",
    "timedelta = date2 - date1\n",
    "days = timedelta.days"
   ]
  },
  {
   "cell_type": "code",
   "execution_count": 18,
   "metadata": {
    "scrolled": true
   },
   "outputs": [
    {
     "data": {
      "image/png": "[encoded data removed]",
      "text/plain": [
       "<Figure size 432x288 with 1 Axes>"
      ]
     },
     "metadata": {
      "needs_background": "light"
     },
     "output_type": "display_data"
    }
   ],
   "source": [
    "#reversing x axis, 0 being present day\n",
    "plt.gca().invert_xaxis()\n",
    "#plotting of all coins chosen\n",
    "#plt.figure(figsize=(20,10))\n",
    "for col in closing_price.columns:\n",
    "    if col != 'Date' and col != 'BTC Closing Price'and col != 'ETH Closing Price' and col != 'ELA Closing Price':\n",
    "        plt.plot(closing_price[col].dropna())\n",
    "plt.title(\"Daily Closing Prices for the last {} days EX BTC, ETH, ELA\".format(days))\n",
    "\n",
    "# Put a legend to the right of the current axis\n",
    "plt.legend(loc='center left', bbox_to_anchor=(1, 0.5))#Chart of Closing price excluding Bitcoin and Ethereum \n",
    "\n",
    "plt.savefig(\"Closings price for last 324 days ex BTCETHELAsome.png\", bbox_inches = 'tight', dpi =600)"
   ]
  },
  {
   "cell_type": "code",
   "execution_count": null,
   "metadata": {},
   "outputs": [],
   "source": [
    "plt.savefig()"
   ]
  },
  {
   "cell_type": "code",
   "execution_count": 128,
   "metadata": {},
   "outputs": [
    {
     "data": {
      "text/plain": [
       "count    193.000000\n",
       "mean       0.008923\n",
       "std        0.004590\n",
       "min        0.003360\n",
       "25%        0.004218\n",
       "50%        0.009747\n",
       "75%        0.012996\n",
       "max        0.019471\n",
       "Name: VET Closing Price, dtype: float64"
      ]
     },
     "execution_count": 128,
     "metadata": {},
     "output_type": "execute_result"
    }
   ],
   "source": [
    "closing_price['VET Closing Price'].describe()"
   ]
  },
  {
   "cell_type": "code",
   "execution_count": 132,
   "metadata": {},
   "outputs": [
    {
     "data": {
      "text/plain": [
       "[<matplotlib.lines.Line2D at 0x1a269a4358>]"
      ]
     },
     "execution_count": 132,
     "metadata": {},
     "output_type": "execute_result"
    },
    {
     "data": {
      "image/png": "[encoded data removed]",
      "text/plain": [
       "<Figure size 432x288 with 1 Axes>"
      ]
     },
     "metadata": {
      "needs_background": "light"
     },
     "output_type": "display_data"
    }
   ],
   "source": [
    "plt.gca().invert_xaxis()\n",
    "plt.plot(closing_price['ELA Closing Price'])\n",
    "\n",
    "#plt.plot(closing_price['ETH Closing Price'], )\n",
    "#plt.plot(closing_price['XRP Closing Price'], )"
   ]
  },
  {
   "cell_type": "code",
   "execution_count": 54,
   "metadata": {},
   "outputs": [],
   "source": [
    "BTC = pd.read_csv('BTC_reshaped.csv').drop(['Unnamed: 0'], axis=1)\n",
    "VET = pd.read_csv('VET.csv').drop(['Unnamed: 0'], axis=1)\n",
    "ETH = pd.read_csv('ETH_reshaped.csv').drop(['Unnamed: 0'], axis=1)\n",
    "LRC = pd.read_csv('LRC.csv').drop(['Unnamed: 0'], axis=1)"
   ]
  },
  {
   "cell_type": "code",
   "execution_count": 172,
   "metadata": {},
   "outputs": [
    {
     "data": {
      "text/plain": [
       "[<matplotlib.lines.Line2D at 0x1a2827c588>]"
      ]
     },
     "execution_count": 172,
     "metadata": {},
     "output_type": "execute_result"
    },
    {
     "data": {
      "image/png": "[encoded data removed]",
      "text/plain": [
       "<Figure size 432x288 with 1 Axes>"
      ]
     },
     "metadata": {
      "needs_background": "light"
     },
     "output_type": "display_data"
    }
   ],
   "source": [
    "plt.gca().invert_xaxis()\n",
    "plt.plot(BTC['Market Cap(USD)'].dropna())"
   ]
  },
  {
   "cell_type": "code",
   "execution_count": 130,
   "metadata": {},
   "outputs": [
    {
     "data": {
      "text/plain": [
       "[<matplotlib.lines.Line2D at 0x1a2665a5f8>]"
      ]
     },
     "execution_count": 130,
     "metadata": {},
     "output_type": "execute_result"
    },
    {
     "data": {
      "image/png": "[encoded data removed]",
      "text/plain": [
       "<Figure size 432x288 with 1 Axes>"
      ]
     },
     "metadata": {
      "needs_background": "light"
     },
     "output_type": "display_data"
    }
   ],
   "source": [
    "plt.gca().invert_xaxis()\n",
    "plt.plot(ETH['Close(USD)'])\n"
   ]
  },
  {
   "cell_type": "code",
   "execution_count": 131,
   "metadata": {},
   "outputs": [
    {
     "data": {
      "text/plain": [
       "[<matplotlib.lines.Line2D at 0x1a269470b8>]"
      ]
     },
     "execution_count": 131,
     "metadata": {},
     "output_type": "execute_result"
    },
    {
     "data": {
      "image/png": "[encoded data removed]",
      "text/plain": [
       "<Figure size 432x288 with 1 Axes>"
      ]
     },
     "metadata": {
      "needs_background": "light"
     },
     "output_type": "display_data"
    }
   ],
   "source": [
    "plt.gca().invert_xaxis()\n",
    "plt.plot(LRC['Close**'])"
   ]
  },
  {
   "cell_type": "code",
   "execution_count": 27,
   "metadata": {},
   "outputs": [
    {
     "data": {
      "text/html": [
       "<div>\n",
       "<style scoped>\n",
       "    .dataframe tbody tr th:only-of-type {\n",
       "        vertical-align: middle;\n",
       "    }\n",
       "\n",
       "    .dataframe tbody tr th {\n",
       "        vertical-align: top;\n",
       "    }\n",
       "\n",
       "    .dataframe thead th {\n",
       "        text-align: right;\n",
       "    }\n",
       "</style>\n",
       "<table border=\"1\" class=\"dataframe\">\n",
       "  <thead>\n",
       "    <tr style=\"text-align: right;\">\n",
       "      <th></th>\n",
       "      <th>Date</th>\n",
       "      <th>Open(USD)</th>\n",
       "      <th>High(USD)</th>\n",
       "      <th>Low(USD)</th>\n",
       "      <th>Close(USD)</th>\n",
       "      <th>Volume</th>\n",
       "      <th>Market Cap(USD)</th>\n",
       "      <th>Close Percent Change</th>\n",
       "    </tr>\n",
       "  </thead>\n",
       "  <tbody>\n",
       "    <tr>\n",
       "      <th>0</th>\n",
       "      <td>2019-02-11</td>\n",
       "      <td>3688.165812</td>\n",
       "      <td>3688.165812</td>\n",
       "      <td>3643.486916</td>\n",
       "      <td>3643.486916</td>\n",
       "      <td>99465.506899</td>\n",
       "      <td>3.624013e+08</td>\n",
       "      <td>-0.011796</td>\n",
       "    </tr>\n",
       "    <tr>\n",
       "      <th>1</th>\n",
       "      <td>2019-02-10</td>\n",
       "      <td>3665.620107</td>\n",
       "      <td>3686.977610</td>\n",
       "      <td>3646.055226</td>\n",
       "      <td>3686.977610</td>\n",
       "      <td>90821.959071</td>\n",
       "      <td>3.348585e+08</td>\n",
       "      <td>0.005950</td>\n",
       "    </tr>\n",
       "    <tr>\n",
       "      <th>2</th>\n",
       "      <td>2019-02-09</td>\n",
       "      <td>3658.797145</td>\n",
       "      <td>3677.295278</td>\n",
       "      <td>3638.126429</td>\n",
       "      <td>3665.169880</td>\n",
       "      <td>90479.606316</td>\n",
       "      <td>3.316231e+08</td>\n",
       "      <td>0.001853</td>\n",
       "    </tr>\n",
       "    <tr>\n",
       "      <th>3</th>\n",
       "      <td>2019-02-08</td>\n",
       "      <td>3386.894877</td>\n",
       "      <td>3711.531448</td>\n",
       "      <td>3374.436212</td>\n",
       "      <td>3658.389649</td>\n",
       "      <td>168313.325618</td>\n",
       "      <td>6.157557e+08</td>\n",
       "      <td>0.079010</td>\n",
       "    </tr>\n",
       "    <tr>\n",
       "      <th>4</th>\n",
       "      <td>2019-02-07</td>\n",
       "      <td>3404.400116</td>\n",
       "      <td>3413.601426</td>\n",
       "      <td>3385.035006</td>\n",
       "      <td>3390.505404</td>\n",
       "      <td>93880.484239</td>\n",
       "      <td>3.183023e+08</td>\n",
       "      <td>-0.004367</td>\n",
       "    </tr>\n",
       "  </tbody>\n",
       "</table>\n",
       "</div>"
      ],
      "text/plain": [
       "         Date    Open(USD)    High(USD)     Low(USD)   Close(USD)  \\\n",
       "0  2019-02-11  3688.165812  3688.165812  3643.486916  3643.486916   \n",
       "1  2019-02-10  3665.620107  3686.977610  3646.055226  3686.977610   \n",
       "2  2019-02-09  3658.797145  3677.295278  3638.126429  3665.169880   \n",
       "3  2019-02-08  3386.894877  3711.531448  3374.436212  3658.389649   \n",
       "4  2019-02-07  3404.400116  3413.601426  3385.035006  3390.505404   \n",
       "\n",
       "          Volume  Market Cap(USD)  Close Percent Change  \n",
       "0   99465.506899     3.624013e+08             -0.011796  \n",
       "1   90821.959071     3.348585e+08              0.005950  \n",
       "2   90479.606316     3.316231e+08              0.001853  \n",
       "3  168313.325618     6.157557e+08              0.079010  \n",
       "4   93880.484239     3.183023e+08             -0.004367  "
      ]
     },
     "execution_count": 27,
     "metadata": {},
     "output_type": "execute_result"
    }
   ],
   "source": [
    "BTC.head()"
   ]
  },
  {
   "cell_type": "code",
   "execution_count": 56,
   "metadata": {},
   "outputs": [],
   "source": [
    "BTC_whole = pd.read_csv('BTC.csv').drop(['Unnamed: 0'], axis=1)"
   ]
  },
  {
   "cell_type": "code",
   "execution_count": 165,
   "metadata": {},
   "outputs": [
    {
     "data": {
      "text/plain": [
       "(1779, 8)"
      ]
     },
     "execution_count": 165,
     "metadata": {},
     "output_type": "execute_result"
    }
   ],
   "source": [
    "BTC_whole.shape"
   ]
  },
  {
   "cell_type": "code",
   "execution_count": 166,
   "metadata": {},
   "outputs": [],
   "source": [
    "#daily return calculations\n",
    "BTC_whole_daily = round((BTC_whole['Close(USD)']-BTC_whole['Open(USD)'])/BTC_whole['Open(USD)']*100,2)"
   ]
  },
  {
   "cell_type": "code",
   "execution_count": 167,
   "metadata": {
    "scrolled": true
   },
   "outputs": [
    {
     "data": {
      "text/plain": [
       "count    1779.000000\n",
       "mean        0.179117\n",
       "std         3.861558\n",
       "min       -20.950000\n",
       "25%        -1.160000\n",
       "50%         0.130000\n",
       "75%         1.715000\n",
       "max        24.920000\n",
       "dtype: float64"
      ]
     },
     "execution_count": 167,
     "metadata": {},
     "output_type": "execute_result"
    }
   ],
   "source": [
    "#summary of daily returns\n",
    "BTC_whole_daily.describe()"
   ]
  },
  {
   "cell_type": "code",
   "execution_count": 170,
   "metadata": {},
   "outputs": [
    {
     "data": {
      "text/plain": [
       "<matplotlib.collections.PathCollection at 0x1a281c2a90>"
      ]
     },
     "execution_count": 170,
     "metadata": {},
     "output_type": "execute_result"
    },
    {
     "data": {
      "image/png": "[encoded data removed]",
      "text/plain": [
       "<Figure size 432x288 with 1 Axes>"
      ]
     },
     "metadata": {
      "needs_background": "light"
     },
     "output_type": "display_data"
    }
   ],
   "source": [
    "#plotting daily returns -takes lone time to run-\n",
    "plt.scatter(BTC_whole['Date'],BTC_whole_daily)"
   ]
  },
  {
   "cell_type": "code",
   "execution_count": 159,
   "metadata": {},
   "outputs": [
    {
     "data": {
      "text/plain": [
       "<matplotlib.collections.PathCollection at 0x1a200cb358>"
      ]
     },
     "execution_count": 159,
     "metadata": {},
     "output_type": "execute_result"
    },
    {
     "data": {
      "image/png": "[encoded data removed]",
      "text/plain": [
       "<Figure size 432x288 with 1 Axes>"
      ]
     },
     "metadata": {
      "needs_background": "light"
     },
     "output_type": "display_data"
    }
   ],
   "source": [
    "plt.scatter(pct_change['BTC Pct Change'], pct_change['WAN Pct Change'], color = 'green')"
   ]
  },
  {
   "cell_type": "code",
   "execution_count": 78,
   "metadata": {},
   "outputs": [
    {
     "data": {
      "text/plain": [
       "Text(-0.14, 0.17, 'y=,1.296,+,-0.00044')"
      ]
     },
     "execution_count": 78,
     "metadata": {},
     "output_type": "execute_result"
    },
    {
     "data": {
      "image/png": "[encoded data removed]",
      "text/plain": [
       "<Figure size 432x288 with 1 Axes>"
      ]
     },
     "metadata": {
      "needs_background": "light"
     },
     "output_type": "display_data"
    }
   ],
   "source": [
    "#linear regression line calculation\n",
    "x = np.array(pct_change['BTC Pct Change'])\n",
    "y = np.array(pct_change['ETH Pct Change'])\n",
    "m, b = np.polyfit(x, y, 1)\n",
    "\n",
    "#plot percent changes of two coins with origin axis and major/minor grid\n",
    "fig, ax = plt.subplots()\n",
    "ax.grid(True, which='both')\n",
    "ax.axhline(y=0, color='k')\n",
    "ax.axvline(x=0, color='k')\n",
    "\n",
    "#ploting percent changes of two coins against each other\n",
    "plt.scatter(pct_change['BTC Pct Change'], pct_change['ETH Pct Change'], color = 'blue')\n",
    "#plotting linear regression line from the scatter plot\n",
    "plt.plot(x, x*m + b, 'red')\n",
    "#title\n",
    "plt.title('BTC ETH')\n",
    "\n",
    "#regression line equation\n",
    "ax.annotate(f\"y=,{round(m,3)},+,{round(b,5)}\", xy=(0, 0), xytext=(-0.14, .17))\n",
    "\n",
    "#exporting plot\n",
    "# plt.savefig('BTC_ETH_scatter_regression.png', bbox_inches = 'tight', dpi = 400)"
   ]
  },
  {
   "cell_type": "code",
   "execution_count": 79,
   "metadata": {},
   "outputs": [
    {
     "data": {
      "text/plain": [
       "Text(-0.14, 0.17, 'y=,0.153,+,0.01165')"
      ]
     },
     "execution_count": 79,
     "metadata": {},
     "output_type": "execute_result"
    },
    {
     "data": {
      "image/png": "[encoded data removed]",
      "text/plain": [
       "<Figure size 432x288 with 1 Axes>"
      ]
     },
     "metadata": {
      "needs_background": "light"
     },
     "output_type": "display_data"
    }
   ],
   "source": [
    "#linear regression line calculation\n",
    "x = np.array(pct_change['ETH Pct Change'])\n",
    "y = np.array(pct_change['WAN Pct Change'])\n",
    "m, b = np.polyfit(x, y, 1)\n",
    "\n",
    "#plot percent changes of two coins with origin axis and major/minor grid\n",
    "fig, ax = plt.subplots()\n",
    "ax.grid(True, which='both')\n",
    "ax.axhline(y=0, color='k')\n",
    "ax.axvline(x=0, color='k')\n",
    "\n",
    "#ploting percent changes of two coins against each other\n",
    "plt.scatter(pct_change['ETH Pct Change'], pct_change['WAN Pct Change'], color = 'green')\n",
    "#plotting linear regression line from the scatter plot\n",
    "plt.plot(x, x*m + b, 'red')\n",
    "#title\n",
    "plt.title('ETH WAN')\n",
    "\n",
    "#regression line equation\n",
    "ax.annotate(f\"y=,{round(m,3)},+,{round(b,5)}\", xy=(0, 0), xytext=(-0.14, .17))\n",
    "\n",
    "#exporting plot\n",
    "# plt.savefig('ETH_WAN_scatter_regression.png', bbox_inches = 'tight', dpi = 400)"
   ]
  },
  {
   "cell_type": "code",
   "execution_count": 89,
   "metadata": {},
   "outputs": [
    {
     "data": {
      "text/plain": [
       "Text(-0.14, 0.17, 'y=,0.544,+,0.00934')"
      ]
     },
     "execution_count": 89,
     "metadata": {},
     "output_type": "execute_result"
    },
    {
     "data": {
      "image/png": "[encoded data removed]",
      "text/plain": [
       "<Figure size 432x288 with 1 Axes>"
      ]
     },
     "metadata": {
      "needs_background": "light"
     },
     "output_type": "display_data"
    }
   ],
   "source": [
    "#linear regression line calculation\n",
    "x = np.array(pct_change['DOGE Pct Change'])\n",
    "y = np.array(pct_change['WAN Pct Change'])\n",
    "m, b = np.polyfit(x, y, 1)\n",
    "\n",
    "#plot percent changes of two coins with origin axis and major/minor grid\n",
    "fig, ax = plt.subplots()\n",
    "ax.grid(True, which='both')\n",
    "ax.axhline(y=0, color='k')\n",
    "ax.axvline(x=0, color='k')\n",
    "\n",
    "#ploting percent changes of two coins against each other\n",
    "plt.scatter(pct_change['DOGE Pct Change'], pct_change['WAN Pct Change'],edgecolors='black', color = 'yellow')\n",
    "#plotting linear regression line from the scatter plot\n",
    "plt.plot(x, x*m + b, 'red')\n",
    "#title\n",
    "plt.title('DOGE WAN')\n",
    "\n",
    "#regression line equation\n",
    "ax.annotate(f\"y=,{round(m,3)},+,{round(b,5)}\", xy=(0, 0), xytext=(-0.14, .17))\n",
    "\n",
    "#exporting plot\n",
    "# plt.savefig('DOGE_WAN_scatter_regression.png', bbox_inches = 'tight', dpi = 400)"
   ]
  },
  {
   "cell_type": "code",
   "execution_count": 9,
   "metadata": {},
   "outputs": [
    {
     "data": {
      "text/plain": [
       "Text(-0.14, 0.17, 'y=,0.709,+,0.00329')"
      ]
     },
     "execution_count": 9,
     "metadata": {},
     "output_type": "execute_result"
    },
    {
     "data": {
      "image/png": "[encoded data removed]",
      "text/plain": [
       "<Figure size 432x288 with 1 Axes>"
      ]
     },
     "metadata": {
      "needs_background": "light"
     },
     "output_type": "display_data"
    }
   ],
   "source": [
    "from scipy import stats\n",
    "#linear regression line calculation\n",
    "x = np.array(pct_change['AE Pct Change'])\n",
    "y = np.array(pct_change['STRAT Pct Change'])\n",
    "m, b = np.polyfit(x, y, 1)\n",
    "slope, intercept, r_value, p_value, std_err = stats.linregress(x,y)\n",
    "\n",
    "r_squared = r_value**2\n",
    "\n",
    "\n",
    "#plot percent changes of two coins with origin axis and major/minor grid\n",
    "fig, ax = plt.subplots()\n",
    "ax.grid(True, which='both')\n",
    "ax.axhline(y=0, color='k')\n",
    "ax.axvline(x=0, color='k')\n",
    "\n",
    "#ploting percent changes of two coins against each other\n",
    "plt.scatter(pct_change['AE Pct Change'], pct_change['STRAT Pct Change'],edgecolors='blue', color = 'orange')\n",
    "#plotting linear regression line from the scatter plot\n",
    "plt.plot(x, x*m + b, 'red')\n",
    "#title\n",
    "plt.title('AE STRAT')\n",
    "\n",
    "#regression line equation\n",
    "ax.annotate(f\"y=,{round(m,3)},+,{round(b,5)}, \", xy=(0, 0), xytext=(-0.14, .17))\n",
    "\n",
    "#exporting plot\n",
    "# plt.savefig('AE_STRAT_scatter_regression.png', bbox_inches = 'tight', dpi = 400)"
   ]
  },
  {
   "cell_type": "code",
   "execution_count": 10,
   "metadata": {},
   "outputs": [
    {
     "data": {
      "text/plain": [
       "0.7088712896401694"
      ]
     },
     "execution_count": 10,
     "metadata": {},
     "output_type": "execute_result"
    }
   ],
   "source": [
    "slope"
   ]
  },
  {
   "cell_type": "code",
   "execution_count": 12,
   "metadata": {},
   "outputs": [
    {
     "data": {
      "text/plain": [
       "0.4808087196520042"
      ]
     },
     "execution_count": 12,
     "metadata": {},
     "output_type": "execute_result"
    }
   ],
   "source": [
    "r_value**2"
   ]
  },
  {
   "cell_type": "code",
   "execution_count": null,
   "metadata": {},
   "outputs": [],
   "source": []
  }
 ],
 "metadata": {
  "kernelspec": {
   "display_name": "learn-env",
   "language": "python",
   "name": "learn-env"
  },
  "language_info": {
   "codemirror_mode": {
    "name": "ipython",
    "version": 3
   },
   "file_extension": ".py",
   "mimetype": "text/x-python",
   "name": "python",
   "nbconvert_exporter": "python",
   "pygments_lexer": "ipython3",
   "version": "3.6.6"
  }
 },
 "nbformat": 4,
 "nbformat_minor": 2
}
