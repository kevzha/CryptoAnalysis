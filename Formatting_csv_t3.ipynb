{
 "cells": [
  {
   "cell_type": "code",
   "execution_count": 3,
   "metadata": {},
   "outputs": [],
   "source": [
    "import pandas as pd\n",
    "import matplotlib.pyplot as plt"
   ]
  },
  {
   "cell_type": "code",
   "execution_count": 6,
   "metadata": {},
   "outputs": [],
   "source": [
    "BTC = pd.read_csv('BTC.csv')"
   ]
  },
  {
   "cell_type": "code",
   "execution_count": 9,
   "metadata": {},
   "outputs": [
    {
     "data": {
      "text/plain": [
       "Index(['date', '1a. open (USD)', '2a. high (USD)', '3a. low (USD)',\n",
       "       '4a. close (USD)', '5. volume', '6. market cap (USD)'],\n",
       "      dtype='object')"
      ]
     },
     "execution_count": 9,
     "metadata": {},
     "output_type": "execute_result"
    }
   ],
   "source": [
    "BTC.columns"
   ]
  },
  {
   "cell_type": "code",
   "execution_count": 15,
   "metadata": {},
   "outputs": [],
   "source": [
    "BTC = BTC.rename(columns={\"1a. open (USD)\": \"Open(USD)\",\"2a. high (USD)\": \"High(USD)\", \n",
    "                    '3a. low (USD)':'Low(USD)', '4a. close (USD)':'Close(USD)', \n",
    "                   '5. volume': 'Volume', '6. market cap (USD)': 'Market Cap(USD)','date': 'Date' })"
   ]
  },
  {
   "cell_type": "code",
   "execution_count": 16,
   "metadata": {},
   "outputs": [
    {
     "data": {
      "text/html": [
       "<div>\n",
       "<style scoped>\n",
       "    .dataframe tbody tr th:only-of-type {\n",
       "        vertical-align: middle;\n",
       "    }\n",
       "\n",
       "    .dataframe tbody tr th {\n",
       "        vertical-align: top;\n",
       "    }\n",
       "\n",
       "    .dataframe thead th {\n",
       "        text-align: right;\n",
       "    }\n",
       "</style>\n",
       "<table border=\"1\" class=\"dataframe\">\n",
       "  <thead>\n",
       "    <tr style=\"text-align: right;\">\n",
       "      <th></th>\n",
       "      <th>Date</th>\n",
       "      <th>Open(USD)</th>\n",
       "      <th>High(USD)</th>\n",
       "      <th>Low(USD)</th>\n",
       "      <th>Close(USD)</th>\n",
       "      <th>Volume</th>\n",
       "      <th>Market Cap(USD)</th>\n",
       "    </tr>\n",
       "  </thead>\n",
       "  <tbody>\n",
       "    <tr>\n",
       "      <th>0</th>\n",
       "      <td>2014-04-01</td>\n",
       "      <td>468.480106</td>\n",
       "      <td>491.267273</td>\n",
       "      <td>468.480106</td>\n",
       "      <td>479.023434</td>\n",
       "      <td>62894.683068</td>\n",
       "      <td>3.012803e+07</td>\n",
       "    </tr>\n",
       "    <tr>\n",
       "      <th>1</th>\n",
       "      <td>2014-04-02</td>\n",
       "      <td>479.679615</td>\n",
       "      <td>494.111337</td>\n",
       "      <td>430.725909</td>\n",
       "      <td>438.377824</td>\n",
       "      <td>96314.587552</td>\n",
       "      <td>4.222218e+07</td>\n",
       "    </tr>\n",
       "    <tr>\n",
       "      <th>2</th>\n",
       "      <td>2014-04-03</td>\n",
       "      <td>437.322089</td>\n",
       "      <td>452.441405</td>\n",
       "      <td>414.811104</td>\n",
       "      <td>446.819755</td>\n",
       "      <td>74292.749549</td>\n",
       "      <td>3.319547e+07</td>\n",
       "    </tr>\n",
       "    <tr>\n",
       "      <th>3</th>\n",
       "      <td>2014-04-04</td>\n",
       "      <td>448.597144</td>\n",
       "      <td>457.327172</td>\n",
       "      <td>429.184117</td>\n",
       "      <td>451.645992</td>\n",
       "      <td>39267.667348</td>\n",
       "      <td>1.773508e+07</td>\n",
       "    </tr>\n",
       "    <tr>\n",
       "      <th>4</th>\n",
       "      <td>2014-04-05</td>\n",
       "      <td>450.027798</td>\n",
       "      <td>466.385470</td>\n",
       "      <td>445.107783</td>\n",
       "      <td>464.379322</td>\n",
       "      <td>21574.144537</td>\n",
       "      <td>1.001859e+07</td>\n",
       "    </tr>\n",
       "  </tbody>\n",
       "</table>\n",
       "</div>"
      ],
      "text/plain": [
       "         Date   Open(USD)   High(USD)    Low(USD)  Close(USD)        Volume  \\\n",
       "0  2014-04-01  468.480106  491.267273  468.480106  479.023434  62894.683068   \n",
       "1  2014-04-02  479.679615  494.111337  430.725909  438.377824  96314.587552   \n",
       "2  2014-04-03  437.322089  452.441405  414.811104  446.819755  74292.749549   \n",
       "3  2014-04-04  448.597144  457.327172  429.184117  451.645992  39267.667348   \n",
       "4  2014-04-05  450.027798  466.385470  445.107783  464.379322  21574.144537   \n",
       "\n",
       "   Market Cap(USD)  \n",
       "0     3.012803e+07  \n",
       "1     4.222218e+07  \n",
       "2     3.319547e+07  \n",
       "3     1.773508e+07  \n",
       "4     1.001859e+07  "
      ]
     },
     "execution_count": 16,
     "metadata": {},
     "output_type": "execute_result"
    }
   ],
   "source": [
    "BTC.head()"
   ]
  },
  {
   "cell_type": "code",
   "execution_count": 17,
   "metadata": {
    "scrolled": true
   },
   "outputs": [
    {
     "data": {
      "text/plain": [
       "(1779, 7)"
      ]
     },
     "execution_count": 17,
     "metadata": {},
     "output_type": "execute_result"
    }
   ],
   "source": [
    "BTC.shape"
   ]
  },
  {
   "cell_type": "code",
   "execution_count": 20,
   "metadata": {},
   "outputs": [],
   "source": [
    "BTC.to_csv('BTC.csv')"
   ]
  },
  {
   "cell_type": "code",
   "execution_count": 21,
   "metadata": {},
   "outputs": [],
   "source": [
    "ETH = pd.read_csv('ETH.csv')"
   ]
  },
  {
   "cell_type": "code",
   "execution_count": 23,
   "metadata": {},
   "outputs": [
    {
     "data": {
      "text/html": [
       "<div>\n",
       "<style scoped>\n",
       "    .dataframe tbody tr th:only-of-type {\n",
       "        vertical-align: middle;\n",
       "    }\n",
       "\n",
       "    .dataframe tbody tr th {\n",
       "        vertical-align: top;\n",
       "    }\n",
       "\n",
       "    .dataframe thead th {\n",
       "        text-align: right;\n",
       "    }\n",
       "</style>\n",
       "<table border=\"1\" class=\"dataframe\">\n",
       "  <thead>\n",
       "    <tr style=\"text-align: right;\">\n",
       "      <th></th>\n",
       "      <th>date</th>\n",
       "      <th>1a. open (USD)</th>\n",
       "      <th>2a. high (USD)</th>\n",
       "      <th>3a. low (USD)</th>\n",
       "      <th>4a. close (USD)</th>\n",
       "      <th>5. volume</th>\n",
       "      <th>6. market cap (USD)</th>\n",
       "    </tr>\n",
       "  </thead>\n",
       "  <tbody>\n",
       "    <tr>\n",
       "      <th>0</th>\n",
       "      <td>2015-08-08</td>\n",
       "      <td>3.00000</td>\n",
       "      <td>3.00000</td>\n",
       "      <td>0.15000</td>\n",
       "      <td>1.19999</td>\n",
       "      <td>1942.888147</td>\n",
       "      <td>2331.446348</td>\n",
       "    </tr>\n",
       "    <tr>\n",
       "      <th>1</th>\n",
       "      <td>2015-08-09</td>\n",
       "      <td>1.19999</td>\n",
       "      <td>1.19999</td>\n",
       "      <td>1.19999</td>\n",
       "      <td>1.19999</td>\n",
       "      <td>0.000000</td>\n",
       "      <td>0.000000</td>\n",
       "    </tr>\n",
       "    <tr>\n",
       "      <th>2</th>\n",
       "      <td>2015-08-10</td>\n",
       "      <td>1.19999</td>\n",
       "      <td>1.19999</td>\n",
       "      <td>1.19999</td>\n",
       "      <td>1.19999</td>\n",
       "      <td>0.000000</td>\n",
       "      <td>0.000000</td>\n",
       "    </tr>\n",
       "    <tr>\n",
       "      <th>3</th>\n",
       "      <td>2015-08-11</td>\n",
       "      <td>1.19999</td>\n",
       "      <td>1.19999</td>\n",
       "      <td>0.65038</td>\n",
       "      <td>0.99000</td>\n",
       "      <td>9234.568705</td>\n",
       "      <td>9142.223018</td>\n",
       "    </tr>\n",
       "    <tr>\n",
       "      <th>4</th>\n",
       "      <td>2015-08-12</td>\n",
       "      <td>0.99000</td>\n",
       "      <td>1.28800</td>\n",
       "      <td>0.90500</td>\n",
       "      <td>1.28800</td>\n",
       "      <td>1736.114983</td>\n",
       "      <td>2236.116098</td>\n",
       "    </tr>\n",
       "  </tbody>\n",
       "</table>\n",
       "</div>"
      ],
      "text/plain": [
       "         date  1a. open (USD)  2a. high (USD)  3a. low (USD)  4a. close (USD)  \\\n",
       "0  2015-08-08         3.00000         3.00000        0.15000          1.19999   \n",
       "1  2015-08-09         1.19999         1.19999        1.19999          1.19999   \n",
       "2  2015-08-10         1.19999         1.19999        1.19999          1.19999   \n",
       "3  2015-08-11         1.19999         1.19999        0.65038          0.99000   \n",
       "4  2015-08-12         0.99000         1.28800        0.90500          1.28800   \n",
       "\n",
       "     5. volume  6. market cap (USD)  \n",
       "0  1942.888147          2331.446348  \n",
       "1     0.000000             0.000000  \n",
       "2     0.000000             0.000000  \n",
       "3  9234.568705          9142.223018  \n",
       "4  1736.114983          2236.116098  "
      ]
     },
     "execution_count": 23,
     "metadata": {},
     "output_type": "execute_result"
    }
   ],
   "source": [
    "ETH.head()"
   ]
  },
  {
   "cell_type": "code",
   "execution_count": 24,
   "metadata": {},
   "outputs": [],
   "source": [
    "ETH = ETH.rename(columns={\"1a. open (USD)\": \"Open(USD)\",\"2a. high (USD)\": \"High(USD)\", \n",
    "                    '3a. low (USD)':'Low(USD)', '4a. close (USD)':'Close(USD)', \n",
    "                   '5. volume': 'Volume', '6. market cap (USD)': 'Market Cap(USD)','date': 'Date' })"
   ]
  },
  {
   "cell_type": "code",
   "execution_count": 25,
   "metadata": {},
   "outputs": [],
   "source": [
    "ETH.to_csv('ETH.csv')"
   ]
  },
  {
   "cell_type": "code",
   "execution_count": null,
   "metadata": {},
   "outputs": [],
   "source": []
  },
  {
   "cell_type": "code",
   "execution_count": 26,
   "metadata": {},
   "outputs": [],
   "source": [
    "XRP = pd.read_csv('XRP.csv')"
   ]
  },
  {
   "cell_type": "code",
   "execution_count": 29,
   "metadata": {},
   "outputs": [
    {
     "data": {
      "text/html": [
       "<div>\n",
       "<style scoped>\n",
       "    .dataframe tbody tr th:only-of-type {\n",
       "        vertical-align: middle;\n",
       "    }\n",
       "\n",
       "    .dataframe tbody tr th {\n",
       "        vertical-align: top;\n",
       "    }\n",
       "\n",
       "    .dataframe thead th {\n",
       "        text-align: right;\n",
       "    }\n",
       "</style>\n",
       "<table border=\"1\" class=\"dataframe\">\n",
       "  <thead>\n",
       "    <tr style=\"text-align: right;\">\n",
       "      <th></th>\n",
       "      <th>Date</th>\n",
       "      <th>Open(USD)</th>\n",
       "      <th>High(USD)</th>\n",
       "      <th>Low(USD)</th>\n",
       "      <th>Close(USD)</th>\n",
       "      <th>Volume</th>\n",
       "      <th>Market Cap(USD)</th>\n",
       "    </tr>\n",
       "  </thead>\n",
       "  <tbody>\n",
       "    <tr>\n",
       "      <th>0</th>\n",
       "      <td>2014-04-09</td>\n",
       "      <td>0.009407</td>\n",
       "      <td>0.009407</td>\n",
       "      <td>0.008333</td>\n",
       "      <td>0.008333</td>\n",
       "      <td>1658.399999</td>\n",
       "      <td>13.820000</td>\n",
       "    </tr>\n",
       "    <tr>\n",
       "      <th>1</th>\n",
       "      <td>2014-04-10</td>\n",
       "      <td>0.008333</td>\n",
       "      <td>0.008333</td>\n",
       "      <td>0.006796</td>\n",
       "      <td>0.006796</td>\n",
       "      <td>10037.029375</td>\n",
       "      <td>68.216000</td>\n",
       "    </tr>\n",
       "    <tr>\n",
       "      <th>2</th>\n",
       "      <td>2014-04-11</td>\n",
       "      <td>0.006796</td>\n",
       "      <td>0.006983</td>\n",
       "      <td>0.006727</td>\n",
       "      <td>0.006727</td>\n",
       "      <td>184.338400</td>\n",
       "      <td>1.240000</td>\n",
       "    </tr>\n",
       "    <tr>\n",
       "      <th>3</th>\n",
       "      <td>2014-04-12</td>\n",
       "      <td>0.006727</td>\n",
       "      <td>0.006893</td>\n",
       "      <td>0.006727</td>\n",
       "      <td>0.006880</td>\n",
       "      <td>7965.670792</td>\n",
       "      <td>54.803000</td>\n",
       "    </tr>\n",
       "    <tr>\n",
       "      <th>4</th>\n",
       "      <td>2014-04-13</td>\n",
       "      <td>0.006880</td>\n",
       "      <td>0.006880</td>\n",
       "      <td>0.006515</td>\n",
       "      <td>0.006515</td>\n",
       "      <td>91.700000</td>\n",
       "      <td>0.597468</td>\n",
       "    </tr>\n",
       "  </tbody>\n",
       "</table>\n",
       "</div>"
      ],
      "text/plain": [
       "         Date  Open(USD)  High(USD)  Low(USD)  Close(USD)        Volume  \\\n",
       "0  2014-04-09   0.009407   0.009407  0.008333    0.008333   1658.399999   \n",
       "1  2014-04-10   0.008333   0.008333  0.006796    0.006796  10037.029375   \n",
       "2  2014-04-11   0.006796   0.006983  0.006727    0.006727    184.338400   \n",
       "3  2014-04-12   0.006727   0.006893  0.006727    0.006880   7965.670792   \n",
       "4  2014-04-13   0.006880   0.006880  0.006515    0.006515     91.700000   \n",
       "\n",
       "   Market Cap(USD)  \n",
       "0        13.820000  \n",
       "1        68.216000  \n",
       "2         1.240000  \n",
       "3        54.803000  \n",
       "4         0.597468  "
      ]
     },
     "execution_count": 29,
     "metadata": {},
     "output_type": "execute_result"
    }
   ],
   "source": [
    "XRP.head()"
   ]
  },
  {
   "cell_type": "code",
   "execution_count": 27,
   "metadata": {},
   "outputs": [],
   "source": [
    "XRP = XRP.rename(columns={\"1a. open (USD)\": \"Open(USD)\",\"2a. high (USD)\": \"High(USD)\", \n",
    "                    '3a. low (USD)':'Low(USD)', '4a. close (USD)':'Close(USD)', \n",
    "                   '5. volume': 'Volume', '6. market cap (USD)': 'Market Cap(USD)','date': 'Date' })"
   ]
  },
  {
   "cell_type": "code",
   "execution_count": 28,
   "metadata": {},
   "outputs": [],
   "source": [
    "XRP.to_csv('XRP.csv')"
   ]
  },
  {
   "cell_type": "code",
   "execution_count": null,
   "metadata": {},
   "outputs": [],
   "source": []
  }
 ],
 "metadata": {
  "kernelspec": {
   "display_name": "Python 3",
   "language": "python",
   "name": "python3"
  },
  "language_info": {
   "codemirror_mode": {
    "name": "ipython",
    "version": 3
   },
   "file_extension": ".py",
   "mimetype": "text/x-python",
   "name": "python",
   "nbconvert_exporter": "python",
   "pygments_lexer": "ipython3",
   "version": "3.7.1"
  }
 },
 "nbformat": 4,
 "nbformat_minor": 2
}
