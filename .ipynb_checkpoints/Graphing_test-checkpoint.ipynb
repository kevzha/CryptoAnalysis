{
 "cells": [
  {
   "cell_type": "code",
   "execution_count": 134,
   "metadata": {},
   "outputs": [],
   "source": [
    "import pandas as pd\n",
    "import matplotlib.pyplot as plt\n",
    "import numpy as np\n"
   ]
  },
  {
   "cell_type": "code",
   "execution_count": 29,
   "metadata": {},
   "outputs": [],
   "source": [
    "BTC = pd.read_csv('BTC.csv').drop(['Unnamed: 0'], axis=1)\n",
    "ETH = pd.read_csv('ETH.csv').drop(['Unnamed: 0'], axis=1)\n",
    "XRP = pd.read_csv('XRP.csv').drop(['Unnamed: 0'], axis=1)\n",
    "WAN = pd.read_csv('WAN').drop(['Unnamed: 0'], axis=1).drop(['Unnamed: 1'], axis=1)\n",
    "ELA = pd.read_csv('ELA').drop(['Unnamed: 0'], axis=1).drop(['Unnamed: 1'], axis=1)\n",
    "KCS = pd.read_csv('KCS').drop(['Unnamed: 0'], axis=1).drop(['Unnamed: 1'], axis=1)\n"
   ]
  },
  {
   "cell_type": "code",
   "execution_count": 31,
   "metadata": {},
   "outputs": [
    {
     "data": {
      "text/plain": [
       "Index(['Date', 'Open*', 'High', 'Low', 'Close**', 'Volume', 'Market Cap'], dtype='object')"
      ]
     },
     "execution_count": 31,
     "metadata": {},
     "output_type": "execute_result"
    }
   ],
   "source": [
    "WAN.columns"
   ]
  },
  {
   "cell_type": "code",
   "execution_count": 19,
   "metadata": {
    "scrolled": true
   },
   "outputs": [
    {
     "data": {
      "text/plain": [
       "Index(['Date', 'Open(USD)', 'High(USD)', 'Low(USD)', 'Close(USD)', 'Volume',\n",
       "       'Market Cap(USD)'],\n",
       "      dtype='object')"
      ]
     },
     "execution_count": 19,
     "metadata": {},
     "output_type": "execute_result"
    }
   ],
   "source": [
    "BTC.columns"
   ]
  },
  {
   "cell_type": "code",
   "execution_count": 70,
   "metadata": {},
   "outputs": [],
   "source": [
    "BTC_close = BTC.loc[:, ['Close(USD)']].values"
   ]
  },
  {
   "cell_type": "code",
   "execution_count": 71,
   "metadata": {},
   "outputs": [
    {
     "data": {
      "text/plain": [
       "array([[ 479.0234337 ],\n",
       "       [ 438.37782382],\n",
       "       [ 446.81975514],\n",
       "       ...,\n",
       "       [3686.97761018],\n",
       "       [3643.486916  ],\n",
       "       [3646.32014553]])"
      ]
     },
     "execution_count": 71,
     "metadata": {},
     "output_type": "execute_result"
    }
   ],
   "source": [
    "BTC_close"
   ]
  },
  {
   "cell_type": "code",
   "execution_count": 64,
   "metadata": {},
   "outputs": [
    {
     "data": {
      "text/html": [
       "<div>\n",
       "<style scoped>\n",
       "    .dataframe tbody tr th:only-of-type {\n",
       "        vertical-align: middle;\n",
       "    }\n",
       "\n",
       "    .dataframe tbody tr th {\n",
       "        vertical-align: top;\n",
       "    }\n",
       "\n",
       "    .dataframe thead th {\n",
       "        text-align: right;\n",
       "    }\n",
       "</style>\n",
       "<table border=\"1\" class=\"dataframe\">\n",
       "  <thead>\n",
       "    <tr style=\"text-align: right;\">\n",
       "      <th></th>\n",
       "      <th>Close(USD)</th>\n",
       "    </tr>\n",
       "  </thead>\n",
       "  <tbody>\n",
       "    <tr>\n",
       "      <th>0</th>\n",
       "      <td>479.023434</td>\n",
       "    </tr>\n",
       "    <tr>\n",
       "      <th>1</th>\n",
       "      <td>438.377824</td>\n",
       "    </tr>\n",
       "    <tr>\n",
       "      <th>2</th>\n",
       "      <td>446.819755</td>\n",
       "    </tr>\n",
       "    <tr>\n",
       "      <th>3</th>\n",
       "      <td>451.645992</td>\n",
       "    </tr>\n",
       "    <tr>\n",
       "      <th>4</th>\n",
       "      <td>464.379322</td>\n",
       "    </tr>\n",
       "  </tbody>\n",
       "</table>\n",
       "</div>"
      ],
      "text/plain": [
       "   Close(USD)\n",
       "0  479.023434\n",
       "1  438.377824\n",
       "2  446.819755\n",
       "3  451.645992\n",
       "4  464.379322"
      ]
     },
     "execution_count": 64,
     "metadata": {},
     "output_type": "execute_result"
    }
   ],
   "source": [
    "BTC.loc[:, ['Close(USD)']].head()"
   ]
  },
  {
   "cell_type": "code",
   "execution_count": 121,
   "metadata": {},
   "outputs": [],
   "source": [
    "BTC_close_pctchange = BTC.loc[:, ['Close(USD)']].pct_change()\n",
    "ETH_close_pctchange = ETH.loc[:,['Close(USD)']].pct_change()\n",
    "XRP_close_pctchange = XRP.loc[:,['Close(USD)']].pct_change()\n",
    "WAN_close_pctchange = pd.to_numeric(WAN.drop([326, 326]).loc[:,'Close**']).pct_change()\n",
    "ELA_close_pctchange = pd.to_numeric(ELA.drop([376, 376]).loc[:,'Close**']).pct_change()\n",
    "KCS_close_pctchange = pd.to_numeric(KCS.drop([476, 476]).loc[:,'Close**']).pct_change()"
   ]
  },
  {
   "cell_type": "code",
   "execution_count": 122,
   "metadata": {},
   "outputs": [],
   "source": [
    "BTC['Close Percent Change'] = BTC_close_pctchange\n",
    "ETH['Close Percent Change'] = ETH_close_pctchange\n",
    "XRP['Close Percent Change'] = XRP_close_pctchange\n",
    "WAN['Close Percent Change'] = WAN_close_pctchange\n",
    "ELA['Close Percent Change'] = ELA_close_pctchange\n",
    "KCS['Close Percent Change'] = KCS_close_pctchange"
   ]
  },
  {
   "cell_type": "code",
   "execution_count": 131,
   "metadata": {},
   "outputs": [
    {
     "data": {
      "text/plain": [
       "((1779, 8), (1285, 8), (1691, 8), (327, 8), (377, 8), (477, 8))"
      ]
     },
     "execution_count": 131,
     "metadata": {},
     "output_type": "execute_result"
    }
   ],
   "source": [
    "BTC.shape, ETH.shape, XRP.shape, WAN.shape, ELA.shape, KCS.shape"
   ]
  },
  {
   "cell_type": "code",
   "execution_count": null,
   "metadata": {},
   "outputs": [],
   "source": []
  },
  {
   "cell_type": "markdown",
   "metadata": {},
   "source": [
    "Comparison\n",
    "t3 vs b3 percent changes, if both positive = TRUE ----how close of %change \n",
    "                          if both negative = TRUE ----how close of %change\n",
    "                          if opposite = FALSE\n",
    "\n",
    "\n"
   ]
  },
  {
   "cell_type": "code",
   "execution_count": null,
   "metadata": {},
   "outputs": [],
   "source": []
  }
 ],
 "metadata": {
  "kernelspec": {
   "display_name": "Python 3",
   "language": "python",
   "name": "python3"
  },
  "language_info": {
   "codemirror_mode": {
    "name": "ipython",
    "version": 3
   },
   "file_extension": ".py",
   "mimetype": "text/x-python",
   "name": "python",
   "nbconvert_exporter": "python",
   "pygments_lexer": "ipython3",
   "version": "3.7.1"
  }
 },
 "nbformat": 4,
 "nbformat_minor": 2
}
