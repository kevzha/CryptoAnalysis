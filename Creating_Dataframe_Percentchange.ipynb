{
 "cells": [
  {
   "cell_type": "code",
   "execution_count": 119,
   "metadata": {},
   "outputs": [],
   "source": [
    "import pandas as pd"
   ]
  },
  {
   "cell_type": "code",
   "execution_count": 120,
   "metadata": {},
   "outputs": [],
   "source": [
    "XRP = pd.read_csv(\"XRP_reshaped.csv\").drop(XRP.columns[0], axis=1)"
   ]
  },
  {
   "cell_type": "code",
   "execution_count": 121,
   "metadata": {},
   "outputs": [],
   "source": [
    "KCS = pd.read_csv(\"KCS_reshaped.csv\").drop(KCS.columns[[0,1]], axis=1)"
   ]
  },
  {
   "cell_type": "code",
   "execution_count": 122,
   "metadata": {},
   "outputs": [],
   "source": [
    "BTC = pd.read_csv(\"BTC_reshaped.csv\").drop(BTC.columns[0], axis=1)"
   ]
  },
  {
   "cell_type": "code",
   "execution_count": 123,
   "metadata": {},
   "outputs": [],
   "source": [
    "ETH = pd.read_csv(\"ETH_reshaped.csv\").drop(ETH.columns[0], axis=1)"
   ]
  },
  {
   "cell_type": "code",
   "execution_count": 124,
   "metadata": {},
   "outputs": [],
   "source": [
    "WAN = pd.read_csv(\"WAN_reshaped.csv\").drop(WAN.columns[[0,1]], axis=1)"
   ]
  },
  {
   "cell_type": "code",
   "execution_count": 152,
   "metadata": {},
   "outputs": [],
   "source": [
    "ELA = pd.read_csv(\"ELA_reshaped.csv\").drop(ELA.columns[[0,1]], axis=1)"
   ]
  },
  {
   "cell_type": "code",
   "execution_count": null,
   "metadata": {},
   "outputs": [],
   "source": []
  },
  {
   "cell_type": "code",
   "execution_count": 129,
   "metadata": {},
   "outputs": [
    {
     "data": {
      "text/html": [
       "<div>\n",
       "<style scoped>\n",
       "    .dataframe tbody tr th:only-of-type {\n",
       "        vertical-align: middle;\n",
       "    }\n",
       "\n",
       "    .dataframe tbody tr th {\n",
       "        vertical-align: top;\n",
       "    }\n",
       "\n",
       "    .dataframe thead th {\n",
       "        text-align: right;\n",
       "    }\n",
       "</style>\n",
       "<table border=\"1\" class=\"dataframe\">\n",
       "  <thead>\n",
       "    <tr style=\"text-align: right;\">\n",
       "      <th></th>\n",
       "      <th>Date</th>\n",
       "      <th>Open(USD)</th>\n",
       "      <th>High(USD)</th>\n",
       "      <th>Low(USD)</th>\n",
       "      <th>Close(USD)</th>\n",
       "      <th>Volume</th>\n",
       "      <th>Market Cap(USD)</th>\n",
       "      <th>Close Percent Change</th>\n",
       "    </tr>\n",
       "  </thead>\n",
       "  <tbody>\n",
       "    <tr>\n",
       "      <th>0</th>\n",
       "      <td>2019-02-11</td>\n",
       "      <td>0.308690</td>\n",
       "      <td>0.308690</td>\n",
       "      <td>0.301492</td>\n",
       "      <td>0.304300</td>\n",
       "      <td>5.778466e+07</td>\n",
       "      <td>1.758387e+07</td>\n",
       "      <td>-0.014931</td>\n",
       "    </tr>\n",
       "    <tr>\n",
       "      <th>1</th>\n",
       "      <td>2019-02-10</td>\n",
       "      <td>0.310565</td>\n",
       "      <td>0.310606</td>\n",
       "      <td>0.301255</td>\n",
       "      <td>0.308912</td>\n",
       "      <td>6.572975e+07</td>\n",
       "      <td>2.030472e+07</td>\n",
       "      <td>-0.005581</td>\n",
       "    </tr>\n",
       "    <tr>\n",
       "      <th>2</th>\n",
       "      <td>2019-02-09</td>\n",
       "      <td>0.312023</td>\n",
       "      <td>0.314838</td>\n",
       "      <td>0.307961</td>\n",
       "      <td>0.310646</td>\n",
       "      <td>7.037505e+07</td>\n",
       "      <td>2.186172e+07</td>\n",
       "      <td>-0.004431</td>\n",
       "    </tr>\n",
       "    <tr>\n",
       "      <th>3</th>\n",
       "      <td>2019-02-08</td>\n",
       "      <td>0.291697</td>\n",
       "      <td>0.316722</td>\n",
       "      <td>0.289610</td>\n",
       "      <td>0.312029</td>\n",
       "      <td>1.172229e+08</td>\n",
       "      <td>3.657690e+07</td>\n",
       "      <td>0.069894</td>\n",
       "    </tr>\n",
       "    <tr>\n",
       "      <th>4</th>\n",
       "      <td>2019-02-07</td>\n",
       "      <td>0.289587</td>\n",
       "      <td>0.292504</td>\n",
       "      <td>0.288824</td>\n",
       "      <td>0.291644</td>\n",
       "      <td>6.296781e+07</td>\n",
       "      <td>1.836421e+07</td>\n",
       "      <td>0.007248</td>\n",
       "    </tr>\n",
       "  </tbody>\n",
       "</table>\n",
       "</div>"
      ],
      "text/plain": [
       "         Date  Open(USD)  High(USD)  Low(USD)  Close(USD)        Volume  \\\n",
       "0  2019-02-11   0.308690   0.308690  0.301492    0.304300  5.778466e+07   \n",
       "1  2019-02-10   0.310565   0.310606  0.301255    0.308912  6.572975e+07   \n",
       "2  2019-02-09   0.312023   0.314838  0.307961    0.310646  7.037505e+07   \n",
       "3  2019-02-08   0.291697   0.316722  0.289610    0.312029  1.172229e+08   \n",
       "4  2019-02-07   0.289587   0.292504  0.288824    0.291644  6.296781e+07   \n",
       "\n",
       "   Market Cap(USD)  Close Percent Change  \n",
       "0     1.758387e+07             -0.014931  \n",
       "1     2.030472e+07             -0.005581  \n",
       "2     2.186172e+07             -0.004431  \n",
       "3     3.657690e+07              0.069894  \n",
       "4     1.836421e+07              0.007248  "
      ]
     },
     "execution_count": 129,
     "metadata": {},
     "output_type": "execute_result"
    }
   ],
   "source": [
    "XRP.head()"
   ]
  },
  {
   "cell_type": "code",
   "execution_count": 130,
   "metadata": {},
   "outputs": [],
   "source": [
    "Percent_ChangeBTCWcloseALL= BTC.drop(BTC.columns[[1,2,3,5,6]], axis=1)"
   ]
  },
  {
   "cell_type": "code",
   "execution_count": 131,
   "metadata": {
    "scrolled": true
   },
   "outputs": [],
   "source": [
    "Percent_ChangeWcloseALL=Percent_ChangeBTCWcloseALL.rename(columns={\"Close(USD)\": \"BTC Close (USD)\", \"Close Percent Change\":\"BTC Percent Change DoD\"})"
   ]
  },
  {
   "cell_type": "code",
   "execution_count": 132,
   "metadata": {},
   "outputs": [
    {
     "data": {
      "text/html": [
       "<div>\n",
       "<style scoped>\n",
       "    .dataframe tbody tr th:only-of-type {\n",
       "        vertical-align: middle;\n",
       "    }\n",
       "\n",
       "    .dataframe tbody tr th {\n",
       "        vertical-align: top;\n",
       "    }\n",
       "\n",
       "    .dataframe thead th {\n",
       "        text-align: right;\n",
       "    }\n",
       "</style>\n",
       "<table border=\"1\" class=\"dataframe\">\n",
       "  <thead>\n",
       "    <tr style=\"text-align: right;\">\n",
       "      <th></th>\n",
       "      <th>Date</th>\n",
       "      <th>BTC Close (USD)</th>\n",
       "      <th>BTC Percent Change DoD</th>\n",
       "    </tr>\n",
       "  </thead>\n",
       "  <tbody>\n",
       "    <tr>\n",
       "      <th>0</th>\n",
       "      <td>2019-02-11</td>\n",
       "      <td>3643.486916</td>\n",
       "      <td>-0.011796</td>\n",
       "    </tr>\n",
       "    <tr>\n",
       "      <th>1</th>\n",
       "      <td>2019-02-10</td>\n",
       "      <td>3686.977610</td>\n",
       "      <td>0.005950</td>\n",
       "    </tr>\n",
       "    <tr>\n",
       "      <th>2</th>\n",
       "      <td>2019-02-09</td>\n",
       "      <td>3665.169880</td>\n",
       "      <td>0.001853</td>\n",
       "    </tr>\n",
       "    <tr>\n",
       "      <th>3</th>\n",
       "      <td>2019-02-08</td>\n",
       "      <td>3658.389649</td>\n",
       "      <td>0.079010</td>\n",
       "    </tr>\n",
       "    <tr>\n",
       "      <th>4</th>\n",
       "      <td>2019-02-07</td>\n",
       "      <td>3390.505404</td>\n",
       "      <td>-0.004367</td>\n",
       "    </tr>\n",
       "  </tbody>\n",
       "</table>\n",
       "</div>"
      ],
      "text/plain": [
       "         Date  BTC Close (USD)  BTC Percent Change DoD\n",
       "0  2019-02-11      3643.486916               -0.011796\n",
       "1  2019-02-10      3686.977610                0.005950\n",
       "2  2019-02-09      3665.169880                0.001853\n",
       "3  2019-02-08      3658.389649                0.079010\n",
       "4  2019-02-07      3390.505404               -0.004367"
      ]
     },
     "execution_count": 132,
     "metadata": {},
     "output_type": "execute_result"
    }
   ],
   "source": [
    "Percent_ChangeWcloseALL.head()"
   ]
  },
  {
   "cell_type": "code",
   "execution_count": 133,
   "metadata": {},
   "outputs": [
    {
     "data": {
      "text/html": [
       "<div>\n",
       "<style scoped>\n",
       "    .dataframe tbody tr th:only-of-type {\n",
       "        vertical-align: middle;\n",
       "    }\n",
       "\n",
       "    .dataframe tbody tr th {\n",
       "        vertical-align: top;\n",
       "    }\n",
       "\n",
       "    .dataframe thead th {\n",
       "        text-align: right;\n",
       "    }\n",
       "</style>\n",
       "<table border=\"1\" class=\"dataframe\">\n",
       "  <thead>\n",
       "    <tr style=\"text-align: right;\">\n",
       "      <th></th>\n",
       "      <th>Date</th>\n",
       "      <th>Open(USD)</th>\n",
       "      <th>High(USD)</th>\n",
       "      <th>Low(USD)</th>\n",
       "      <th>Close(USD)</th>\n",
       "      <th>Volume</th>\n",
       "      <th>Market Cap(USD)</th>\n",
       "      <th>Close Percent Change</th>\n",
       "    </tr>\n",
       "  </thead>\n",
       "  <tbody>\n",
       "    <tr>\n",
       "      <th>0</th>\n",
       "      <td>2019-02-11</td>\n",
       "      <td>0.308690</td>\n",
       "      <td>0.308690</td>\n",
       "      <td>0.301492</td>\n",
       "      <td>0.304300</td>\n",
       "      <td>5.778466e+07</td>\n",
       "      <td>1.758387e+07</td>\n",
       "      <td>-0.014931</td>\n",
       "    </tr>\n",
       "    <tr>\n",
       "      <th>1</th>\n",
       "      <td>2019-02-10</td>\n",
       "      <td>0.310565</td>\n",
       "      <td>0.310606</td>\n",
       "      <td>0.301255</td>\n",
       "      <td>0.308912</td>\n",
       "      <td>6.572975e+07</td>\n",
       "      <td>2.030472e+07</td>\n",
       "      <td>-0.005581</td>\n",
       "    </tr>\n",
       "    <tr>\n",
       "      <th>2</th>\n",
       "      <td>2019-02-09</td>\n",
       "      <td>0.312023</td>\n",
       "      <td>0.314838</td>\n",
       "      <td>0.307961</td>\n",
       "      <td>0.310646</td>\n",
       "      <td>7.037505e+07</td>\n",
       "      <td>2.186172e+07</td>\n",
       "      <td>-0.004431</td>\n",
       "    </tr>\n",
       "    <tr>\n",
       "      <th>3</th>\n",
       "      <td>2019-02-08</td>\n",
       "      <td>0.291697</td>\n",
       "      <td>0.316722</td>\n",
       "      <td>0.289610</td>\n",
       "      <td>0.312029</td>\n",
       "      <td>1.172229e+08</td>\n",
       "      <td>3.657690e+07</td>\n",
       "      <td>0.069894</td>\n",
       "    </tr>\n",
       "    <tr>\n",
       "      <th>4</th>\n",
       "      <td>2019-02-07</td>\n",
       "      <td>0.289587</td>\n",
       "      <td>0.292504</td>\n",
       "      <td>0.288824</td>\n",
       "      <td>0.291644</td>\n",
       "      <td>6.296781e+07</td>\n",
       "      <td>1.836421e+07</td>\n",
       "      <td>0.007248</td>\n",
       "    </tr>\n",
       "  </tbody>\n",
       "</table>\n",
       "</div>"
      ],
      "text/plain": [
       "         Date  Open(USD)  High(USD)  Low(USD)  Close(USD)        Volume  \\\n",
       "0  2019-02-11   0.308690   0.308690  0.301492    0.304300  5.778466e+07   \n",
       "1  2019-02-10   0.310565   0.310606  0.301255    0.308912  6.572975e+07   \n",
       "2  2019-02-09   0.312023   0.314838  0.307961    0.310646  7.037505e+07   \n",
       "3  2019-02-08   0.291697   0.316722  0.289610    0.312029  1.172229e+08   \n",
       "4  2019-02-07   0.289587   0.292504  0.288824    0.291644  6.296781e+07   \n",
       "\n",
       "   Market Cap(USD)  Close Percent Change  \n",
       "0     1.758387e+07             -0.014931  \n",
       "1     2.030472e+07             -0.005581  \n",
       "2     2.186172e+07             -0.004431  \n",
       "3     3.657690e+07              0.069894  \n",
       "4     1.836421e+07              0.007248  "
      ]
     },
     "execution_count": 133,
     "metadata": {},
     "output_type": "execute_result"
    }
   ],
   "source": [
    "XRP.head()"
   ]
  },
  {
   "cell_type": "code",
   "execution_count": 134,
   "metadata": {},
   "outputs": [],
   "source": [
    "BTCXRPmerge= pd.merge(Percent_ChangeWcloseALL,\n",
    "                 XRP[['Date', 'Close(USD)', 'Close Percent Change']],\n",
    "                 on='Date')"
   ]
  },
  {
   "cell_type": "code",
   "execution_count": 138,
   "metadata": {},
   "outputs": [],
   "source": [
    "BTCXRP= BTCXRPmerge.rename(columns={\"Close(USD)\": \"XRP Close (USD)\", \"Close Percent Change\":\"XRP Percent Change DoD\"})"
   ]
  },
  {
   "cell_type": "code",
   "execution_count": 143,
   "metadata": {},
   "outputs": [],
   "source": [
    "BTCXRPETHmerge= pd.merge(BTCXRP,\n",
    "                 ETH[['Date', 'Close(USD)', 'Close Percent Change']],\n",
    "                 on='Date')"
   ]
  },
  {
   "cell_type": "code",
   "execution_count": 165,
   "metadata": {},
   "outputs": [],
   "source": [
    "BTCXRPETH= BTCXRPETHmerge.rename(columns={\"Close(USD)\": \"ETH Close (USD)\", \"Close Percent Change\":\"ETH Percent Change DoD\"})"
   ]
  },
  {
   "cell_type": "code",
   "execution_count": 166,
   "metadata": {},
   "outputs": [
    {
     "data": {
      "text/html": [
       "<div>\n",
       "<style scoped>\n",
       "    .dataframe tbody tr th:only-of-type {\n",
       "        vertical-align: middle;\n",
       "    }\n",
       "\n",
       "    .dataframe tbody tr th {\n",
       "        vertical-align: top;\n",
       "    }\n",
       "\n",
       "    .dataframe thead th {\n",
       "        text-align: right;\n",
       "    }\n",
       "</style>\n",
       "<table border=\"1\" class=\"dataframe\">\n",
       "  <thead>\n",
       "    <tr style=\"text-align: right;\">\n",
       "      <th></th>\n",
       "      <th>Date</th>\n",
       "      <th>BTC Close (USD)</th>\n",
       "      <th>BTC Percent Change DoD</th>\n",
       "      <th>XRP Close (USD)</th>\n",
       "      <th>XRP Percent Change DoD</th>\n",
       "      <th>ETH Close (USD)</th>\n",
       "      <th>ETH Percent Change DoD</th>\n",
       "    </tr>\n",
       "  </thead>\n",
       "  <tbody>\n",
       "    <tr>\n",
       "      <th>0</th>\n",
       "      <td>2019-02-11</td>\n",
       "      <td>3643.486916</td>\n",
       "      <td>-0.011796</td>\n",
       "      <td>0.304300</td>\n",
       "      <td>-0.014931</td>\n",
       "      <td>121.159210</td>\n",
       "      <td>-0.030340</td>\n",
       "    </tr>\n",
       "    <tr>\n",
       "      <th>1</th>\n",
       "      <td>2019-02-10</td>\n",
       "      <td>3686.977610</td>\n",
       "      <td>0.005950</td>\n",
       "      <td>0.308912</td>\n",
       "      <td>-0.005581</td>\n",
       "      <td>124.950229</td>\n",
       "      <td>0.043197</td>\n",
       "    </tr>\n",
       "    <tr>\n",
       "      <th>2</th>\n",
       "      <td>2019-02-09</td>\n",
       "      <td>3665.169880</td>\n",
       "      <td>0.001853</td>\n",
       "      <td>0.310646</td>\n",
       "      <td>-0.004431</td>\n",
       "      <td>119.776270</td>\n",
       "      <td>0.001024</td>\n",
       "    </tr>\n",
       "    <tr>\n",
       "      <th>3</th>\n",
       "      <td>2019-02-08</td>\n",
       "      <td>3658.389649</td>\n",
       "      <td>0.079010</td>\n",
       "      <td>0.312029</td>\n",
       "      <td>0.069894</td>\n",
       "      <td>119.653788</td>\n",
       "      <td>0.148601</td>\n",
       "    </tr>\n",
       "    <tr>\n",
       "      <th>4</th>\n",
       "      <td>2019-02-07</td>\n",
       "      <td>3390.505404</td>\n",
       "      <td>-0.004367</td>\n",
       "      <td>0.291644</td>\n",
       "      <td>0.007248</td>\n",
       "      <td>104.173485</td>\n",
       "      <td>-0.003487</td>\n",
       "    </tr>\n",
       "  </tbody>\n",
       "</table>\n",
       "</div>"
      ],
      "text/plain": [
       "         Date  BTC Close (USD)  BTC Percent Change DoD  XRP Close (USD)  \\\n",
       "0  2019-02-11      3643.486916               -0.011796         0.304300   \n",
       "1  2019-02-10      3686.977610                0.005950         0.308912   \n",
       "2  2019-02-09      3665.169880                0.001853         0.310646   \n",
       "3  2019-02-08      3658.389649                0.079010         0.312029   \n",
       "4  2019-02-07      3390.505404               -0.004367         0.291644   \n",
       "\n",
       "   XRP Percent Change DoD  ETH Close (USD)  ETH Percent Change DoD  \n",
       "0               -0.014931       121.159210               -0.030340  \n",
       "1               -0.005581       124.950229                0.043197  \n",
       "2               -0.004431       119.776270                0.001024  \n",
       "3                0.069894       119.653788                0.148601  \n",
       "4                0.007248       104.173485               -0.003487  "
      ]
     },
     "execution_count": 166,
     "metadata": {},
     "output_type": "execute_result"
    }
   ],
   "source": [
    "BTCXRPETH.head()"
   ]
  },
  {
   "cell_type": "code",
   "execution_count": 167,
   "metadata": {},
   "outputs": [
    {
     "data": {
      "text/html": [
       "<div>\n",
       "<style scoped>\n",
       "    .dataframe tbody tr th:only-of-type {\n",
       "        vertical-align: middle;\n",
       "    }\n",
       "\n",
       "    .dataframe tbody tr th {\n",
       "        vertical-align: top;\n",
       "    }\n",
       "\n",
       "    .dataframe thead th {\n",
       "        text-align: right;\n",
       "    }\n",
       "</style>\n",
       "<table border=\"1\" class=\"dataframe\">\n",
       "  <thead>\n",
       "    <tr style=\"text-align: right;\">\n",
       "      <th></th>\n",
       "      <th>Date</th>\n",
       "      <th>Open*</th>\n",
       "      <th>High</th>\n",
       "      <th>Low</th>\n",
       "      <th>Close**</th>\n",
       "      <th>Volume</th>\n",
       "      <th>Market Cap</th>\n",
       "      <th>Close Percent Change</th>\n",
       "    </tr>\n",
       "  </thead>\n",
       "  <tbody>\n",
       "    <tr>\n",
       "      <th>0</th>\n",
       "      <td>Feb 11, 2019</td>\n",
       "      <td>2.34</td>\n",
       "      <td>2.36</td>\n",
       "      <td>2.23</td>\n",
       "      <td>2.25</td>\n",
       "      <td>825,674</td>\n",
       "      <td>32,779,845</td>\n",
       "      <td>0.056338</td>\n",
       "    </tr>\n",
       "    <tr>\n",
       "      <th>1</th>\n",
       "      <td>Feb 10, 2019</td>\n",
       "      <td>2.28</td>\n",
       "      <td>2.39</td>\n",
       "      <td>2.20</td>\n",
       "      <td>2.36</td>\n",
       "      <td>1,038,737</td>\n",
       "      <td>34,322,470</td>\n",
       "      <td>0.048889</td>\n",
       "    </tr>\n",
       "    <tr>\n",
       "      <th>2</th>\n",
       "      <td>Feb 09, 2019</td>\n",
       "      <td>2.30</td>\n",
       "      <td>2.32</td>\n",
       "      <td>2.21</td>\n",
       "      <td>2.28</td>\n",
       "      <td>503,749</td>\n",
       "      <td>33,125,031</td>\n",
       "      <td>-0.033898</td>\n",
       "    </tr>\n",
       "    <tr>\n",
       "      <th>3</th>\n",
       "      <td>Feb 08, 2019</td>\n",
       "      <td>2.13</td>\n",
       "      <td>2.32</td>\n",
       "      <td>2.10</td>\n",
       "      <td>2.30</td>\n",
       "      <td>1,124,742</td>\n",
       "      <td>33,426,019</td>\n",
       "      <td>0.008772</td>\n",
       "    </tr>\n",
       "    <tr>\n",
       "      <th>4</th>\n",
       "      <td>Feb 07, 2019</td>\n",
       "      <td>2.11</td>\n",
       "      <td>2.15</td>\n",
       "      <td>2.07</td>\n",
       "      <td>2.11</td>\n",
       "      <td>408,356</td>\n",
       "      <td>30,614,038</td>\n",
       "      <td>-0.082609</td>\n",
       "    </tr>\n",
       "  </tbody>\n",
       "</table>\n",
       "</div>"
      ],
      "text/plain": [
       "           Date  Open*  High   Low  Close**     Volume  Market Cap  \\\n",
       "0  Feb 11, 2019   2.34  2.36  2.23     2.25    825,674  32,779,845   \n",
       "1  Feb 10, 2019   2.28  2.39  2.20     2.36  1,038,737  34,322,470   \n",
       "2  Feb 09, 2019   2.30  2.32  2.21     2.28    503,749  33,125,031   \n",
       "3  Feb 08, 2019   2.13  2.32  2.10     2.30  1,124,742  33,426,019   \n",
       "4  Feb 07, 2019   2.11  2.15  2.07     2.11    408,356  30,614,038   \n",
       "\n",
       "   Close Percent Change  \n",
       "0              0.056338  \n",
       "1              0.048889  \n",
       "2             -0.033898  \n",
       "3              0.008772  \n",
       "4             -0.082609  "
      ]
     },
     "execution_count": 167,
     "metadata": {},
     "output_type": "execute_result"
    }
   ],
   "source": [
    "ELA.head()"
   ]
  },
  {
   "cell_type": "code",
   "execution_count": null,
   "metadata": {},
   "outputs": [],
   "source": []
  },
  {
   "cell_type": "code",
   "execution_count": 159,
   "metadata": {},
   "outputs": [],
   "source": [
    "BTCXRPETHELAmerge= pd.merge(BTCXRPETH,\n",
    "                 ELA[['Date', 'Close**', 'Close Percent Change']],\n",
    "                 on='Date')"
   ]
  },
  {
   "cell_type": "code",
   "execution_count": 161,
   "metadata": {},
   "outputs": [
    {
     "data": {
      "text/html": [
       "<div>\n",
       "<style scoped>\n",
       "    .dataframe tbody tr th:only-of-type {\n",
       "        vertical-align: middle;\n",
       "    }\n",
       "\n",
       "    .dataframe tbody tr th {\n",
       "        vertical-align: top;\n",
       "    }\n",
       "\n",
       "    .dataframe thead th {\n",
       "        text-align: right;\n",
       "    }\n",
       "</style>\n",
       "<table border=\"1\" class=\"dataframe\">\n",
       "  <thead>\n",
       "    <tr style=\"text-align: right;\">\n",
       "      <th></th>\n",
       "      <th>Date</th>\n",
       "      <th>BTC Close (USD)</th>\n",
       "      <th>BTC Percent Change DoD</th>\n",
       "      <th>XRP Close (USD)</th>\n",
       "      <th>XRP Percent Change DoD</th>\n",
       "      <th>Close(USD)</th>\n",
       "      <th>Close Percent Change_x</th>\n",
       "      <th>Close**</th>\n",
       "      <th>Close Percent Change_y</th>\n",
       "    </tr>\n",
       "  </thead>\n",
       "  <tbody>\n",
       "  </tbody>\n",
       "</table>\n",
       "</div>"
      ],
      "text/plain": [
       "Empty DataFrame\n",
       "Columns: [Date, BTC Close (USD), BTC Percent Change DoD, XRP Close (USD), XRP Percent Change DoD, Close(USD), Close Percent Change_x, Close**, Close Percent Change_y]\n",
       "Index: []"
      ]
     },
     "execution_count": 161,
     "metadata": {},
     "output_type": "execute_result"
    }
   ],
   "source": [
    "BTCXRPETHELAmerge"
   ]
  },
  {
   "cell_type": "code",
   "execution_count": null,
   "metadata": {},
   "outputs": [],
   "source": []
  }
 ],
 "metadata": {
  "kernelspec": {
   "display_name": "Python [conda env:root]",
   "language": "python",
   "name": "conda-root-py"
  },
  "language_info": {
   "codemirror_mode": {
    "name": "ipython",
    "version": 3
   },
   "file_extension": ".py",
   "mimetype": "text/x-python",
   "name": "python",
   "nbconvert_exporter": "python",
   "pygments_lexer": "ipython3",
   "version": "3.7.1"
  }
 },
 "nbformat": 4,
 "nbformat_minor": 2
}
