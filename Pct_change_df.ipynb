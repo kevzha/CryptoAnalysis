{
 "cells": [
  {
   "cell_type": "code",
   "execution_count": 231,
   "metadata": {},
   "outputs": [],
   "source": [
    "import pandas as pd\n",
    "import matplotlib.pyplot as plt"
   ]
  },
  {
   "cell_type": "code",
   "execution_count": 232,
   "metadata": {},
   "outputs": [],
   "source": [
    "BTC = pd.read_csv('BTC_reshaped.csv').drop(['Unnamed: 0'], axis=1)\n",
    "ETH = pd.read_csv('ETH_reshaped.csv').drop(['Unnamed: 0'], axis=1)\n",
    "XRP = pd.read_csv('XRP_reshaped.csv').drop(['Unnamed: 0'], axis=1)\n",
    "WAN = pd.read_csv('WAN_reshaped.csv').drop(['Unnamed: 0'], axis=1).drop(['Unnamed: 0.1'], axis=1)\n",
    "ELA = pd.read_csv('ELA_reshaped.csv').drop(['Unnamed: 0'], axis=1).drop(['Unnamed: 0.1'], axis=1)\n",
    "KCS = pd.read_csv('KCS_reshaped.csv').drop(['Unnamed: 0'], axis=1).drop(['Unnamed: 0.1'], axis=1)\n"
   ]
  },
  {
   "cell_type": "code",
   "execution_count": 233,
   "metadata": {
    "scrolled": false
   },
   "outputs": [
    {
     "data": {
      "text/html": [
       "<div>\n",
       "<style scoped>\n",
       "    .dataframe tbody tr th:only-of-type {\n",
       "        vertical-align: middle;\n",
       "    }\n",
       "\n",
       "    .dataframe tbody tr th {\n",
       "        vertical-align: top;\n",
       "    }\n",
       "\n",
       "    .dataframe thead th {\n",
       "        text-align: right;\n",
       "    }\n",
       "</style>\n",
       "<table border=\"1\" class=\"dataframe\">\n",
       "  <thead>\n",
       "    <tr style=\"text-align: right;\">\n",
       "      <th></th>\n",
       "      <th>Date</th>\n",
       "      <th>Open(USD)</th>\n",
       "      <th>High(USD)</th>\n",
       "      <th>Low(USD)</th>\n",
       "      <th>Close(USD)</th>\n",
       "      <th>Volume</th>\n",
       "      <th>Market Cap(USD)</th>\n",
       "      <th>Close Percent Change</th>\n",
       "    </tr>\n",
       "  </thead>\n",
       "  <tbody>\n",
       "    <tr>\n",
       "      <th>0</th>\n",
       "      <td>2019-02-11</td>\n",
       "      <td>3688.165812</td>\n",
       "      <td>3688.165812</td>\n",
       "      <td>3643.486916</td>\n",
       "      <td>3643.486916</td>\n",
       "      <td>99465.506899</td>\n",
       "      <td>3.624013e+08</td>\n",
       "      <td>-0.011796</td>\n",
       "    </tr>\n",
       "    <tr>\n",
       "      <th>1</th>\n",
       "      <td>2019-02-10</td>\n",
       "      <td>3665.620107</td>\n",
       "      <td>3686.977610</td>\n",
       "      <td>3646.055226</td>\n",
       "      <td>3686.977610</td>\n",
       "      <td>90821.959071</td>\n",
       "      <td>3.348585e+08</td>\n",
       "      <td>0.005950</td>\n",
       "    </tr>\n",
       "    <tr>\n",
       "      <th>2</th>\n",
       "      <td>2019-02-09</td>\n",
       "      <td>3658.797145</td>\n",
       "      <td>3677.295278</td>\n",
       "      <td>3638.126429</td>\n",
       "      <td>3665.169880</td>\n",
       "      <td>90479.606316</td>\n",
       "      <td>3.316231e+08</td>\n",
       "      <td>0.001853</td>\n",
       "    </tr>\n",
       "    <tr>\n",
       "      <th>3</th>\n",
       "      <td>2019-02-08</td>\n",
       "      <td>3386.894877</td>\n",
       "      <td>3711.531448</td>\n",
       "      <td>3374.436212</td>\n",
       "      <td>3658.389649</td>\n",
       "      <td>168313.325618</td>\n",
       "      <td>6.157557e+08</td>\n",
       "      <td>0.079010</td>\n",
       "    </tr>\n",
       "    <tr>\n",
       "      <th>4</th>\n",
       "      <td>2019-02-07</td>\n",
       "      <td>3404.400116</td>\n",
       "      <td>3413.601426</td>\n",
       "      <td>3385.035006</td>\n",
       "      <td>3390.505404</td>\n",
       "      <td>93880.484239</td>\n",
       "      <td>3.183023e+08</td>\n",
       "      <td>-0.004367</td>\n",
       "    </tr>\n",
       "  </tbody>\n",
       "</table>\n",
       "</div>"
      ],
      "text/plain": [
       "         Date    Open(USD)    High(USD)     Low(USD)   Close(USD)  \\\n",
       "0  2019-02-11  3688.165812  3688.165812  3643.486916  3643.486916   \n",
       "1  2019-02-10  3665.620107  3686.977610  3646.055226  3686.977610   \n",
       "2  2019-02-09  3658.797145  3677.295278  3638.126429  3665.169880   \n",
       "3  2019-02-08  3386.894877  3711.531448  3374.436212  3658.389649   \n",
       "4  2019-02-07  3404.400116  3413.601426  3385.035006  3390.505404   \n",
       "\n",
       "          Volume  Market Cap(USD)  Close Percent Change  \n",
       "0   99465.506899     3.624013e+08             -0.011796  \n",
       "1   90821.959071     3.348585e+08              0.005950  \n",
       "2   90479.606316     3.316231e+08              0.001853  \n",
       "3  168313.325618     6.157557e+08              0.079010  \n",
       "4   93880.484239     3.183023e+08             -0.004367  "
      ]
     },
     "execution_count": 233,
     "metadata": {},
     "output_type": "execute_result"
    }
   ],
   "source": [
    "BTC.head()"
   ]
  },
  {
   "cell_type": "code",
   "execution_count": 234,
   "metadata": {},
   "outputs": [],
   "source": [
    "BTC = BTC.rename(columns={\"Close Percent Change\": \"CPC1\"})\n",
    "ETH = ETH.rename(columns={\"Close Percent Change\": \"CPC2\"})\n",
    "XRP = XRP.rename(columns={\"Close Percent Change\": \"CPC3\"})\n",
    "WAN = WAN.rename(columns={\"Close Percent Change\": \"CPC4\"})\n",
    "ELA = ELA.rename(columns={\"Close Percent Change\": \"CPC5\"})\n",
    "KCS = KCS.rename(columns={\"Close Percent Change\": \"CPC6\"})\n"
   ]
  },
  {
   "cell_type": "code",
   "execution_count": 235,
   "metadata": {},
   "outputs": [],
   "source": [
    "pct_change = pd.concat([BTC.loc[:, ['Date']], BTC.loc[:, ['CPC1']],\n",
    "                        ETH.loc[:, ['CPC2']], XRP.loc[:, ['CPC3']],\n",
    "                        WAN.loc[:, ['CPC4']],\n",
    "                       ELA.loc[:, ['CPC5']], KCS.loc[:, ['CPC6']]], axis=1, join_axes=[BTC.index])                           \n",
    "                           \n",
    "                           "
   ]
  },
  {
   "cell_type": "code",
   "execution_count": 236,
   "metadata": {},
   "outputs": [
    {
     "data": {
      "text/plain": [
       "Index(['Date', 'CPC1', 'CPC2', 'CPC3', 'CPC4', 'CPC5', 'CPC6'], dtype='object')"
      ]
     },
     "execution_count": 236,
     "metadata": {},
     "output_type": "execute_result"
    }
   ],
   "source": [
    "pct_change.columns"
   ]
  },
  {
   "cell_type": "code",
   "execution_count": 237,
   "metadata": {},
   "outputs": [
    {
     "data": {
      "text/plain": [
       "'CPC3'"
      ]
     },
     "execution_count": 237,
     "metadata": {},
     "output_type": "execute_result"
    }
   ],
   "source": [
    "pct_change.columns[3]"
   ]
  },
  {
   "cell_type": "code",
   "execution_count": 238,
   "metadata": {},
   "outputs": [],
   "source": [
    "pct_change = pct_change.rename(columns={ pct_change.columns[1]: \"BTC Pct Change\", \n",
    "                                        pct_change.columns[2]: \"ETH Pct Change\",\n",
    "                                       pct_change.columns[3]: \"XRP Pct Change\",\n",
    "                                        pct_change.columns[4]: \"WAN Pct Change\",\n",
    "                                       pct_change.columns[5]: \"ELA Pct Change\",\n",
    "                                       pct_change.columns[6]: \"KCS Pct Change\"})\n"
   ]
  },
  {
   "cell_type": "code",
   "execution_count": 239,
   "metadata": {
    "scrolled": true
   },
   "outputs": [
    {
     "data": {
      "text/html": [
       "<div>\n",
       "<style scoped>\n",
       "    .dataframe tbody tr th:only-of-type {\n",
       "        vertical-align: middle;\n",
       "    }\n",
       "\n",
       "    .dataframe tbody tr th {\n",
       "        vertical-align: top;\n",
       "    }\n",
       "\n",
       "    .dataframe thead th {\n",
       "        text-align: right;\n",
       "    }\n",
       "</style>\n",
       "<table border=\"1\" class=\"dataframe\">\n",
       "  <thead>\n",
       "    <tr style=\"text-align: right;\">\n",
       "      <th></th>\n",
       "      <th>Date</th>\n",
       "      <th>BTC Pct Change</th>\n",
       "      <th>ETH Pct Change</th>\n",
       "      <th>XRP Pct Change</th>\n",
       "      <th>WAN Pct Change</th>\n",
       "      <th>ELA Pct Change</th>\n",
       "      <th>KCS Pct Change</th>\n",
       "    </tr>\n",
       "  </thead>\n",
       "  <tbody>\n",
       "    <tr>\n",
       "      <th>0</th>\n",
       "      <td>2019-02-11</td>\n",
       "      <td>-0.011796</td>\n",
       "      <td>-0.030340</td>\n",
       "      <td>-0.014931</td>\n",
       "      <td>-0.005855</td>\n",
       "      <td>0.056338</td>\n",
       "      <td>0.033865</td>\n",
       "    </tr>\n",
       "    <tr>\n",
       "      <th>1</th>\n",
       "      <td>2019-02-10</td>\n",
       "      <td>0.005950</td>\n",
       "      <td>0.043197</td>\n",
       "      <td>-0.005581</td>\n",
       "      <td>-0.005638</td>\n",
       "      <td>0.048889</td>\n",
       "      <td>0.029143</td>\n",
       "    </tr>\n",
       "    <tr>\n",
       "      <th>2</th>\n",
       "      <td>2019-02-09</td>\n",
       "      <td>0.001853</td>\n",
       "      <td>0.001024</td>\n",
       "      <td>-0.004431</td>\n",
       "      <td>-0.006793</td>\n",
       "      <td>-0.033898</td>\n",
       "      <td>0.008204</td>\n",
       "    </tr>\n",
       "    <tr>\n",
       "      <th>3</th>\n",
       "      <td>2019-02-08</td>\n",
       "      <td>0.079010</td>\n",
       "      <td>0.148601</td>\n",
       "      <td>0.069894</td>\n",
       "      <td>0.009547</td>\n",
       "      <td>0.008772</td>\n",
       "      <td>-0.013459</td>\n",
       "    </tr>\n",
       "    <tr>\n",
       "      <th>4</th>\n",
       "      <td>2019-02-07</td>\n",
       "      <td>-0.004367</td>\n",
       "      <td>-0.003487</td>\n",
       "      <td>0.007248</td>\n",
       "      <td>-0.070038</td>\n",
       "      <td>-0.082609</td>\n",
       "      <td>-0.053657</td>\n",
       "    </tr>\n",
       "  </tbody>\n",
       "</table>\n",
       "</div>"
      ],
      "text/plain": [
       "         Date  BTC Pct Change  ETH Pct Change  XRP Pct Change  WAN Pct Change  \\\n",
       "0  2019-02-11       -0.011796       -0.030340       -0.014931       -0.005855   \n",
       "1  2019-02-10        0.005950        0.043197       -0.005581       -0.005638   \n",
       "2  2019-02-09        0.001853        0.001024       -0.004431       -0.006793   \n",
       "3  2019-02-08        0.079010        0.148601        0.069894        0.009547   \n",
       "4  2019-02-07       -0.004367       -0.003487        0.007248       -0.070038   \n",
       "\n",
       "   ELA Pct Change  KCS Pct Change  \n",
       "0        0.056338        0.033865  \n",
       "1        0.048889        0.029143  \n",
       "2       -0.033898        0.008204  \n",
       "3        0.008772       -0.013459  \n",
       "4       -0.082609       -0.053657  "
      ]
     },
     "execution_count": 239,
     "metadata": {},
     "output_type": "execute_result"
    }
   ],
   "source": [
    "pct_change.head()"
   ]
  },
  {
   "cell_type": "code",
   "execution_count": 240,
   "metadata": {},
   "outputs": [],
   "source": [
    "pct_change_tf = pct_change"
   ]
  },
  {
   "cell_type": "code",
   "execution_count": 241,
   "metadata": {},
   "outputs": [
    {
     "data": {
      "text/plain": [
       "-0.011795757603712877"
      ]
     },
     "execution_count": 241,
     "metadata": {},
     "output_type": "execute_result"
    }
   ],
   "source": [
    "pct_change['BTC Pct Change'][0]"
   ]
  },
  {
   "cell_type": "code",
   "execution_count": 242,
   "metadata": {},
   "outputs": [
    {
     "data": {
      "text/plain": [
       "-0.011795757603712877"
      ]
     },
     "execution_count": 242,
     "metadata": {},
     "output_type": "execute_result"
    }
   ],
   "source": [
    "pct_change_tf['BTC Pct Change'][0]"
   ]
  },
  {
   "cell_type": "code",
   "execution_count": 243,
   "metadata": {},
   "outputs": [
    {
     "data": {
      "text/plain": [
       "325"
      ]
     },
     "execution_count": 243,
     "metadata": {},
     "output_type": "execute_result"
    }
   ],
   "source": [
    "len(pct_change['BTC Pct Change'])"
   ]
  },
  {
   "cell_type": "code",
   "execution_count": 244,
   "metadata": {},
   "outputs": [
    {
     "data": {
      "text/plain": [
       "Index(['Date', 'BTC Pct Change', 'ETH Pct Change', 'XRP Pct Change',\n",
       "       'WAN Pct Change', 'ELA Pct Change', 'KCS Pct Change'],\n",
       "      dtype='object')"
      ]
     },
     "execution_count": 244,
     "metadata": {},
     "output_type": "execute_result"
    }
   ],
   "source": [
    "pct_change_tf.columns"
   ]
  },
  {
   "cell_type": "code",
   "execution_count": 245,
   "metadata": {},
   "outputs": [
    {
     "name": "stderr",
     "output_type": "stream",
     "text": [
      "/anaconda3/lib/python3.7/site-packages/ipykernel_launcher.py:7: SettingWithCopyWarning: \n",
      "A value is trying to be set on a copy of a slice from a DataFrame\n",
      "\n",
      "See the caveats in the documentation: http://pandas.pydata.org/pandas-docs/stable/indexing.html#indexing-view-versus-copy\n",
      "  import sys\n",
      "/anaconda3/lib/python3.7/site-packages/ipykernel_launcher.py:5: SettingWithCopyWarning: \n",
      "A value is trying to be set on a copy of a slice from a DataFrame\n",
      "\n",
      "See the caveats in the documentation: http://pandas.pydata.org/pandas-docs/stable/indexing.html#indexing-view-versus-copy\n",
      "  \"\"\"\n"
     ]
    }
   ],
   "source": [
    "for col in pct_change.columns:\n",
    "    if col != 'Date':\n",
    "        for i in list(range(0, len(pct_change[col]))):\n",
    "            if pct_change[col][i] > 0:\n",
    "                pct_change_tf[col][i] =True\n",
    "            else: \n",
    "                pct_change_tf[col][i] =False\n",
    "    "
   ]
  },
  {
   "cell_type": "code",
   "execution_count": 247,
   "metadata": {},
   "outputs": [
    {
     "data": {
      "text/html": [
       "<div>\n",
       "<style scoped>\n",
       "    .dataframe tbody tr th:only-of-type {\n",
       "        vertical-align: middle;\n",
       "    }\n",
       "\n",
       "    .dataframe tbody tr th {\n",
       "        vertical-align: top;\n",
       "    }\n",
       "\n",
       "    .dataframe thead th {\n",
       "        text-align: right;\n",
       "    }\n",
       "</style>\n",
       "<table border=\"1\" class=\"dataframe\">\n",
       "  <thead>\n",
       "    <tr style=\"text-align: right;\">\n",
       "      <th></th>\n",
       "      <th>Date</th>\n",
       "      <th>BTC Pct Change</th>\n",
       "      <th>ETH Pct Change</th>\n",
       "      <th>XRP Pct Change</th>\n",
       "      <th>WAN Pct Change</th>\n",
       "      <th>ELA Pct Change</th>\n",
       "      <th>KCS Pct Change</th>\n",
       "    </tr>\n",
       "  </thead>\n",
       "  <tbody>\n",
       "    <tr>\n",
       "      <th>0</th>\n",
       "      <td>2019-02-11</td>\n",
       "      <td>False</td>\n",
       "      <td>False</td>\n",
       "      <td>False</td>\n",
       "      <td>False</td>\n",
       "      <td>True</td>\n",
       "      <td>True</td>\n",
       "    </tr>\n",
       "    <tr>\n",
       "      <th>1</th>\n",
       "      <td>2019-02-10</td>\n",
       "      <td>True</td>\n",
       "      <td>True</td>\n",
       "      <td>False</td>\n",
       "      <td>False</td>\n",
       "      <td>True</td>\n",
       "      <td>True</td>\n",
       "    </tr>\n",
       "    <tr>\n",
       "      <th>2</th>\n",
       "      <td>2019-02-09</td>\n",
       "      <td>True</td>\n",
       "      <td>True</td>\n",
       "      <td>False</td>\n",
       "      <td>False</td>\n",
       "      <td>False</td>\n",
       "      <td>True</td>\n",
       "    </tr>\n",
       "    <tr>\n",
       "      <th>3</th>\n",
       "      <td>2019-02-08</td>\n",
       "      <td>True</td>\n",
       "      <td>True</td>\n",
       "      <td>True</td>\n",
       "      <td>True</td>\n",
       "      <td>True</td>\n",
       "      <td>False</td>\n",
       "    </tr>\n",
       "    <tr>\n",
       "      <th>4</th>\n",
       "      <td>2019-02-07</td>\n",
       "      <td>False</td>\n",
       "      <td>False</td>\n",
       "      <td>True</td>\n",
       "      <td>False</td>\n",
       "      <td>False</td>\n",
       "      <td>False</td>\n",
       "    </tr>\n",
       "  </tbody>\n",
       "</table>\n",
       "</div>"
      ],
      "text/plain": [
       "         Date BTC Pct Change ETH Pct Change XRP Pct Change WAN Pct Change  \\\n",
       "0  2019-02-11          False          False          False          False   \n",
       "1  2019-02-10           True           True          False          False   \n",
       "2  2019-02-09           True           True          False          False   \n",
       "3  2019-02-08           True           True           True           True   \n",
       "4  2019-02-07          False          False           True          False   \n",
       "\n",
       "  ELA Pct Change KCS Pct Change  \n",
       "0           True           True  \n",
       "1           True           True  \n",
       "2          False           True  \n",
       "3           True          False  \n",
       "4          False          False  "
      ]
     },
     "execution_count": 247,
     "metadata": {},
     "output_type": "execute_result"
    }
   ],
   "source": [
    "pct_change_tf.head()"
   ]
  },
  {
   "cell_type": "code",
   "execution_count": 257,
   "metadata": {},
   "outputs": [],
   "source": [
    "tot_pos = {}\n",
    "for col in pct_change_tf.columns:\n",
    "    if col != 'Date':\n",
    "        tot_pos[col] = round((sum(pct_change_tf[col])/len(pct_change_tf[col]))*100, 2)"
   ]
  },
  {
   "cell_type": "code",
   "execution_count": 258,
   "metadata": {},
   "outputs": [
    {
     "data": {
      "text/plain": [
       "{'BTC Pct Change': 49.85,\n",
       " 'ETH Pct Change': 46.77,\n",
       " 'XRP Pct Change': 47.38,\n",
       " 'WAN Pct Change': 52.0,\n",
       " 'ELA Pct Change': 53.85,\n",
       " 'KCS Pct Change': 51.69}"
      ]
     },
     "execution_count": 258,
     "metadata": {},
     "output_type": "execute_result"
    }
   ],
   "source": [
    "tot_pos"
   ]
  },
  {
   "cell_type": "code",
   "execution_count": 260,
   "metadata": {},
   "outputs": [],
   "source": [
    "pct_change.to_csv('Pct_change_t3_b3.csv')\n",
    "pct_change_tf.to_csv('Pct_change_True_False.csv')\n"
   ]
  },
  {
   "cell_type": "code",
   "execution_count": null,
   "metadata": {},
   "outputs": [],
   "source": []
  }
 ],
 "metadata": {
  "kernelspec": {
   "display_name": "Python 3",
   "language": "python",
   "name": "python3"
  },
  "language_info": {
   "codemirror_mode": {
    "name": "ipython",
    "version": 3
   },
   "file_extension": ".py",
   "mimetype": "text/x-python",
   "name": "python",
   "nbconvert_exporter": "python",
   "pygments_lexer": "ipython3",
   "version": "3.7.1"
  }
 },
 "nbformat": 4,
 "nbformat_minor": 2
}
