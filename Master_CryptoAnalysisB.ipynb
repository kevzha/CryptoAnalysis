{
 "cells": [
  {
   "cell_type": "markdown",
   "metadata": {},
   "source": [
    "# Importing the Required Tools"
   ]
  },
  {
   "cell_type": "raw",
   "metadata": {},
   "source": [
    "#importing the required tools\n",
    "\n",
    "#alpha vantage tools\n",
    "!pip install alpha_vantage\n",
    "import alpha_vantage\n",
    "%matplotlib inline\n",
    "from alpha_vantage.timeseries import TimeSeries\n",
    "from alpha_vantage.cryptocurrencies import CryptoCurrencies\n",
    "\n",
    "#dataframe and calculations libraries\n",
    "import pandas as pd\n",
    "import matplotlib.pyplot as plt\n",
    "import numpy as np\n",
    "import seaborn as sns\n",
    "from scipy import stats #for R^2 calculation\n",
    "from datetime import date #to calculate days for datatime\n",
    "import pylab #to annotate regression line with R^2 value with latex formatting\n",
    "\n",
    "# Here, we're just importing both Beautiful Soup and the Requests library in order to begin\n",
    "#scraping data from www.coinmarketcap.com\n",
    "from bs4 import BeautifulSoup\n",
    "import requests\n"
   ]
  },
  {
   "cell_type": "markdown",
   "metadata": {},
   "source": [
    "## Alpha Vantage"
   ]
  },
  {
   "cell_type": "raw",
   "metadata": {},
   "source": [
    "#Alpha Vantage API\n",
    "\n",
    "#apikey obtained through alpha vantage website\n",
    "apikey = 'JJXIFEPV0N66DTON'\n",
    "\n",
    "#alpha vantage api syntax, requiring a function, symbol and market\n",
    "#using the apikey to access api, resulted in output being a pandas dataframe\n",
    "cc = CryptoCurrencies(key=apikey, output_format='pandas')\n",
    "BTC_data, BTC_meta = cc.get_digital_currency_daily(symbol='BTC', market='USD')\n"
   ]
  },
  {
   "cell_type": "markdown",
   "metadata": {},
   "source": [
    "## Web Scrape"
   ]
  },
  {
   "cell_type": "raw",
   "metadata": {},
   "source": [
    "# this is the url that we've already determined is safe and legal to scrape from.\n",
    "page_linkELA = (\"https://coinmarketcap.com/currencies/elastos/historical-data/?start=20130428&end=20190212\")\n",
    "\n",
    "# here, we fetch the content from the url, using the requests library\n",
    "page_responseELA = requests.get(page_linkELA, timeout=5)\n",
    "\n",
    "#we use the html parser to parse the url html and store it in a variable.\n",
    "page_contentELA = BeautifulSoup(page_responseELA.content, \"html.parser\")\n",
    "\n",
    "#finds all the \"tr\" in the html and returns the values and saves it as a new variable\n",
    "ELAcontent = page_contentELA.findAll('tr')\n",
    "\n",
    "#passes through all of the tr's in our content and returns only the text values (the values between <tr> </tr>),\n",
    "#not including the html, and adds it to a list\n",
    "listofhistoricaldataELA= []\n",
    "for point in range(len(ELAcontent)):\n",
    "    listofhistoricaldataELA.append(ELAcontent[point].text)\n",
    "\n",
    "#passes through our list and seperates the data by \"\\n\"\n",
    "dataLRC= []\n",
    "for a in listofhistoricaldataELA:\n",
    "    dataELA.append(a.split('\\n'))\n",
    "    \n",
    "# Creates a pandas dataframe with our data\n",
    "PandadataframeELA= pd.DataFrame(dataELA)"
   ]
  },
  {
   "cell_type": "raw",
   "metadata": {},
   "source": [
    "#Example Results\n",
    "BTC_data.head(2)"
   ]
  },
  {
   "cell_type": "raw",
   "metadata": {},
   "source": [
    "#Example Results (cont.)\n",
    "BTC_meta"
   ]
  },
  {
   "cell_type": "markdown",
   "metadata": {},
   "source": [
    "# Formatting the Data"
   ]
  },
  {
   "cell_type": "markdown",
   "metadata": {},
   "source": [
    "## From the API"
   ]
  },
  {
   "cell_type": "raw",
   "metadata": {},
   "source": [
    "#dropping duplicated columns\n",
    "BTC_data = BTC_data.drop(['1b. open (USD)', '2b. high (USD)', '3b. low (USD)', '4b. close (USD)'], axis=1)\n",
    "\n",
    "#reformatting column names\n",
    "BTC = BTC.rename(columns={\"1a. open (USD)\": \"Open(USD)\",\"2a. high (USD)\": \"High(USD)\", \n",
    "                    '3a. low (USD)':'Low(USD)', '4a. close (USD)':'Close(USD)', \n",
    "                   '5. volume': 'Volume', '6. market cap (USD)': 'Market Cap(USD)','date': 'Date' })\n",
    "\n",
    "#reversing given dataset to have most recent data at the top\n",
    "BTCreindex= BTC.reindex(index=BTC.index[::-1])\n",
    "\n",
    "#reshaping dataset to include up to our lowest limiter crypto(one of the cryptos started last year)\n",
    "BTCreshape = BTCreindex.drop(BTCreindex.index[327:])"
   ]
  },
  {
   "cell_type": "markdown",
   "metadata": {},
   "source": [
    "## From the Web Scraping"
   ]
  },
  {
   "cell_type": "raw",
   "metadata": {},
   "source": [
    "#drops the end/blank data points at the end of the dataframes created by the webscrape\n",
    "dfVETformatted = PandadataframeVET.drop([x for x in range(196,206)])\n",
    "\n",
    "#drops the last three columns with no data associated\n",
    "dfVETformatted = dfVETformatted.drop(dfVETformatted.columns[[8, 9, 10]], axis=1)\n",
    "\n",
    "#renames the columns and drops the top row and saves it as a new list\n",
    "dfVEThistorical= dfVETformatted.rename(columns=dfVETformatted.iloc[0]).drop(dfVETformatted.index[0])"
   ]
  },
  {
   "cell_type": "markdown",
   "metadata": {},
   "source": [
    "# Calculating the Percent Changes Daily Close to Close"
   ]
  },
  {
   "cell_type": "raw",
   "metadata": {},
   "source": [
    "#calculating percent change of Closing Prices\n",
    "BTC_close_pctchange = BTC.loc[:,'Close(USD)'].pct_change()\n",
    "\n",
    "#Due to first row being used to calculate percent change with the day before, there is no pcercent change for row 0\n",
    "BTC = BTC.drop([0])"
   ]
  },
  {
   "cell_type": "raw",
   "metadata": {},
   "source": [
    "#pulling together columns of percent change for all the coins into one dataframe\n",
    "\n",
    "#Following process was repeated for creating a Closing Price dataframe with changes to variable and column names\n",
    "#renaming column so all the columns pulled together is not the same\n",
    "BTC = BTC.rename(columns={\"Close Percent Change\": \"CPC1\"})\n",
    "\n",
    "#concatenating percent change columns with the date column being pulled from bitcoin data\n",
    "pct_change = pd.concat([BTC.loc[:, ['Date']], BTC.loc[:, ['CPC1']], ETH.loc[:, ['CPC2']], XRP.loc[:, ['CPC3']],\n",
    "                        DOGE.loc[:, ['CPC4']], VET.loc[:, ['CPC5']], TUSD.loc[:, ['CPC6']], XVG.loc[:, ['CPC7']],\n",
    "                        AE.loc[:, ['CPC8']], STRAT.loc[:, ['CPC9']], LRC.loc[:, ['CPC10']], AOA.loc[:, ['CPC11']],\n",
    "                        QNT.loc[:, ['CPC12']], WAN.loc[:, ['CPC13']], ELA.loc[:, ['CPC14']], KCS.loc[:, ['CPC15']]], \n",
    "                       axis=1, join_axes=[BTC.index]) \n",
    "\n",
    "#changing the column names into the intended labels\n",
    "pct_change = pct_change.rename(columns={ pct_change.columns[1]: \"BTC Pct Change\", pct_change.columns[2]: \"ETH Pct Change\",\n",
    "                                       pct_change.columns[3]: \"XRP Pct Change\", pct_change.columns[4]: \"DOGE Pct Change\",\n",
    "                                        pct_change.columns[5]: \"VET Pct Change\", pct_change.columns[6]: \"TUSD Pct Change\",\n",
    "                                        pct_change.columns[7]: \"XVG Pct Change\", pct_change.columns[8]: \"AE Pct Change\",\n",
    "                                        pct_change.columns[9]: \"STRAT Pct Change\", pct_change.columns[10]: \"LRC Pct Change\",\n",
    "                                        pct_change.columns[11]: \"AOA Pct Change\", pct_change.columns[12]: \"QNT Pct Change\",\n",
    "                                        pct_change.columns[13]: \"WAN Pct Change\", pct_change.columns[14]: \"ELA Pct Change\",\n",
    "                                       pct_change.columns[15]: \"KCS Pct Change\"})\n",
    "\n"
   ]
  },
  {
   "cell_type": "raw",
   "metadata": {},
   "source": [
    "#Obtainting a dataframe of TRUE or FALSE for positive or negative percent changes\n",
    "\n",
    "#made a copy of original percent change dataframe\n",
    "pct_change_tf = pct_change.copy()\n",
    "\n",
    "#looped through each of the cells individually and determined if it was true or false, assigning that value to the copy frame\n",
    "for col in pct_change.columns:\n",
    "    if col != 'Date':\n",
    "        for i in list(range(0, len(pct_change[col]))):\n",
    "            if pct_change[col][i] > 0:\n",
    "                pct_change_tf[col][i] =True\n",
    "            else: \n",
    "                pct_change_tf[col][i] =False\n",
    "\n",
    "#obtaining the total positives in a dictionary with the coins\n",
    "tot_pos = {}\n",
    "for col in pct_change_tf.columns:\n",
    "    if col != 'Date':\n",
    "        tot_pos[col] = round((sum(pct_change_tf[col])/len(pct_change_tf[col]))*100, 2)\n",
    "\n",
    "        "
   ]
  },
  {
   "cell_type": "raw",
   "metadata": {},
   "source": [
    "#Reading the CSVs created from the parts above\n",
    "pct_change = pd.read_csv('pct_change.csv').drop(['Unnamed: 0'], axis=1)\n",
    "closing_price = pd.read_csv('closing_price.csv').drop(['Unnamed: 0'], axis=1)"
   ]
  },
  {
   "cell_type": "markdown",
   "metadata": {},
   "source": [
    "# Graphs and Visualizations"
   ]
  },
  {
   "cell_type": "code",
   "execution_count": 74,
   "metadata": {
    "scrolled": true
   },
   "outputs": [
    {
     "data": {
      "text/plain": [
       "Text(-0.34, 0.23, '$R^2$= 0.4808')"
      ]
     },
     "execution_count": 74,
     "metadata": {},
     "output_type": "execute_result"
    },
    {
     "data": {
      "image/png": "[encoded data removed]",
      "text/plain": [
       "<Figure size 432x288 with 1 Axes>"
      ]
     },
     "metadata": {
      "needs_background": "light"
     },
     "output_type": "display_data"
    }
   ],
   "source": [
    "#Visualization\n",
    "\n",
    "#Plotting percent change comparisions:\n",
    "#linear regression line calculation\n",
    "\n",
    "from scipy import stats\n",
    "#linear regression line calculation\n",
    "x = np.array(pct_change['AE Pct Change'])\n",
    "y = np.array(pct_change['STRAT Pct Change'])\n",
    "m, b = np.polyfit(x, y, 1)\n",
    "slope, intercept, r_value, p_value, std_err = stats.linregress(x,y)\n",
    "\n",
    "#Calculating R squared \n",
    "r_squared = round(r_value**2,4)\n",
    "\n",
    "\n",
    "#plot percent changes of two coins with origin axis and major/minor grid\n",
    "fig, ax = plt.subplots()\n",
    "ax.grid(True, which='both')\n",
    "ax.axhline(y=0, color='k')\n",
    "ax.axvline(x=0, color='k')\n",
    "\n",
    "#ploting percent changes of two coins against each other\n",
    "plt.scatter(pct_change['AE Pct Change'], pct_change['STRAT Pct Change'],edgecolors='blue', color = 'orange')\n",
    "#plotting linear regression line from the scatter plot\n",
    "plt.plot(x, x*m + b, 'red')\n",
    "#title\n",
    "plt.title('AE STRAT')\n",
    "\n",
    "#regression line equation and R^2 number formatted to second quandrant\n",
    "#utilizing latex notation for R^2\n",
    "ax.annotate(f\"y=,{round(m,3)},+,{round(b,5)}, \", xy=(0, 0), xytext=(-0.34, .27))\n",
    "pylab.annotate(f\"$R^2$= {r_squared}\", xy=(0, 0), xytext=(-0.34, .23))\n",
    "\n",
    "#exporting plot\n",
    "# plt.savefig('AE_STRAT_scatter_regression.png', bbox_inches = 'tight', dpi = 400)"
   ]
  },
  {
   "cell_type": "raw",
   "metadata": {
    "scrolled": true
   },
   "source": [
    "#Visualization\n",
    "\n",
    "#Plotting percent change comparisions:\n",
    "#linear regression line calculation\n",
    "\n",
    "from scipy import stats\n",
    "#linear regression line calculation\n",
    "x = np.array(pct_change['AE Pct Change'])\n",
    "y = np.array(pct_change['STRAT Pct Change'])\n",
    "m, b = np.polyfit(x, y, 1)\n",
    "slope, intercept, r_value, p_value, std_err = stats.linregress(x,y)\n",
    "\n",
    "#Calculating R squared \n",
    "r_squared = round(r_value**2,4)\n",
    "\n",
    "\n",
    "#plot percent changes of two coins with origin axis and major/minor grid\n",
    "fig, ax = plt.subplots()\n",
    "ax.grid(True, which='both')\n",
    "ax.axhline(y=0, color='k')\n",
    "ax.axvline(x=0, color='k')\n",
    "\n",
    "#ploting percent changes of two coins against each other\n",
    "plt.scatter(pct_change['AE Pct Change'], pct_change['STRAT Pct Change'],edgecolors='blue', color = 'orange')\n",
    "#plotting linear regression line from the scatter plot\n",
    "plt.plot(x, x*m + b, 'red')\n",
    "#title\n",
    "plt.title('AE STRAT')\n",
    "\n",
    "#regression line equation and R^2 number formatted to second quandrant\n",
    "#utilizing latex notation for R^2\n",
    "ax.annotate(f\"y=,{round(m,3)},+,{round(b,5)}, \", xy=(0, 0), xytext=(-0.34, .27))\n",
    "pylab.annotate(f\"$R^2$= {r_squared}\", xy=(0, 0), xytext=(-0.34, .23))\n",
    "\n",
    "#exporting plot\n",
    "# plt.savefig('AE_STRAT_scatter_regression.png', bbox_inches = 'tight', dpi = 400)"
   ]
  },
  {
   "cell_type": "code",
   "execution_count": null,
   "metadata": {},
   "outputs": [],
   "source": [
    "#Miscellaneous Calculations and Plotting\n",
    "\n",
    "#daily return calculations (based on the complete data of BTC)\n",
    "BTC_whole_daily = round((BTC_whole['Close(USD)']-BTC_whole['Open(USD)'])/BTC_whole['Open(USD)']*100,2)\n",
    "\n",
    "#plotting daily returns -takes lone time to run-\n",
    "plt.scatter(BTC_whole['Date'],BTC_whole_daily)\n",
    "\n",
    "#Plotting Closing prices over the data length with an inverted x-axis to have right side being present day\n",
    "plt.gca().invert_xaxis()\n",
    "plt.plot(closing_price['BTC Closing Price'])"
   ]
  },
  {
   "cell_type": "code",
   "execution_count": null,
   "metadata": {},
   "outputs": [],
   "source": [
    "#heatmap from Seaborn with top 3 and bottom 3 cryptocurrencies\n",
    "t3b3_heatmap = sns.heatmap(pct_change.corr(), \n",
    "        xticklabels=pct_change.corr(),\n",
    "        yticklabels=pct_change.corr(), center = 1) #utilizing the blue color palette for the heat map\n",
    "plt.savefig('heatmappctwithvalues.png', bbox_inches = 'tight', dpi = 400)"
   ]
  },
  {
   "cell_type": "code",
   "execution_count": null,
   "metadata": {},
   "outputs": [],
   "source": [
    "#heatmap of correlations Seaborn with all the crypto currencies with studied\n",
    "\n",
    "t3b3_heatmap = sns.heatmap(pct_change.corr(), \n",
    "        xticklabels=pct_change.corr(),\n",
    "        yticklabels=pct_change.corr(), center = 1) #utilizing the blue color palette for the heat map\n",
    "plt.savefig('heatmappctwithvalues.png', bbox_inches = 'tight', dpi = 400)"
   ]
  },
  {
   "cell_type": "code",
   "execution_count": null,
   "metadata": {},
   "outputs": [],
   "source": [
    "#Creates date time in proper format in order to title graph\n",
    "#calculates the number of days of our analysis so that we can enter it into an f string \n",
    "\n",
    "from datetime import date\n",
    "\n",
    "date1 = date(2018, 3, 24)\n",
    "date2= date(2019, 2, 11)\n",
    "timedelta = date2 - date1\n",
    "days = timedelta.days \n",
    "\n",
    "\n",
    "#reversing x axis, 0 being present day\n",
    "plt.gca().invert_xaxis()\n",
    "\n",
    "\n",
    "#plotting of all coins chosen, excluding BTC, ETH and ELA because there prices significantly higher\n",
    "#than the others in our list\n",
    "\n",
    "for col in closing_price.columns:\n",
    "    if col != 'Date' and col != 'BTC Closing Price'and col != 'ETH Closing Price' and col != 'ELA Closing Price':\n",
    "        plt.plot(closing_price[col].dropna())\n",
    "plt.title(\"Daily Closing Prices for the last {} days EX BTC, ETH, ELA\".format(days)) \n",
    "\n",
    "# Put a legend to the right of the current axis\n",
    "plt.legend(loc='center left', bbox_to_anchor=(1, 0.5))#Chart of Closing price excluding Bitcoin and Ethereum \n",
    "\n",
    "# Saves the figure sets the graph and legend to the right size and fit\n",
    "plt.savefig(\"Closings price for last 324 days ex BTCETHELA.png, bbox_inches = 'tight', dpi =600\")"
   ]
  }
 ],
 "metadata": {
  "kernelspec": {
   "display_name": "Python 3",
   "language": "python",
   "name": "python3"
  },
  "language_info": {
   "codemirror_mode": {
    "name": "ipython",
    "version": 3
   },
   "file_extension": ".py",
   "mimetype": "text/x-python",
   "name": "python",
   "nbconvert_exporter": "python",
   "pygments_lexer": "ipython3",
   "version": "3.6.8"
  }
 },
 "nbformat": 4,
 "nbformat_minor": 2
}
