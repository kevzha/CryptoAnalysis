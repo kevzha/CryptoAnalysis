{
 "cells": [
  {
   "cell_type": "code",
   "execution_count": 1,
   "metadata": {},
   "outputs": [
    {
     "name": "stdout",
     "output_type": "stream",
     "text": [
      "Requirement already satisfied: alpha_vantage in /anaconda3/envs/learn-env/lib/python3.6/site-packages (2.1.0)\n",
      "Requirement already satisfied: requests in /anaconda3/envs/learn-env/lib/python3.6/site-packages (from alpha_vantage) (2.19.1)\n",
      "Requirement already satisfied: urllib3<1.24,>=1.21.1 in /anaconda3/envs/learn-env/lib/python3.6/site-packages (from requests->alpha_vantage) (1.23)\n",
      "Requirement already satisfied: chardet<3.1.0,>=3.0.2 in /anaconda3/envs/learn-env/lib/python3.6/site-packages (from requests->alpha_vantage) (3.0.4)\n",
      "Requirement already satisfied: idna<2.8,>=2.5 in /anaconda3/envs/learn-env/lib/python3.6/site-packages (from requests->alpha_vantage) (2.7)\n",
      "Requirement already satisfied: certifi>=2017.4.17 in /anaconda3/envs/learn-env/lib/python3.6/site-packages (from requests->alpha_vantage) (2018.8.13)\n"
     ]
    }
   ],
   "source": [
    "!pip install alpha_vantage"
   ]
  },
  {
   "cell_type": "code",
   "execution_count": 2,
   "metadata": {},
   "outputs": [],
   "source": [
    "import alpha_vantage\n",
    "%matplotlib inline\n",
    "from alpha_vantage.timeseries import TimeSeries\n",
    "from alpha_vantage.cryptocurrencies import CryptoCurrencies\n",
    "import matplotlib\n",
    "import matplotlib.pyplot as plt\n",
    "#importing the required tools for alpha advantage api\n",
    "\n",
    "apikey = 'JJXIFEPV0N66DTON'\n",
    "#apikey obtained through alpha vantage website"
   ]
  },
  {
   "cell_type": "code",
   "execution_count": 3,
   "metadata": {},
   "outputs": [],
   "source": [
    "#alpha vantage api syntax, requiring a function, symbol and market\n",
    "#using the api key to access api, resulted in output being a pandas dataframe\n",
    "cc = CryptoCurrencies(key=apikey, output_format='pandas')\n",
    "DOGE_data, DOGE_meta = cc.get_digital_currency_daily(symbol='DOGE', market='USD')\n",
    "# VET_data, VET_meta = cc.get_digital_currency_daily(symbol='VET', market='USD')\n",
    "# TRUE_data, TRUE_meta = cc.get_digital_currency_daily(symbol='TRUE', market='USD')\n",
    "# STRAT_data, STRAT_meta = cc.get_digital_currency_daily(symbol='STRAT', market='USD')\n",
    "# XVG_data, XVG_meta = cc.get_digital_currency_daily(symbol='XVG', market='USD')\n",
    "# AE_data, AE_meta = cc.get_digital_currency_daily(symbol='AE', market='USD')\n",
    "# LRC_data, LRC_meta = cc.get_digital_currency_daily(symbol='LRC', market='USD')"
   ]
  },
  {
   "cell_type": "code",
   "execution_count": 4,
   "metadata": {
    "scrolled": true
   },
   "outputs": [
    {
     "data": {
      "text/plain": [
       "{'1. Information': 'Daily Prices and Volumes for Digital Currency',\n",
       " '2. Digital Currency Code': 'DOGE',\n",
       " '3. Digital Currency Name': 'DogeCoin',\n",
       " '4. Market Code': 'USD',\n",
       " '5. Market Name': 'United States Dollar',\n",
       " '6. Last Refreshed': '2019-02-13 (end of day)',\n",
       " '7. Time Zone': 'UTC'}"
      ]
     },
     "execution_count": 4,
     "metadata": {},
     "output_type": "execute_result"
    }
   ],
   "source": [
    "DOGE_meta"
   ]
  },
  {
   "cell_type": "code",
   "execution_count": 5,
   "metadata": {},
   "outputs": [
    {
     "data": {
      "text/plain": [
       "(1775, 10)"
      ]
     },
     "execution_count": 5,
     "metadata": {},
     "output_type": "execute_result"
    }
   ],
   "source": [
    "DOGE_data.shape"
   ]
  },
  {
   "cell_type": "code",
   "execution_count": 7,
   "metadata": {
    "scrolled": false
   },
   "outputs": [
    {
     "data": {
      "text/html": [
       "<div>\n",
       "<style scoped>\n",
       "    .dataframe tbody tr th:only-of-type {\n",
       "        vertical-align: middle;\n",
       "    }\n",
       "\n",
       "    .dataframe tbody tr th {\n",
       "        vertical-align: top;\n",
       "    }\n",
       "\n",
       "    .dataframe thead th {\n",
       "        text-align: right;\n",
       "    }\n",
       "</style>\n",
       "<table border=\"1\" class=\"dataframe\">\n",
       "  <thead>\n",
       "    <tr style=\"text-align: right;\">\n",
       "      <th></th>\n",
       "      <th>1a. open (USD)</th>\n",
       "      <th>1b. open (USD)</th>\n",
       "      <th>2a. high (USD)</th>\n",
       "      <th>2b. high (USD)</th>\n",
       "      <th>3a. low (USD)</th>\n",
       "      <th>3b. low (USD)</th>\n",
       "      <th>4a. close (USD)</th>\n",
       "      <th>4b. close (USD)</th>\n",
       "      <th>5. volume</th>\n",
       "      <th>6. market cap (USD)</th>\n",
       "    </tr>\n",
       "    <tr>\n",
       "      <th>date</th>\n",
       "      <th></th>\n",
       "      <th></th>\n",
       "      <th></th>\n",
       "      <th></th>\n",
       "      <th></th>\n",
       "      <th></th>\n",
       "      <th></th>\n",
       "      <th></th>\n",
       "      <th></th>\n",
       "      <th></th>\n",
       "    </tr>\n",
       "  </thead>\n",
       "  <tbody>\n",
       "    <tr>\n",
       "      <th>2019-02-09</th>\n",
       "      <td>0.001969</td>\n",
       "      <td>0.001969</td>\n",
       "      <td>0.002022</td>\n",
       "      <td>0.002022</td>\n",
       "      <td>0.001952</td>\n",
       "      <td>0.001952</td>\n",
       "      <td>0.002009</td>\n",
       "      <td>0.002009</td>\n",
       "      <td>1.150091e+09</td>\n",
       "      <td>2.311062e+06</td>\n",
       "    </tr>\n",
       "    <tr>\n",
       "      <th>2019-02-10</th>\n",
       "      <td>0.002009</td>\n",
       "      <td>0.002009</td>\n",
       "      <td>0.002012</td>\n",
       "      <td>0.002012</td>\n",
       "      <td>0.001958</td>\n",
       "      <td>0.001958</td>\n",
       "      <td>0.001989</td>\n",
       "      <td>0.001989</td>\n",
       "      <td>1.150180e+09</td>\n",
       "      <td>2.287227e+06</td>\n",
       "    </tr>\n",
       "    <tr>\n",
       "      <th>2019-02-11</th>\n",
       "      <td>0.001989</td>\n",
       "      <td>0.001989</td>\n",
       "      <td>0.002001</td>\n",
       "      <td>0.002001</td>\n",
       "      <td>0.001873</td>\n",
       "      <td>0.001873</td>\n",
       "      <td>0.001972</td>\n",
       "      <td>0.001972</td>\n",
       "      <td>1.173383e+09</td>\n",
       "      <td>2.314455e+06</td>\n",
       "    </tr>\n",
       "    <tr>\n",
       "      <th>2019-02-12</th>\n",
       "      <td>0.001965</td>\n",
       "      <td>0.001965</td>\n",
       "      <td>0.002005</td>\n",
       "      <td>0.002005</td>\n",
       "      <td>0.001885</td>\n",
       "      <td>0.001885</td>\n",
       "      <td>0.001927</td>\n",
       "      <td>0.001927</td>\n",
       "      <td>1.055695e+09</td>\n",
       "      <td>2.033898e+06</td>\n",
       "    </tr>\n",
       "    <tr>\n",
       "      <th>2019-02-13</th>\n",
       "      <td>0.001973</td>\n",
       "      <td>0.001973</td>\n",
       "      <td>0.002007</td>\n",
       "      <td>0.002007</td>\n",
       "      <td>0.001907</td>\n",
       "      <td>0.001907</td>\n",
       "      <td>0.001937</td>\n",
       "      <td>0.001937</td>\n",
       "      <td>1.130234e+09</td>\n",
       "      <td>2.188989e+06</td>\n",
       "    </tr>\n",
       "  </tbody>\n",
       "</table>\n",
       "</div>"
      ],
      "text/plain": [
       "            1a. open (USD)  1b. open (USD)  2a. high (USD)  2b. high (USD)  \\\n",
       "date                                                                         \n",
       "2019-02-09        0.001969        0.001969        0.002022        0.002022   \n",
       "2019-02-10        0.002009        0.002009        0.002012        0.002012   \n",
       "2019-02-11        0.001989        0.001989        0.002001        0.002001   \n",
       "2019-02-12        0.001965        0.001965        0.002005        0.002005   \n",
       "2019-02-13        0.001973        0.001973        0.002007        0.002007   \n",
       "\n",
       "            3a. low (USD)  3b. low (USD)  4a. close (USD)  4b. close (USD)  \\\n",
       "date                                                                         \n",
       "2019-02-09       0.001952       0.001952         0.002009         0.002009   \n",
       "2019-02-10       0.001958       0.001958         0.001989         0.001989   \n",
       "2019-02-11       0.001873       0.001873         0.001972         0.001972   \n",
       "2019-02-12       0.001885       0.001885         0.001927         0.001927   \n",
       "2019-02-13       0.001907       0.001907         0.001937         0.001937   \n",
       "\n",
       "               5. volume  6. market cap (USD)  \n",
       "date                                           \n",
       "2019-02-09  1.150091e+09         2.311062e+06  \n",
       "2019-02-10  1.150180e+09         2.287227e+06  \n",
       "2019-02-11  1.173383e+09         2.314455e+06  \n",
       "2019-02-12  1.055695e+09         2.033898e+06  \n",
       "2019-02-13  1.130234e+09         2.188989e+06  "
      ]
     },
     "execution_count": 7,
     "metadata": {},
     "output_type": "execute_result"
    }
   ],
   "source": [
    "DOGE_data.tail()"
   ]
  },
  {
   "cell_type": "code",
   "execution_count": 8,
   "metadata": {
    "scrolled": true
   },
   "outputs": [
    {
     "data": {
      "text/plain": [
       "Index(['1a. open (USD)', '1b. open (USD)', '2a. high (USD)', '2b. high (USD)',\n",
       "       '3a. low (USD)', '3b. low (USD)', '4a. close (USD)', '4b. close (USD)',\n",
       "       '5. volume', '6. market cap (USD)'],\n",
       "      dtype='object')"
      ]
     },
     "execution_count": 8,
     "metadata": {},
     "output_type": "execute_result"
    }
   ],
   "source": [
    "DOGE_data.columns"
   ]
  },
  {
   "cell_type": "code",
   "execution_count": 9,
   "metadata": {
    "scrolled": true
   },
   "outputs": [],
   "source": [
    "DOGE_data = DOGE_data.drop(['1b. open (USD)', '2b. high (USD)', '3b. low (USD)', '4b. close (USD)'], axis=1)"
   ]
  },
  {
   "cell_type": "code",
   "execution_count": 10,
   "metadata": {},
   "outputs": [],
   "source": [
    "DOGE_data.to_csv('DOGE.csv')"
   ]
  },
  {
   "cell_type": "code",
   "execution_count": null,
   "metadata": {},
   "outputs": [],
   "source": []
  },
  {
   "cell_type": "code",
   "execution_count": 7,
   "metadata": {},
   "outputs": [
    {
     "ename": "KeyError",
     "evalue": "'Time Series (Digital Currency Daily)'",
     "output_type": "error",
     "traceback": [
      "\u001b[0;31m---------------------------------------------------------------------------\u001b[0m",
      "\u001b[0;31mKeyError\u001b[0m                                  Traceback (most recent call last)",
      "\u001b[0;32m<ipython-input-7-c88f8d28954b>\u001b[0m in \u001b[0;36m<module>\u001b[0;34m()\u001b[0m\n\u001b[1;32m      1\u001b[0m \u001b[0;31m#repeated process for another cryptocurrency\u001b[0m\u001b[0;34m\u001b[0m\u001b[0;34m\u001b[0m\u001b[0m\n\u001b[1;32m      2\u001b[0m \u001b[0mcc\u001b[0m \u001b[0;34m=\u001b[0m \u001b[0mCryptoCurrencies\u001b[0m\u001b[0;34m(\u001b[0m\u001b[0mkey\u001b[0m\u001b[0;34m=\u001b[0m\u001b[0mapikey\u001b[0m\u001b[0;34m,\u001b[0m \u001b[0moutput_format\u001b[0m\u001b[0;34m=\u001b[0m\u001b[0;34m'pandas'\u001b[0m\u001b[0;34m)\u001b[0m\u001b[0;34m\u001b[0m\u001b[0m\n\u001b[0;32m----> 3\u001b[0;31m \u001b[0mETH_data\u001b[0m\u001b[0;34m,\u001b[0m \u001b[0mETH_meta\u001b[0m \u001b[0;34m=\u001b[0m \u001b[0mcc\u001b[0m\u001b[0;34m.\u001b[0m\u001b[0mget_digital_currency_daily\u001b[0m\u001b[0;34m(\u001b[0m\u001b[0msymbol\u001b[0m\u001b[0;34m=\u001b[0m\u001b[0;34m'ETH'\u001b[0m\u001b[0;34m,\u001b[0m \u001b[0mmarket\u001b[0m\u001b[0;34m=\u001b[0m\u001b[0;34m'USD'\u001b[0m\u001b[0;34m)\u001b[0m\u001b[0;34m\u001b[0m\u001b[0m\n\u001b[0m",
      "\u001b[0;32m/anaconda3/envs/learn-env/lib/python3.6/site-packages/alpha_vantage/alphavantage.py\u001b[0m in \u001b[0;36m_format_wrapper\u001b[0;34m(self, *args, **kwargs)\u001b[0m\n\u001b[1;32m    176\u001b[0m             \u001b[0;32mif\u001b[0m \u001b[0;34m'json'\u001b[0m \u001b[0;32min\u001b[0m \u001b[0mself\u001b[0m\u001b[0;34m.\u001b[0m\u001b[0moutput_format\u001b[0m\u001b[0;34m.\u001b[0m\u001b[0mlower\u001b[0m\u001b[0;34m(\u001b[0m\u001b[0;34m)\u001b[0m \u001b[0;32mor\u001b[0m \u001b[0;34m'pandas'\u001b[0m\u001b[0;31m \u001b[0m\u001b[0;31m\\\u001b[0m\u001b[0;34m\u001b[0m\u001b[0m\n\u001b[1;32m    177\u001b[0m                     \u001b[0;32min\u001b[0m \u001b[0mself\u001b[0m\u001b[0;34m.\u001b[0m\u001b[0moutput_format\u001b[0m\u001b[0;34m.\u001b[0m\u001b[0mlower\u001b[0m\u001b[0;34m(\u001b[0m\u001b[0;34m)\u001b[0m\u001b[0;34m:\u001b[0m\u001b[0;34m\u001b[0m\u001b[0m\n\u001b[0;32m--> 178\u001b[0;31m                 \u001b[0mdata\u001b[0m \u001b[0;34m=\u001b[0m \u001b[0mcall_response\u001b[0m\u001b[0;34m[\u001b[0m\u001b[0mdata_key\u001b[0m\u001b[0;34m]\u001b[0m\u001b[0;34m\u001b[0m\u001b[0m\n\u001b[0m\u001b[1;32m    179\u001b[0m                 \u001b[0;32mif\u001b[0m \u001b[0mmeta_data_key\u001b[0m \u001b[0;32mis\u001b[0m \u001b[0;32mnot\u001b[0m \u001b[0;32mNone\u001b[0m\u001b[0;34m:\u001b[0m\u001b[0;34m\u001b[0m\u001b[0m\n\u001b[1;32m    180\u001b[0m                     \u001b[0mmeta_data\u001b[0m \u001b[0;34m=\u001b[0m \u001b[0mcall_response\u001b[0m\u001b[0;34m[\u001b[0m\u001b[0mmeta_data_key\u001b[0m\u001b[0;34m]\u001b[0m\u001b[0;34m\u001b[0m\u001b[0m\n",
      "\u001b[0;31mKeyError\u001b[0m: 'Time Series (Digital Currency Daily)'"
     ]
    }
   ],
   "source": [
    "#repeated process for another cryptocurrency\n",
    "cc = CryptoCurrencies(key=apikey, output_format='pandas')\n",
    "ETH_data, ETH_meta = cc.get_digital_currency_daily(symbol='ETH', market='USD')\n"
   ]
  },
  {
   "cell_type": "code",
   "execution_count": 31,
   "metadata": {},
   "outputs": [
    {
     "data": {
      "text/plain": [
       "{'1. Information': 'Daily Prices and Volumes for Digital Currency',\n",
       " '2. Digital Currency Code': 'ETH',\n",
       " '3. Digital Currency Name': 'Ethereum',\n",
       " '4. Market Code': 'USD',\n",
       " '5. Market Name': 'United States Dollar',\n",
       " '6. Last Refreshed': '2019-02-12 (end of day)',\n",
       " '7. Time Zone': 'UTC'}"
      ]
     },
     "execution_count": 31,
     "metadata": {},
     "output_type": "execute_result"
    }
   ],
   "source": [
    "ETH_meta"
   ]
  },
  {
   "cell_type": "code",
   "execution_count": 32,
   "metadata": {
    "scrolled": true
   },
   "outputs": [
    {
     "data": {
      "text/html": [
       "<div>\n",
       "<style scoped>\n",
       "    .dataframe tbody tr th:only-of-type {\n",
       "        vertical-align: middle;\n",
       "    }\n",
       "\n",
       "    .dataframe tbody tr th {\n",
       "        vertical-align: top;\n",
       "    }\n",
       "\n",
       "    .dataframe thead th {\n",
       "        text-align: right;\n",
       "    }\n",
       "</style>\n",
       "<table border=\"1\" class=\"dataframe\">\n",
       "  <thead>\n",
       "    <tr style=\"text-align: right;\">\n",
       "      <th></th>\n",
       "      <th>1a. open (USD)</th>\n",
       "      <th>1b. open (USD)</th>\n",
       "      <th>2a. high (USD)</th>\n",
       "      <th>2b. high (USD)</th>\n",
       "      <th>3a. low (USD)</th>\n",
       "      <th>3b. low (USD)</th>\n",
       "      <th>4a. close (USD)</th>\n",
       "      <th>4b. close (USD)</th>\n",
       "      <th>5. volume</th>\n",
       "      <th>6. market cap (USD)</th>\n",
       "    </tr>\n",
       "    <tr>\n",
       "      <th>date</th>\n",
       "      <th></th>\n",
       "      <th></th>\n",
       "      <th></th>\n",
       "      <th></th>\n",
       "      <th></th>\n",
       "      <th></th>\n",
       "      <th></th>\n",
       "      <th></th>\n",
       "      <th></th>\n",
       "      <th></th>\n",
       "    </tr>\n",
       "  </thead>\n",
       "  <tbody>\n",
       "    <tr>\n",
       "      <th>2015-08-08</th>\n",
       "      <td>3.00000</td>\n",
       "      <td>3.00000</td>\n",
       "      <td>3.00000</td>\n",
       "      <td>3.00000</td>\n",
       "      <td>0.15000</td>\n",
       "      <td>0.15000</td>\n",
       "      <td>1.19999</td>\n",
       "      <td>1.19999</td>\n",
       "      <td>1942.888147</td>\n",
       "      <td>2331.446348</td>\n",
       "    </tr>\n",
       "    <tr>\n",
       "      <th>2015-08-09</th>\n",
       "      <td>1.19999</td>\n",
       "      <td>1.19999</td>\n",
       "      <td>1.19999</td>\n",
       "      <td>1.19999</td>\n",
       "      <td>1.19999</td>\n",
       "      <td>1.19999</td>\n",
       "      <td>1.19999</td>\n",
       "      <td>1.19999</td>\n",
       "      <td>0.000000</td>\n",
       "      <td>0.000000</td>\n",
       "    </tr>\n",
       "    <tr>\n",
       "      <th>2015-08-10</th>\n",
       "      <td>1.19999</td>\n",
       "      <td>1.19999</td>\n",
       "      <td>1.19999</td>\n",
       "      <td>1.19999</td>\n",
       "      <td>1.19999</td>\n",
       "      <td>1.19999</td>\n",
       "      <td>1.19999</td>\n",
       "      <td>1.19999</td>\n",
       "      <td>0.000000</td>\n",
       "      <td>0.000000</td>\n",
       "    </tr>\n",
       "    <tr>\n",
       "      <th>2015-08-11</th>\n",
       "      <td>1.19999</td>\n",
       "      <td>1.19999</td>\n",
       "      <td>1.19999</td>\n",
       "      <td>1.19999</td>\n",
       "      <td>0.65038</td>\n",
       "      <td>0.65038</td>\n",
       "      <td>0.99000</td>\n",
       "      <td>0.99000</td>\n",
       "      <td>9234.568705</td>\n",
       "      <td>9142.223018</td>\n",
       "    </tr>\n",
       "    <tr>\n",
       "      <th>2015-08-12</th>\n",
       "      <td>0.99000</td>\n",
       "      <td>0.99000</td>\n",
       "      <td>1.28800</td>\n",
       "      <td>1.28800</td>\n",
       "      <td>0.90500</td>\n",
       "      <td>0.90500</td>\n",
       "      <td>1.28800</td>\n",
       "      <td>1.28800</td>\n",
       "      <td>1736.114983</td>\n",
       "      <td>2236.116098</td>\n",
       "    </tr>\n",
       "  </tbody>\n",
       "</table>\n",
       "</div>"
      ],
      "text/plain": [
       "            1a. open (USD)  1b. open (USD)  2a. high (USD)  2b. high (USD)  \\\n",
       "date                                                                         \n",
       "2015-08-08         3.00000         3.00000         3.00000         3.00000   \n",
       "2015-08-09         1.19999         1.19999         1.19999         1.19999   \n",
       "2015-08-10         1.19999         1.19999         1.19999         1.19999   \n",
       "2015-08-11         1.19999         1.19999         1.19999         1.19999   \n",
       "2015-08-12         0.99000         0.99000         1.28800         1.28800   \n",
       "\n",
       "            3a. low (USD)  3b. low (USD)  4a. close (USD)  4b. close (USD)  \\\n",
       "date                                                                         \n",
       "2015-08-08        0.15000        0.15000          1.19999          1.19999   \n",
       "2015-08-09        1.19999        1.19999          1.19999          1.19999   \n",
       "2015-08-10        1.19999        1.19999          1.19999          1.19999   \n",
       "2015-08-11        0.65038        0.65038          0.99000          0.99000   \n",
       "2015-08-12        0.90500        0.90500          1.28800          1.28800   \n",
       "\n",
       "              5. volume  6. market cap (USD)  \n",
       "date                                          \n",
       "2015-08-08  1942.888147          2331.446348  \n",
       "2015-08-09     0.000000             0.000000  \n",
       "2015-08-10     0.000000             0.000000  \n",
       "2015-08-11  9234.568705          9142.223018  \n",
       "2015-08-12  1736.114983          2236.116098  "
      ]
     },
     "execution_count": 32,
     "metadata": {},
     "output_type": "execute_result"
    }
   ],
   "source": [
    "ETH_data.head()"
   ]
  },
  {
   "cell_type": "code",
   "execution_count": 33,
   "metadata": {},
   "outputs": [
    {
     "data": {
      "text/plain": [
       "Index(['1a. open (USD)', '1b. open (USD)', '2a. high (USD)', '2b. high (USD)',\n",
       "       '3a. low (USD)', '3b. low (USD)', '4a. close (USD)', '4b. close (USD)',\n",
       "       '5. volume', '6. market cap (USD)'],\n",
       "      dtype='object')"
      ]
     },
     "execution_count": 33,
     "metadata": {},
     "output_type": "execute_result"
    }
   ],
   "source": [
    "ETH_data.columns"
   ]
  },
  {
   "cell_type": "code",
   "execution_count": 34,
   "metadata": {},
   "outputs": [],
   "source": [
    "ETH_data = ETH_data.drop(['1b. open (USD)', '2b. high (USD)', '3b. low (USD)', '4b. close (USD)'], axis=1)"
   ]
  },
  {
   "cell_type": "code",
   "execution_count": 35,
   "metadata": {},
   "outputs": [],
   "source": [
    "ETH_data.to_csv('ETH.csv')"
   ]
  },
  {
   "cell_type": "code",
   "execution_count": null,
   "metadata": {},
   "outputs": [],
   "source": []
  },
  {
   "cell_type": "code",
   "execution_count": 36,
   "metadata": {},
   "outputs": [],
   "source": [
    "#repeated process for another cryptocurrency\n",
    "cc = CryptoCurrencies(key=apikey, output_format='pandas')\n",
    "XRP_data, XRP_meta = cc.get_digital_currency_daily(symbol='XRP', market='USD')\n"
   ]
  },
  {
   "cell_type": "code",
   "execution_count": 37,
   "metadata": {},
   "outputs": [
    {
     "data": {
      "text/plain": [
       "{'1. Information': 'Daily Prices and Volumes for Digital Currency',\n",
       " '2. Digital Currency Code': 'XRP',\n",
       " '3. Digital Currency Name': 'Ripple',\n",
       " '4. Market Code': 'USD',\n",
       " '5. Market Name': 'United States Dollar',\n",
       " '6. Last Refreshed': '2019-02-12 (end of day)',\n",
       " '7. Time Zone': 'UTC'}"
      ]
     },
     "execution_count": 37,
     "metadata": {},
     "output_type": "execute_result"
    }
   ],
   "source": [
    "XRP_meta"
   ]
  },
  {
   "cell_type": "code",
   "execution_count": 38,
   "metadata": {},
   "outputs": [
    {
     "data": {
      "text/html": [
       "<div>\n",
       "<style scoped>\n",
       "    .dataframe tbody tr th:only-of-type {\n",
       "        vertical-align: middle;\n",
       "    }\n",
       "\n",
       "    .dataframe tbody tr th {\n",
       "        vertical-align: top;\n",
       "    }\n",
       "\n",
       "    .dataframe thead th {\n",
       "        text-align: right;\n",
       "    }\n",
       "</style>\n",
       "<table border=\"1\" class=\"dataframe\">\n",
       "  <thead>\n",
       "    <tr style=\"text-align: right;\">\n",
       "      <th></th>\n",
       "      <th>1a. open (USD)</th>\n",
       "      <th>1b. open (USD)</th>\n",
       "      <th>2a. high (USD)</th>\n",
       "      <th>2b. high (USD)</th>\n",
       "      <th>3a. low (USD)</th>\n",
       "      <th>3b. low (USD)</th>\n",
       "      <th>4a. close (USD)</th>\n",
       "      <th>4b. close (USD)</th>\n",
       "      <th>5. volume</th>\n",
       "      <th>6. market cap (USD)</th>\n",
       "    </tr>\n",
       "    <tr>\n",
       "      <th>date</th>\n",
       "      <th></th>\n",
       "      <th></th>\n",
       "      <th></th>\n",
       "      <th></th>\n",
       "      <th></th>\n",
       "      <th></th>\n",
       "      <th></th>\n",
       "      <th></th>\n",
       "      <th></th>\n",
       "      <th></th>\n",
       "    </tr>\n",
       "  </thead>\n",
       "  <tbody>\n",
       "    <tr>\n",
       "      <th>2014-04-09</th>\n",
       "      <td>0.009407</td>\n",
       "      <td>0.009407</td>\n",
       "      <td>0.009407</td>\n",
       "      <td>0.009407</td>\n",
       "      <td>0.008333</td>\n",
       "      <td>0.008333</td>\n",
       "      <td>0.008333</td>\n",
       "      <td>0.008333</td>\n",
       "      <td>1658.399999</td>\n",
       "      <td>13.820000</td>\n",
       "    </tr>\n",
       "    <tr>\n",
       "      <th>2014-04-10</th>\n",
       "      <td>0.008333</td>\n",
       "      <td>0.008333</td>\n",
       "      <td>0.008333</td>\n",
       "      <td>0.008333</td>\n",
       "      <td>0.006796</td>\n",
       "      <td>0.006796</td>\n",
       "      <td>0.006796</td>\n",
       "      <td>0.006796</td>\n",
       "      <td>10037.029375</td>\n",
       "      <td>68.216000</td>\n",
       "    </tr>\n",
       "    <tr>\n",
       "      <th>2014-04-11</th>\n",
       "      <td>0.006796</td>\n",
       "      <td>0.006796</td>\n",
       "      <td>0.006983</td>\n",
       "      <td>0.006983</td>\n",
       "      <td>0.006727</td>\n",
       "      <td>0.006727</td>\n",
       "      <td>0.006727</td>\n",
       "      <td>0.006727</td>\n",
       "      <td>184.338400</td>\n",
       "      <td>1.240000</td>\n",
       "    </tr>\n",
       "    <tr>\n",
       "      <th>2014-04-12</th>\n",
       "      <td>0.006727</td>\n",
       "      <td>0.006727</td>\n",
       "      <td>0.006893</td>\n",
       "      <td>0.006893</td>\n",
       "      <td>0.006727</td>\n",
       "      <td>0.006727</td>\n",
       "      <td>0.006880</td>\n",
       "      <td>0.006880</td>\n",
       "      <td>7965.670792</td>\n",
       "      <td>54.803000</td>\n",
       "    </tr>\n",
       "    <tr>\n",
       "      <th>2014-04-13</th>\n",
       "      <td>0.006880</td>\n",
       "      <td>0.006880</td>\n",
       "      <td>0.006880</td>\n",
       "      <td>0.006880</td>\n",
       "      <td>0.006515</td>\n",
       "      <td>0.006515</td>\n",
       "      <td>0.006515</td>\n",
       "      <td>0.006515</td>\n",
       "      <td>91.700000</td>\n",
       "      <td>0.597468</td>\n",
       "    </tr>\n",
       "  </tbody>\n",
       "</table>\n",
       "</div>"
      ],
      "text/plain": [
       "            1a. open (USD)  1b. open (USD)  2a. high (USD)  2b. high (USD)  \\\n",
       "date                                                                         \n",
       "2014-04-09        0.009407        0.009407        0.009407        0.009407   \n",
       "2014-04-10        0.008333        0.008333        0.008333        0.008333   \n",
       "2014-04-11        0.006796        0.006796        0.006983        0.006983   \n",
       "2014-04-12        0.006727        0.006727        0.006893        0.006893   \n",
       "2014-04-13        0.006880        0.006880        0.006880        0.006880   \n",
       "\n",
       "            3a. low (USD)  3b. low (USD)  4a. close (USD)  4b. close (USD)  \\\n",
       "date                                                                         \n",
       "2014-04-09       0.008333       0.008333         0.008333         0.008333   \n",
       "2014-04-10       0.006796       0.006796         0.006796         0.006796   \n",
       "2014-04-11       0.006727       0.006727         0.006727         0.006727   \n",
       "2014-04-12       0.006727       0.006727         0.006880         0.006880   \n",
       "2014-04-13       0.006515       0.006515         0.006515         0.006515   \n",
       "\n",
       "               5. volume  6. market cap (USD)  \n",
       "date                                           \n",
       "2014-04-09   1658.399999            13.820000  \n",
       "2014-04-10  10037.029375            68.216000  \n",
       "2014-04-11    184.338400             1.240000  \n",
       "2014-04-12   7965.670792            54.803000  \n",
       "2014-04-13     91.700000             0.597468  "
      ]
     },
     "execution_count": 38,
     "metadata": {},
     "output_type": "execute_result"
    }
   ],
   "source": [
    "XRP_data.head()"
   ]
  },
  {
   "cell_type": "code",
   "execution_count": 39,
   "metadata": {},
   "outputs": [
    {
     "data": {
      "text/plain": [
       "Index(['1a. open (USD)', '1b. open (USD)', '2a. high (USD)', '2b. high (USD)',\n",
       "       '3a. low (USD)', '3b. low (USD)', '4a. close (USD)', '4b. close (USD)',\n",
       "       '5. volume', '6. market cap (USD)'],\n",
       "      dtype='object')"
      ]
     },
     "execution_count": 39,
     "metadata": {},
     "output_type": "execute_result"
    }
   ],
   "source": [
    "XRP_data.columns"
   ]
  },
  {
   "cell_type": "code",
   "execution_count": 40,
   "metadata": {},
   "outputs": [],
   "source": [
    "XRP_data = XRP_data.drop(['1b. open (USD)', '2b. high (USD)', '3b. low (USD)', '4b. close (USD)'], axis=1)"
   ]
  },
  {
   "cell_type": "code",
   "execution_count": 41,
   "metadata": {},
   "outputs": [],
   "source": [
    "XRP_data.to_csv('XRP.csv')"
   ]
  },
  {
   "cell_type": "code",
   "execution_count": null,
   "metadata": {},
   "outputs": [],
   "source": []
  }
 ],
 "metadata": {
  "kernelspec": {
   "display_name": "learn-env",
   "language": "python",
   "name": "learn-env"
  },
  "language_info": {
   "codemirror_mode": {
    "name": "ipython",
    "version": 3
   },
   "file_extension": ".py",
   "mimetype": "text/x-python",
   "name": "python",
   "nbconvert_exporter": "python",
   "pygments_lexer": "ipython3",
   "version": "3.6.6"
  }
 },
 "nbformat": 4,
 "nbformat_minor": 2
}
