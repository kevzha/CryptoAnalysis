{
 "cells": [
  {
   "cell_type": "code",
   "execution_count": 1,
   "metadata": {},
   "outputs": [],
   "source": [
    "import pandas as pd\n",
    "import matplotlib.pyplot as plt\n",
    "import seaborn as sns\n",
    "import numpy as np\n",
    "%matplotlib inline\n"
   ]
  },
  {
   "cell_type": "code",
   "execution_count": 2,
   "metadata": {},
   "outputs": [],
   "source": [
    "pct_change = pd.read_csv('pct_change.csv').drop(['Unnamed: 0'], axis=1)\n",
    "closing_price = pd.read_csv('closing_price.csv').drop(['Unnamed: 0'], axis=1)"
   ]
  },
  {
   "cell_type": "code",
   "execution_count": 3,
   "metadata": {},
   "outputs": [
    {
     "data": {
      "text/html": [
       "<div>\n",
       "<style scoped>\n",
       "    .dataframe tbody tr th:only-of-type {\n",
       "        vertical-align: middle;\n",
       "    }\n",
       "\n",
       "    .dataframe tbody tr th {\n",
       "        vertical-align: top;\n",
       "    }\n",
       "\n",
       "    .dataframe thead th {\n",
       "        text-align: right;\n",
       "    }\n",
       "</style>\n",
       "<table border=\"1\" class=\"dataframe\">\n",
       "  <thead>\n",
       "    <tr style=\"text-align: right;\">\n",
       "      <th></th>\n",
       "      <th>Date</th>\n",
       "      <th>BTC Pct Change</th>\n",
       "      <th>ETH Pct Change</th>\n",
       "      <th>XRP Pct Change</th>\n",
       "      <th>DOGE Pct Change</th>\n",
       "      <th>VET Pct Change</th>\n",
       "      <th>TUSD Pct Change</th>\n",
       "      <th>XVG Pct Change</th>\n",
       "      <th>AE Pct Change</th>\n",
       "      <th>STRAT Pct Change</th>\n",
       "      <th>LRC Pct Change</th>\n",
       "      <th>AOA Pct Change</th>\n",
       "      <th>QNT Pct Change</th>\n",
       "      <th>WAN Pct Change</th>\n",
       "      <th>ELA Pct Change</th>\n",
       "      <th>KCS Pct Change</th>\n",
       "    </tr>\n",
       "  </thead>\n",
       "  <tbody>\n",
       "    <tr>\n",
       "      <th>0</th>\n",
       "      <td>2019-02-11</td>\n",
       "      <td>-0.011796</td>\n",
       "      <td>-0.030340</td>\n",
       "      <td>-0.014931</td>\n",
       "      <td>0.023804</td>\n",
       "      <td>-0.003823</td>\n",
       "      <td>-0.009804</td>\n",
       "      <td>-0.008929</td>\n",
       "      <td>-0.006203</td>\n",
       "      <td>-0.018426</td>\n",
       "      <td>0.001004</td>\n",
       "      <td>0.032143</td>\n",
       "      <td>-0.080645</td>\n",
       "      <td>-0.005855</td>\n",
       "      <td>0.056338</td>\n",
       "      <td>0.033865</td>\n",
       "    </tr>\n",
       "    <tr>\n",
       "      <th>1</th>\n",
       "      <td>2019-02-10</td>\n",
       "      <td>0.005950</td>\n",
       "      <td>0.043197</td>\n",
       "      <td>-0.005581</td>\n",
       "      <td>0.008173</td>\n",
       "      <td>0.034536</td>\n",
       "      <td>0.009901</td>\n",
       "      <td>0.029530</td>\n",
       "      <td>0.017913</td>\n",
       "      <td>-0.003235</td>\n",
       "      <td>0.027124</td>\n",
       "      <td>-0.044450</td>\n",
       "      <td>0.162907</td>\n",
       "      <td>-0.005638</td>\n",
       "      <td>0.048889</td>\n",
       "      <td>0.029143</td>\n",
       "    </tr>\n",
       "  </tbody>\n",
       "</table>\n",
       "</div>"
      ],
      "text/plain": [
       "         Date  BTC Pct Change  ETH Pct Change  XRP Pct Change  \\\n",
       "0  2019-02-11       -0.011796       -0.030340       -0.014931   \n",
       "1  2019-02-10        0.005950        0.043197       -0.005581   \n",
       "\n",
       "   DOGE Pct Change  VET Pct Change  TUSD Pct Change  XVG Pct Change  \\\n",
       "0         0.023804       -0.003823        -0.009804       -0.008929   \n",
       "1         0.008173        0.034536         0.009901        0.029530   \n",
       "\n",
       "   AE Pct Change  STRAT Pct Change  LRC Pct Change  AOA Pct Change  \\\n",
       "0      -0.006203         -0.018426        0.001004        0.032143   \n",
       "1       0.017913         -0.003235        0.027124       -0.044450   \n",
       "\n",
       "   QNT Pct Change  WAN Pct Change  ELA Pct Change  KCS Pct Change  \n",
       "0       -0.080645       -0.005855        0.056338        0.033865  \n",
       "1        0.162907       -0.005638        0.048889        0.029143  "
      ]
     },
     "execution_count": 3,
     "metadata": {},
     "output_type": "execute_result"
    }
   ],
   "source": [
    "pct_change.head(2)"
   ]
  },
  {
   "cell_type": "code",
   "execution_count": 19,
   "metadata": {},
   "outputs": [],
   "source": [
    "top_3 = (pct_change['BTC Pct Change']+pct_change['ETH Pct Change']+pct_change['XRP Pct Change'])/3\n",
    "bot_3 = (pct_change['WAN Pct Change']+pct_change['ELA Pct Change']+pct_change['KCS Pct Change'])/3"
   ]
  },
  {
   "cell_type": "code",
   "execution_count": 33,
   "metadata": {},
   "outputs": [],
   "source": [
    "def graph_subs(d1,d2, name):\n",
    "    #linear regression line calculation\n",
    "    x = np.array(d1)\n",
    "    y = np.array(d2)\n",
    "    m, b = np.polyfit(x, y, 1)\n",
    "\n",
    "    #plot percent changes of two coins with origin axis and major/minor grid\n",
    "    fig, ax = plt.subplots()\n",
    "    ax.grid(True, which='both')\n",
    "    ax.axhline(y=0, color='k')\n",
    "    ax.axvline(x=0, color='k')\n",
    "\n",
    "    #ploting percent changes of two coins against each other\n",
    "    plt.scatter(d1, d2, color = 'blue')\n",
    "    #plotting linear regression line from the scatter plot\n",
    "    plt.plot(x, x*m + b, 'red')\n",
    "    #title\n",
    "    plt.title(name)\n",
    "\n",
    "    #regression line equation\n",
    "    ax.annotate(f\"y={round(m,3)}+{round(b,5)}\", xy=(0, 0), xytext=(-0.14, .17))"
   ]
  },
  {
   "cell_type": "code",
   "execution_count": 34,
   "metadata": {},
   "outputs": [
    {
     "data": {
      "image/png": "[encoded data removed]",
      "text/plain": [
       "<Figure size 432x288 with 1 Axes>"
      ]
     },
     "metadata": {
      "needs_background": "light"
     },
     "output_type": "display_data"
    }
   ],
   "source": [
    "graph_subs(top_3, bot_3, 'Top3 Bot3')"
   ]
  },
  {
   "cell_type": "code",
   "execution_count": null,
   "metadata": {},
   "outputs": [],
   "source": []
  }
 ],
 "metadata": {
  "kernelspec": {
   "display_name": "Python 3",
   "language": "python",
   "name": "python3"
  },
  "language_info": {
   "codemirror_mode": {
    "name": "ipython",
    "version": 3
   },
   "file_extension": ".py",
   "mimetype": "text/x-python",
   "name": "python",
   "nbconvert_exporter": "python",
   "pygments_lexer": "ipython3",
   "version": "3.7.1"
  }
 },
 "nbformat": 4,
 "nbformat_minor": 2
}
