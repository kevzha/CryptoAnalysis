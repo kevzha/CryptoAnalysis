{
 "cells": [
  {
   "cell_type": "code",
   "execution_count": 14,
   "metadata": {},
   "outputs": [
    {
     "name": "stdout",
     "output_type": "stream",
     "text": [
      "Requirement already satisfied: alpha_vantage in /anaconda3/lib/python3.7/site-packages (2.1.0)\n",
      "Requirement already satisfied: requests in /anaconda3/lib/python3.7/site-packages (from alpha_vantage) (2.21.0)\n",
      "Requirement already satisfied: chardet<3.1.0,>=3.0.2 in /anaconda3/lib/python3.7/site-packages (from requests->alpha_vantage) (3.0.4)\n",
      "Requirement already satisfied: idna<2.9,>=2.5 in /anaconda3/lib/python3.7/site-packages (from requests->alpha_vantage) (2.8)\n",
      "Requirement already satisfied: certifi>=2017.4.17 in /anaconda3/lib/python3.7/site-packages (from requests->alpha_vantage) (2018.11.29)\n",
      "Requirement already satisfied: urllib3<1.25,>=1.21.1 in /anaconda3/lib/python3.7/site-packages (from requests->alpha_vantage) (1.24.1)\n"
     ]
    }
   ],
   "source": [
    "#importing the required tools\n",
    "\n",
    "#alpha vantage tools\n",
    "!pip install alpha_vantage\n",
    "import alpha_vantage\n",
    "%matplotlib inline\n",
    "from alpha_vantage.timeseries import TimeSeries\n",
    "from alpha_vantage.cryptocurrencies import CryptoCurrencies\n",
    "\n",
    "#dataframe and calculations libraries\n",
    "import pandas as pd\n",
    "import matplotlib.pyplot as plt\n",
    "import numpy as np\n",
    "import seaborn as sns"
   ]
  },
  {
   "cell_type": "code",
   "execution_count": null,
   "metadata": {},
   "outputs": [],
   "source": []
  },
  {
   "cell_type": "code",
   "execution_count": 12,
   "metadata": {},
   "outputs": [],
   "source": [
    "#Alpha Vantage API\n",
    "\n",
    "#apikey obtained through alpha vantage website\n",
    "apikey = 'JJXIFEPV0N66DTON'\n",
    "\n",
    "#alpha vantage api syntax, requiring a function, symbol and market\n",
    "#using the apikey to access api, resulted in output being a pandas dataframe\n",
    "cc = CryptoCurrencies(key=apikey, output_format='pandas')\n",
    "BTC_data, BTC_meta = cc.get_digital_currency_daily(symbol='BTC', market='USD')\n"
   ]
  },
  {
   "cell_type": "code",
   "execution_count": 8,
   "metadata": {},
   "outputs": [
    {
     "data": {
      "text/html": [
       "<div>\n",
       "<style scoped>\n",
       "    .dataframe tbody tr th:only-of-type {\n",
       "        vertical-align: middle;\n",
       "    }\n",
       "\n",
       "    .dataframe tbody tr th {\n",
       "        vertical-align: top;\n",
       "    }\n",
       "\n",
       "    .dataframe thead th {\n",
       "        text-align: right;\n",
       "    }\n",
       "</style>\n",
       "<table border=\"1\" class=\"dataframe\">\n",
       "  <thead>\n",
       "    <tr style=\"text-align: right;\">\n",
       "      <th></th>\n",
       "      <th>1a. open (USD)</th>\n",
       "      <th>1b. open (USD)</th>\n",
       "      <th>2a. high (USD)</th>\n",
       "      <th>2b. high (USD)</th>\n",
       "      <th>3a. low (USD)</th>\n",
       "      <th>3b. low (USD)</th>\n",
       "      <th>4a. close (USD)</th>\n",
       "      <th>4b. close (USD)</th>\n",
       "      <th>5. volume</th>\n",
       "      <th>6. market cap (USD)</th>\n",
       "    </tr>\n",
       "    <tr>\n",
       "      <th>date</th>\n",
       "      <th></th>\n",
       "      <th></th>\n",
       "      <th></th>\n",
       "      <th></th>\n",
       "      <th></th>\n",
       "      <th></th>\n",
       "      <th></th>\n",
       "      <th></th>\n",
       "      <th></th>\n",
       "      <th></th>\n",
       "    </tr>\n",
       "  </thead>\n",
       "  <tbody>\n",
       "    <tr>\n",
       "      <th>2014-04-01</th>\n",
       "      <td>468.480106</td>\n",
       "      <td>468.480106</td>\n",
       "      <td>491.267273</td>\n",
       "      <td>491.267273</td>\n",
       "      <td>468.480106</td>\n",
       "      <td>468.480106</td>\n",
       "      <td>479.023434</td>\n",
       "      <td>479.023434</td>\n",
       "      <td>62894.683068</td>\n",
       "      <td>3.012803e+07</td>\n",
       "    </tr>\n",
       "    <tr>\n",
       "      <th>2014-04-02</th>\n",
       "      <td>479.679615</td>\n",
       "      <td>479.679615</td>\n",
       "      <td>494.111337</td>\n",
       "      <td>494.111337</td>\n",
       "      <td>430.725909</td>\n",
       "      <td>430.725909</td>\n",
       "      <td>438.377824</td>\n",
       "      <td>438.377824</td>\n",
       "      <td>96314.587552</td>\n",
       "      <td>4.222218e+07</td>\n",
       "    </tr>\n",
       "  </tbody>\n",
       "</table>\n",
       "</div>"
      ],
      "text/plain": [
       "            1a. open (USD)  1b. open (USD)  2a. high (USD)  2b. high (USD)  \\\n",
       "date                                                                         \n",
       "2014-04-01      468.480106      468.480106      491.267273      491.267273   \n",
       "2014-04-02      479.679615      479.679615      494.111337      494.111337   \n",
       "\n",
       "            3a. low (USD)  3b. low (USD)  4a. close (USD)  4b. close (USD)  \\\n",
       "date                                                                         \n",
       "2014-04-01     468.480106     468.480106       479.023434       479.023434   \n",
       "2014-04-02     430.725909     430.725909       438.377824       438.377824   \n",
       "\n",
       "               5. volume  6. market cap (USD)  \n",
       "date                                           \n",
       "2014-04-01  62894.683068         3.012803e+07  \n",
       "2014-04-02  96314.587552         4.222218e+07  "
      ]
     },
     "execution_count": 8,
     "metadata": {},
     "output_type": "execute_result"
    }
   ],
   "source": [
    "#Example Results\n",
    "BTC_data.head(2)"
   ]
  },
  {
   "cell_type": "code",
   "execution_count": 10,
   "metadata": {},
   "outputs": [
    {
     "data": {
      "text/plain": [
       "{'1. Information': 'Daily Prices and Volumes for Digital Currency',\n",
       " '2. Digital Currency Code': 'BTC',\n",
       " '3. Digital Currency Name': 'Bitcoin',\n",
       " '4. Market Code': 'USD',\n",
       " '5. Market Name': 'United States Dollar',\n",
       " '6. Last Refreshed': '2019-02-14 (end of day)',\n",
       " '7. Time Zone': 'UTC'}"
      ]
     },
     "execution_count": 10,
     "metadata": {},
     "output_type": "execute_result"
    }
   ],
   "source": [
    "#Example Results (cont.)\n",
    "BTC_meta"
   ]
  },
  {
   "cell_type": "code",
   "execution_count": null,
   "metadata": {},
   "outputs": [],
   "source": [
    "#dropping duplicated columns\n",
    "BTC_data = BTC_data.drop(['1b. open (USD)', '2b. high (USD)', '3b. low (USD)', '4b. close (USD)'], axis=1)\n",
    "\n",
    "#reformatting column names\n",
    "BTC = BTC.rename(columns={\"1a. open (USD)\": \"Open(USD)\",\"2a. high (USD)\": \"High(USD)\", \n",
    "                    '3a. low (USD)':'Low(USD)', '4a. close (USD)':'Close(USD)', \n",
    "                   '5. volume': 'Volume', '6. market cap (USD)': 'Market Cap(USD)','date': 'Date' })\n",
    "\n",
    "#reversing given dataset to have most recent data at the top\n",
    "BTCreindex= BTC.reindex(index=BTC.index[::-1])\n",
    "\n",
    "#reshaping dataset to include up to our lowest limiter crypto(one of the cryptos started last year)\n",
    "BTCreshape = BTCreindex.drop(BTCreindex.index[327:])"
   ]
  },
  {
   "cell_type": "code",
   "execution_count": null,
   "metadata": {},
   "outputs": [],
   "source": [
    "#calculating percent change of Closing Prices\n",
    "BTC_close_pctchange = BTC.loc[:,'Close(USD)'].pct_change()\n",
    "\n",
    "#Due to first row being used to calculate percent change with the day before, there is no pcercent change for row 0\n",
    "BTC = BTC.drop([0])"
   ]
  },
  {
   "cell_type": "code",
   "execution_count": null,
   "metadata": {},
   "outputs": [],
   "source": [
    "#pulling together columns of percent change for all the coins into one dataframe\n",
    "\n",
    "#Following process was repeated for creating a Closing Price dataframe with changes to variable and column names\n",
    "#renaming column so all the columns pulled together is not the same\n",
    "BTC = BTC.rename(columns={\"Close Percent Change\": \"CPC1\"})\n",
    "\n",
    "#concatenating percent change columns with the date column being pulled from bitcoin data\n",
    "pct_change = pd.concat([BTC.loc[:, ['Date']], BTC.loc[:, ['CPC1']], ETH.loc[:, ['CPC2']], XRP.loc[:, ['CPC3']],\n",
    "                        DOGE.loc[:, ['CPC4']], VET.loc[:, ['CPC5']], TUSD.loc[:, ['CPC6']], XVG.loc[:, ['CPC7']],\n",
    "                        AE.loc[:, ['CPC8']], STRAT.loc[:, ['CPC9']], LRC.loc[:, ['CPC10']], AOA.loc[:, ['CPC11']],\n",
    "                        QNT.loc[:, ['CPC12']], WAN.loc[:, ['CPC13']], ELA.loc[:, ['CPC14']], KCS.loc[:, ['CPC15']]], \n",
    "                       axis=1, join_axes=[BTC.index]) \n",
    "\n",
    "#changing the column names into the intended labels\n",
    "pct_change = pct_change.rename(columns={ pct_change.columns[1]: \"BTC Pct Change\", pct_change.columns[2]: \"ETH Pct Change\",\n",
    "                                       pct_change.columns[3]: \"XRP Pct Change\", pct_change.columns[4]: \"DOGE Pct Change\",\n",
    "                                        pct_change.columns[5]: \"VET Pct Change\", pct_change.columns[6]: \"TUSD Pct Change\",\n",
    "                                        pct_change.columns[7]: \"XVG Pct Change\", pct_change.columns[8]: \"AE Pct Change\",\n",
    "                                        pct_change.columns[9]: \"STRAT Pct Change\", pct_change.columns[10]: \"LRC Pct Change\",\n",
    "                                        pct_change.columns[11]: \"AOA Pct Change\", pct_change.columns[12]: \"QNT Pct Change\",\n",
    "                                        pct_change.columns[13]: \"WAN Pct Change\", pct_change.columns[14]: \"ELA Pct Change\",\n",
    "                                       pct_change.columns[15]: \"KCS Pct Change\"})\n",
    "\n"
   ]
  },
  {
   "cell_type": "code",
   "execution_count": null,
   "metadata": {},
   "outputs": [],
   "source": [
    "#Obtainting a dataframe of TRUE or FALSE for positive or negative percent changes\n",
    "\n",
    "#made a copy of original percent change dataframe\n",
    "pct_change_tf = pct_change.copy()\n",
    "\n",
    "#looped through each of the cells individually and determined if it was true or false, assigning that value to the copy frame\n",
    "for col in pct_change.columns:\n",
    "    if col != 'Date':\n",
    "        for i in list(range(0, len(pct_change[col]))):\n",
    "            if pct_change[col][i] > 0:\n",
    "                pct_change_tf[col][i] =True\n",
    "            else: \n",
    "                pct_change_tf[col][i] =False\n",
    "\n",
    "#obtaining the total positives in a dictionary with the coins\n",
    "tot_pos = {}\n",
    "for col in pct_change_tf.columns:\n",
    "    if col != 'Date':\n",
    "        tot_pos[col] = round((sum(pct_change_tf[col])/len(pct_change_tf[col]))*100, 2)\n",
    "\n",
    "        "
   ]
  },
  {
   "cell_type": "code",
   "execution_count": 15,
   "metadata": {},
   "outputs": [],
   "source": [
    "#Reading the CSVs created from the parts above\n",
    "pct_change = pd.read_csv('pct_change.csv').drop(['Unnamed: 0'], axis=1)\n",
    "closing_price = pd.read_csv('closing_price.csv').drop(['Unnamed: 0'], axis=1)"
   ]
  },
  {
   "cell_type": "code",
   "execution_count": 16,
   "metadata": {
    "scrolled": false
   },
   "outputs": [
    {
     "data": {
      "text/plain": [
       "Text(-0.14, 0.17, 'y=,1.296,+,-0.00044')"
      ]
     },
     "execution_count": 16,
     "metadata": {},
     "output_type": "execute_result"
    },
    {
     "data": {
      "image/png": "[encoded data removed]",
      "text/plain": [
       "<Figure size 432x288 with 1 Axes>"
      ]
     },
     "metadata": {
      "needs_background": "light"
     },
     "output_type": "display_data"
    }
   ],
   "source": [
    "#Visualization\n",
    "\n",
    "#Plotting percent change comparisions:\n",
    "#linear regression line calculation\n",
    "x = np.array(pct_change['BTC Pct Change'])\n",
    "y = np.array(pct_change['ETH Pct Change'])\n",
    "m, b = np.polyfit(x, y, 1)\n",
    "\n",
    "#plot percent changes of two coins with origin axis and major/minor grid\n",
    "fig, ax = plt.subplots()\n",
    "ax.grid(True, which='both')\n",
    "ax.axhline(y=0, color='k')\n",
    "ax.axvline(x=0, color='k')\n",
    "\n",
    "#ploting percent changes of two coins against each other\n",
    "plt.scatter(pct_change['BTC Pct Change'], pct_change['ETH Pct Change'], color = 'blue')\n",
    "#plotting linear regression line from the scatter plot\n",
    "plt.plot(x, x*m + b, 'red')\n",
    "#title\n",
    "plt.title('BTC ETH')\n",
    "\n",
    "#regression line equation\n",
    "ax.annotate(f\"y=,{round(m,3)},+,{round(b,5)}\", xy=(0, 0), xytext=(-0.14, .17))\n",
    "\n",
    "#exporting plot\n",
    "#plt.savefig('BTC_ETH_scatter_regression.png', bbox_inches = 'tight', dpi = 400)\n"
   ]
  },
  {
   "cell_type": "code",
   "execution_count": 23,
   "metadata": {},
   "outputs": [
    {
     "data": {
      "text/plain": [
       "[<matplotlib.lines.Line2D at 0x1a1b603630>]"
      ]
     },
     "execution_count": 23,
     "metadata": {},
     "output_type": "execute_result"
    },
    {
     "data": {
      "image/png": "[encoded data removed]",
      "text/plain": [
       "<Figure size 432x288 with 1 Axes>"
      ]
     },
     "metadata": {
      "needs_background": "light"
     },
     "output_type": "display_data"
    }
   ],
   "source": [
    "#Miscellaneous Calculations and Plotting\n",
    "\n",
    "#daily return calculations (based on the complete data of BTC)\n",
    "BTC_whole_daily = round((BTC_whole['Close(USD)']-BTC_whole['Open(USD)'])/BTC_whole['Open(USD)']*100,2)\n",
    "\n",
    "#plotting daily returns -takes lone time to run-\n",
    "plt.scatter(BTC_whole['Date'],BTC_whole_daily)\n",
    "\n",
    "#Plotting Closing prices over the data length with an inverted x-axis to have right side being present day\n",
    "plt.gca().invert_xaxis()\n",
    "plt.plot(closing_price['BTC Closing Price'])"
   ]
  },
  {
   "cell_type": "code",
   "execution_count": null,
   "metadata": {},
   "outputs": [],
   "source": []
  }
 ],
 "metadata": {
  "kernelspec": {
   "display_name": "Python 3",
   "language": "python",
   "name": "python3"
  },
  "language_info": {
   "codemirror_mode": {
    "name": "ipython",
    "version": 3
   },
   "file_extension": ".py",
   "mimetype": "text/x-python",
   "name": "python",
   "nbconvert_exporter": "python",
   "pygments_lexer": "ipython3",
   "version": "3.7.1"
  }
 },
 "nbformat": 4,
 "nbformat_minor": 2
}
